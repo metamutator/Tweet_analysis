{
 "cells": [
  {
   "cell_type": "markdown",
   "metadata": {},
   "source": [
    "# Simple Tweet Analysis"
   ]
  },
  {
   "cell_type": "code",
   "execution_count": 1,
   "metadata": {},
   "outputs": [
    {
     "name": "stderr",
     "output_type": "stream",
     "text": [
      "C:\\Users\\aksha\\AppData\\Local\\conda\\conda\\envs\\tweet_analysis\\lib\\importlib\\_bootstrap.py:222: RuntimeWarning: numpy.dtype size changed, may indicate binary incompatibility. Expected 96, got 88\n",
      "  return f(*args, **kwds)\n",
      "C:\\Users\\aksha\\AppData\\Local\\conda\\conda\\envs\\tweet_analysis\\lib\\importlib\\_bootstrap.py:222: RuntimeWarning: numpy.ufunc size changed, may indicate binary incompatibility. Expected 192, got 176\n",
      "  return f(*args, **kwds)\n",
      "C:\\Users\\aksha\\AppData\\Local\\conda\\conda\\envs\\tweet_analysis\\lib\\importlib\\_bootstrap.py:222: RuntimeWarning: numpy.dtype size changed, may indicate binary incompatibility. Expected 96, got 88\n",
      "  return f(*args, **kwds)\n",
      "C:\\Users\\aksha\\AppData\\Local\\conda\\conda\\envs\\tweet_analysis\\lib\\importlib\\_bootstrap.py:222: RuntimeWarning: numpy.ufunc size changed, may indicate binary incompatibility. Expected 192, got 176\n",
      "  return f(*args, **kwds)\n",
      "Using TensorFlow backend.\n"
     ]
    }
   ],
   "source": [
    "# Import libraries \n",
    "import numpy as np\n",
    "import pandas as pd\n",
    "import scipy\n",
    "import matplotlib.pyplot as plt\n",
    "import seaborn as sns\n",
    "import spacy\n",
    "from datetime import datetime\n",
    "\n",
    "from sklearn.decomposition import TruncatedSVD\n",
    "from sklearn.pipeline import make_pipeline\n",
    "from sklearn.preprocessing import Normalizer\n",
    "\n",
    "\n",
    "from sklearn.decomposition import PCA\n",
    "from sklearn.feature_extraction.text import TfidfVectorizer\n",
    "from sklearn.utils import resample\n",
    "from sklearn.model_selection import cross_val_score\n",
    "from sklearn.model_selection import train_test_split\n",
    "from sklearn.feature_selection import RFECV\n",
    "from sklearn.linear_model import LogisticRegression\n",
    "from sklearn.linear_model import SGDClassifier\n",
    "from sklearn.svm import LinearSVC\n",
    "from sklearn.preprocessing import StandardScaler\n",
    "from sklearn.tree import DecisionTreeClassifier\n",
    "from sklearn.ensemble import RandomForestClassifier\n",
    "from sklearn.ensemble import GradientBoostingClassifier\n",
    "from sklearn.metrics import confusion_matrix\n",
    "from sklearn.feature_selection import SelectFromModel\n",
    "from sklearn.model_selection import GridSearchCV\n",
    "from sklearn.cluster import KMeans\n",
    "\n",
    "from sklearn import metrics\n",
    "from sklearn.metrics import pairwise_distances\n",
    "from sklearn.preprocessing import normalize\n",
    "import re\n",
    "\n",
    "import tensorflow as tf\n",
    "import keras\n",
    "\n",
    "# Import various componenets for model building\n",
    "from keras.preprocessing import sequence\n",
    "from keras.models import Sequential\n",
    "from keras.layers import Dense, Dropout, Activation\n",
    "from keras.layers import Flatten, Conv1D, MaxPooling1D\n",
    "from keras.layers import Embedding\n",
    "from keras.layers import Conv1D, GlobalMaxPooling1D\n",
    "from keras.layers import Input, TimeDistributed\n",
    "from keras.models import Model\n",
    "from keras.optimizers import SGD\n",
    "\n",
    "# Import the backend\n",
    "from keras import backend as K\n",
    "\n",
    "\n",
    "from collections import Counter\n",
    "%matplotlib inline"
   ]
  },
  {
   "cell_type": "markdown",
   "metadata": {},
   "source": [
    "## Data\n",
    "Comes from...."
   ]
  },
  {
   "cell_type": "code",
   "execution_count": 2,
   "metadata": {},
   "outputs": [
    {
     "data": {
      "text/html": [
       "<div>\n",
       "<style scoped>\n",
       "    .dataframe tbody tr th:only-of-type {\n",
       "        vertical-align: middle;\n",
       "    }\n",
       "\n",
       "    .dataframe tbody tr th {\n",
       "        vertical-align: top;\n",
       "    }\n",
       "\n",
       "    .dataframe thead th {\n",
       "        text-align: right;\n",
       "    }\n",
       "</style>\n",
       "<table border=\"1\" class=\"dataframe\">\n",
       "  <thead>\n",
       "    <tr style=\"text-align: right;\">\n",
       "      <th></th>\n",
       "      <th>external_author_id</th>\n",
       "      <th>author</th>\n",
       "      <th>content</th>\n",
       "      <th>region</th>\n",
       "      <th>language</th>\n",
       "      <th>publish_date</th>\n",
       "      <th>harvested_date</th>\n",
       "      <th>following</th>\n",
       "      <th>followers</th>\n",
       "      <th>updates</th>\n",
       "      <th>post_type</th>\n",
       "      <th>account_type</th>\n",
       "      <th>new_june_2018</th>\n",
       "      <th>retweet</th>\n",
       "      <th>account_category</th>\n",
       "    </tr>\n",
       "  </thead>\n",
       "  <tbody>\n",
       "    <tr>\n",
       "      <th>0</th>\n",
       "      <td>9.060000e+17</td>\n",
       "      <td>10_GOP</td>\n",
       "      <td>\"We have a sitting Democrat US Senator on tria...</td>\n",
       "      <td>Unknown</td>\n",
       "      <td>English</td>\n",
       "      <td>10/1/2017 19:58</td>\n",
       "      <td>10/1/2017 19:59</td>\n",
       "      <td>1052</td>\n",
       "      <td>9636</td>\n",
       "      <td>253</td>\n",
       "      <td>NaN</td>\n",
       "      <td>Right</td>\n",
       "      <td>0</td>\n",
       "      <td>0</td>\n",
       "      <td>RightTroll</td>\n",
       "    </tr>\n",
       "    <tr>\n",
       "      <th>1</th>\n",
       "      <td>9.060000e+17</td>\n",
       "      <td>10_GOP</td>\n",
       "      <td>Marshawn Lynch arrives to game in anti-Trump s...</td>\n",
       "      <td>Unknown</td>\n",
       "      <td>English</td>\n",
       "      <td>10/1/2017 22:43</td>\n",
       "      <td>10/1/2017 22:43</td>\n",
       "      <td>1054</td>\n",
       "      <td>9637</td>\n",
       "      <td>254</td>\n",
       "      <td>NaN</td>\n",
       "      <td>Right</td>\n",
       "      <td>0</td>\n",
       "      <td>0</td>\n",
       "      <td>RightTroll</td>\n",
       "    </tr>\n",
       "    <tr>\n",
       "      <th>2</th>\n",
       "      <td>9.060000e+17</td>\n",
       "      <td>10_GOP</td>\n",
       "      <td>Daughter of fallen Navy Sailor delivers powerf...</td>\n",
       "      <td>Unknown</td>\n",
       "      <td>English</td>\n",
       "      <td>10/1/2017 22:50</td>\n",
       "      <td>10/1/2017 22:51</td>\n",
       "      <td>1054</td>\n",
       "      <td>9637</td>\n",
       "      <td>255</td>\n",
       "      <td>RETWEET</td>\n",
       "      <td>Right</td>\n",
       "      <td>0</td>\n",
       "      <td>1</td>\n",
       "      <td>RightTroll</td>\n",
       "    </tr>\n",
       "    <tr>\n",
       "      <th>3</th>\n",
       "      <td>9.060000e+17</td>\n",
       "      <td>10_GOP</td>\n",
       "      <td>JUST IN: President Trump dedicates Presidents ...</td>\n",
       "      <td>Unknown</td>\n",
       "      <td>English</td>\n",
       "      <td>10/1/2017 23:52</td>\n",
       "      <td>10/1/2017 23:52</td>\n",
       "      <td>1062</td>\n",
       "      <td>9642</td>\n",
       "      <td>256</td>\n",
       "      <td>NaN</td>\n",
       "      <td>Right</td>\n",
       "      <td>0</td>\n",
       "      <td>0</td>\n",
       "      <td>RightTroll</td>\n",
       "    </tr>\n",
       "    <tr>\n",
       "      <th>4</th>\n",
       "      <td>9.060000e+17</td>\n",
       "      <td>10_GOP</td>\n",
       "      <td>19,000 RESPECTING our National Anthem! #StandF...</td>\n",
       "      <td>Unknown</td>\n",
       "      <td>English</td>\n",
       "      <td>10/1/2017 2:13</td>\n",
       "      <td>10/1/2017 2:13</td>\n",
       "      <td>1050</td>\n",
       "      <td>9645</td>\n",
       "      <td>246</td>\n",
       "      <td>RETWEET</td>\n",
       "      <td>Right</td>\n",
       "      <td>0</td>\n",
       "      <td>1</td>\n",
       "      <td>RightTroll</td>\n",
       "    </tr>\n",
       "    <tr>\n",
       "      <th>5</th>\n",
       "      <td>9.060000e+17</td>\n",
       "      <td>10_GOP</td>\n",
       "      <td>Dan Bongino: \"Nobody trolls liberals better th...</td>\n",
       "      <td>Unknown</td>\n",
       "      <td>English</td>\n",
       "      <td>10/1/2017 2:47</td>\n",
       "      <td>10/1/2017 2:47</td>\n",
       "      <td>1050</td>\n",
       "      <td>9644</td>\n",
       "      <td>247</td>\n",
       "      <td>NaN</td>\n",
       "      <td>Right</td>\n",
       "      <td>0</td>\n",
       "      <td>0</td>\n",
       "      <td>RightTroll</td>\n",
       "    </tr>\n",
       "    <tr>\n",
       "      <th>6</th>\n",
       "      <td>9.060000e+17</td>\n",
       "      <td>10_GOP</td>\n",
       "      <td>🐝🐝🐝 https://t.co/MorL3AQW0z</td>\n",
       "      <td>Unknown</td>\n",
       "      <td>English</td>\n",
       "      <td>10/1/2017 2:48</td>\n",
       "      <td>10/1/2017 2:48</td>\n",
       "      <td>1050</td>\n",
       "      <td>9644</td>\n",
       "      <td>248</td>\n",
       "      <td>RETWEET</td>\n",
       "      <td>Right</td>\n",
       "      <td>0</td>\n",
       "      <td>1</td>\n",
       "      <td>RightTroll</td>\n",
       "    </tr>\n",
       "    <tr>\n",
       "      <th>7</th>\n",
       "      <td>9.060000e+17</td>\n",
       "      <td>10_GOP</td>\n",
       "      <td>'@SenatorMenendez @CarmenYulinCruz Doesn't mat...</td>\n",
       "      <td>Unknown</td>\n",
       "      <td>English</td>\n",
       "      <td>10/1/2017 2:52</td>\n",
       "      <td>10/1/2017 2:53</td>\n",
       "      <td>1050</td>\n",
       "      <td>9644</td>\n",
       "      <td>249</td>\n",
       "      <td>NaN</td>\n",
       "      <td>Right</td>\n",
       "      <td>0</td>\n",
       "      <td>0</td>\n",
       "      <td>RightTroll</td>\n",
       "    </tr>\n",
       "    <tr>\n",
       "      <th>8</th>\n",
       "      <td>9.060000e+17</td>\n",
       "      <td>10_GOP</td>\n",
       "      <td>As much as I hate promoting CNN article, here ...</td>\n",
       "      <td>Unknown</td>\n",
       "      <td>English</td>\n",
       "      <td>10/1/2017 3:47</td>\n",
       "      <td>10/1/2017 3:47</td>\n",
       "      <td>1050</td>\n",
       "      <td>9646</td>\n",
       "      <td>250</td>\n",
       "      <td>NaN</td>\n",
       "      <td>Right</td>\n",
       "      <td>0</td>\n",
       "      <td>0</td>\n",
       "      <td>RightTroll</td>\n",
       "    </tr>\n",
       "    <tr>\n",
       "      <th>9</th>\n",
       "      <td>9.060000e+17</td>\n",
       "      <td>10_GOP</td>\n",
       "      <td>After the 'genocide' remark from San Juan Mayo...</td>\n",
       "      <td>Unknown</td>\n",
       "      <td>English</td>\n",
       "      <td>10/1/2017 3:51</td>\n",
       "      <td>10/1/2017 3:51</td>\n",
       "      <td>1050</td>\n",
       "      <td>9646</td>\n",
       "      <td>251</td>\n",
       "      <td>NaN</td>\n",
       "      <td>Right</td>\n",
       "      <td>0</td>\n",
       "      <td>0</td>\n",
       "      <td>RightTroll</td>\n",
       "    </tr>\n",
       "  </tbody>\n",
       "</table>\n",
       "</div>"
      ],
      "text/plain": [
       "   external_author_id  author  \\\n",
       "0        9.060000e+17  10_GOP   \n",
       "1        9.060000e+17  10_GOP   \n",
       "2        9.060000e+17  10_GOP   \n",
       "3        9.060000e+17  10_GOP   \n",
       "4        9.060000e+17  10_GOP   \n",
       "5        9.060000e+17  10_GOP   \n",
       "6        9.060000e+17  10_GOP   \n",
       "7        9.060000e+17  10_GOP   \n",
       "8        9.060000e+17  10_GOP   \n",
       "9        9.060000e+17  10_GOP   \n",
       "\n",
       "                                             content   region language  \\\n",
       "0  \"We have a sitting Democrat US Senator on tria...  Unknown  English   \n",
       "1  Marshawn Lynch arrives to game in anti-Trump s...  Unknown  English   \n",
       "2  Daughter of fallen Navy Sailor delivers powerf...  Unknown  English   \n",
       "3  JUST IN: President Trump dedicates Presidents ...  Unknown  English   \n",
       "4  19,000 RESPECTING our National Anthem! #StandF...  Unknown  English   \n",
       "5  Dan Bongino: \"Nobody trolls liberals better th...  Unknown  English   \n",
       "6                        🐝🐝🐝 https://t.co/MorL3AQW0z  Unknown  English   \n",
       "7  '@SenatorMenendez @CarmenYulinCruz Doesn't mat...  Unknown  English   \n",
       "8  As much as I hate promoting CNN article, here ...  Unknown  English   \n",
       "9  After the 'genocide' remark from San Juan Mayo...  Unknown  English   \n",
       "\n",
       "      publish_date   harvested_date  following  followers  updates post_type  \\\n",
       "0  10/1/2017 19:58  10/1/2017 19:59       1052       9636      253       NaN   \n",
       "1  10/1/2017 22:43  10/1/2017 22:43       1054       9637      254       NaN   \n",
       "2  10/1/2017 22:50  10/1/2017 22:51       1054       9637      255   RETWEET   \n",
       "3  10/1/2017 23:52  10/1/2017 23:52       1062       9642      256       NaN   \n",
       "4   10/1/2017 2:13   10/1/2017 2:13       1050       9645      246   RETWEET   \n",
       "5   10/1/2017 2:47   10/1/2017 2:47       1050       9644      247       NaN   \n",
       "6   10/1/2017 2:48   10/1/2017 2:48       1050       9644      248   RETWEET   \n",
       "7   10/1/2017 2:52   10/1/2017 2:53       1050       9644      249       NaN   \n",
       "8   10/1/2017 3:47   10/1/2017 3:47       1050       9646      250       NaN   \n",
       "9   10/1/2017 3:51   10/1/2017 3:51       1050       9646      251       NaN   \n",
       "\n",
       "  account_type  new_june_2018  retweet account_category  \n",
       "0        Right              0        0       RightTroll  \n",
       "1        Right              0        0       RightTroll  \n",
       "2        Right              0        1       RightTroll  \n",
       "3        Right              0        0       RightTroll  \n",
       "4        Right              0        1       RightTroll  \n",
       "5        Right              0        0       RightTroll  \n",
       "6        Right              0        1       RightTroll  \n",
       "7        Right              0        0       RightTroll  \n",
       "8        Right              0        0       RightTroll  \n",
       "9        Right              0        0       RightTroll  "
      ]
     },
     "execution_count": 2,
     "metadata": {},
     "output_type": "execute_result"
    }
   ],
   "source": [
    "raw_data = pd.read_csv('./russian-troll-tweets/IRAhandle_tweets_1.csv')\n",
    "raw_data.head(10)"
   ]
  },
  {
   "cell_type": "code",
   "execution_count": 3,
   "metadata": {},
   "outputs": [
    {
     "data": {
      "text/plain": [
       "region          318\n",
       "post_type    183766\n",
       "dtype: int64"
      ]
     },
     "execution_count": 3,
     "metadata": {},
     "output_type": "execute_result"
    }
   ],
   "source": [
    "# Make sure it is not containing Null values\n",
    "null_count = raw_data.isnull().sum()\n",
    "null_count[null_count>0]"
   ]
  },
  {
   "cell_type": "code",
   "execution_count": 4,
   "metadata": {},
   "outputs": [],
   "source": [
    "raw_data['region'] = raw_data.post_type.fillna('Unknown')"
   ]
  },
  {
   "cell_type": "code",
   "execution_count": 5,
   "metadata": {
    "scrolled": false
   },
   "outputs": [
    {
     "data": {
      "image/png": "[encoded data removed]",
      "text/plain": [
       "<Figure size 842.4x595.44 with 1 Axes>"
      ]
     },
     "metadata": {},
     "output_type": "display_data"
    },
    {
     "data": {
      "image/png": "[encoded data removed]",
      "text/plain": [
       "<Figure size 842.4x595.44 with 1 Axes>"
      ]
     },
     "metadata": {},
     "output_type": "display_data"
    },
    {
     "data": {
      "image/png": "[encoded data removed]",
      "text/plain": [
       "<Figure size 842.4x595.44 with 1 Axes>"
      ]
     },
     "metadata": {},
     "output_type": "display_data"
    },
    {
     "data": {
      "image/png": "[encoded data removed]",
      "text/plain": [
       "<Figure size 842.4x595.44 with 1 Axes>"
      ]
     },
     "metadata": {},
     "output_type": "display_data"
    },
    {
     "data": {
      "image/png": "[encoded data removed]",
      "text/plain": [
       "<Figure size 842.4x595.44 with 1 Axes>"
      ]
     },
     "metadata": {},
     "output_type": "display_data"
    },
    {
     "data": {
      "image/png": "[encoded data removed]",
      "text/plain": [
       "<Figure size 842.4x595.44 with 1 Axes>"
      ]
     },
     "metadata": {},
     "output_type": "display_data"
    },
    {
     "data": {
      "image/png": "[encoded data removed]",
      "text/plain": [
       "<Figure size 842.4x595.44 with 1 Axes>"
      ]
     },
     "metadata": {},
     "output_type": "display_data"
    }
   ],
   "source": [
    "#Visulizations\n",
    "cat_list = ['author', 'language', 'region', 'post_type', 'account_type', 'retweet', 'account_category']\n",
    "for ls in cat_list:\n",
    "    fig, ax = plt.subplots()\n",
    "    fig.set_size_inches(11.7, 8.27)\n",
    "    sns.countplot(x=ls, data=raw_data)\n",
    "    plt.show()"
   ]
  },
  {
   "cell_type": "code",
   "execution_count": 6,
   "metadata": {},
   "outputs": [
    {
     "data": {
      "image/png": "[encoded data removed]",
      "text/plain": [
       "<Figure size 842.4x595.44 with 1 Axes>"
      ]
     },
     "metadata": {},
     "output_type": "display_data"
    }
   ],
   "source": [
    "# Convert the publish date to a readable format in Pandas\n",
    "raw_data[\"publish_date\"] = raw_data[\"publish_date\"].apply(lambda x: \\\n",
    "    datetime.strptime(x,\"%m/%d/%Y %H:%M\"))\n",
    "date = raw_data['publish_date'].dt.date\n",
    "fig, ax = plt.subplots()\n",
    "fig.set_size_inches(11.7, 8.27)\n",
    "sns.countplot(x=date, data=raw_data)\n",
    "plt.show()"
   ]
  },
  {
   "cell_type": "code",
   "execution_count": 7,
   "metadata": {},
   "outputs": [
    {
     "data": {
      "text/plain": [
       "2017-08-16    7174\n",
       "2017-08-12    6802\n",
       "2017-08-18    6235\n",
       "2017-08-15    5985\n",
       "2017-08-17    5826\n",
       "2017-08-13    5201\n",
       "2017-08-14    5108\n",
       "2016-10-06    3509\n",
       "2017-08-10    2844\n",
       "2017-08-09    2783\n",
       "2017-08-11    2661\n",
       "2015-07-22    2606\n",
       "2016-10-07    2145\n",
       "2016-09-17    2125\n",
       "2017-08-08    1854\n",
       "2015-07-21    1826\n",
       "2015-07-03    1826\n",
       "2016-09-18    1749\n",
       "2015-07-06    1634\n",
       "2016-09-19    1470\n",
       "2015-07-07    1453\n",
       "2015-06-27    1428\n",
       "2015-06-29    1366\n",
       "2015-06-28    1364\n",
       "2016-09-16    1321\n",
       "2017-08-03    1310\n",
       "2015-07-05    1173\n",
       "2017-08-07    1155\n",
       "2015-06-26    1086\n",
       "2015-11-15    1080\n",
       "              ... \n",
       "2018-01-24       1\n",
       "2013-06-05       1\n",
       "2018-04-29       1\n",
       "2018-02-09       1\n",
       "2015-03-25       1\n",
       "2014-12-17       1\n",
       "2018-01-09       1\n",
       "2012-11-21       1\n",
       "2017-11-27       1\n",
       "2013-02-01       1\n",
       "2014-02-15       1\n",
       "2018-03-16       1\n",
       "2013-12-20       1\n",
       "2013-05-23       1\n",
       "2015-04-15       1\n",
       "2013-05-19       1\n",
       "2015-05-05       1\n",
       "2018-02-15       1\n",
       "2015-02-11       1\n",
       "2014-04-06       1\n",
       "2018-02-26       1\n",
       "2013-06-15       1\n",
       "2013-06-11       1\n",
       "2018-03-01       1\n",
       "2018-02-08       1\n",
       "2013-08-22       1\n",
       "2018-01-18       1\n",
       "2018-03-17       1\n",
       "2012-10-30       1\n",
       "2015-05-01       1\n",
       "Name: publish_date, Length: 1178, dtype: int64"
      ]
     },
     "execution_count": 7,
     "metadata": {},
     "output_type": "execute_result"
    }
   ],
   "source": [
    "# See the days with the most tweets\n",
    "date.value_counts()"
   ]
  },
  {
   "cell_type": "code",
   "execution_count": 8,
   "metadata": {},
   "outputs": [
    {
     "data": {
      "text/html": [
       "<div>\n",
       "<style scoped>\n",
       "    .dataframe tbody tr th:only-of-type {\n",
       "        vertical-align: middle;\n",
       "    }\n",
       "\n",
       "    .dataframe tbody tr th {\n",
       "        vertical-align: top;\n",
       "    }\n",
       "\n",
       "    .dataframe thead th {\n",
       "        text-align: right;\n",
       "    }\n",
       "</style>\n",
       "<table border=\"1\" class=\"dataframe\">\n",
       "  <thead>\n",
       "    <tr style=\"text-align: right;\">\n",
       "      <th></th>\n",
       "      <th>external_author_id</th>\n",
       "      <th>author</th>\n",
       "      <th>content</th>\n",
       "      <th>region</th>\n",
       "      <th>language</th>\n",
       "      <th>publish_date</th>\n",
       "      <th>harvested_date</th>\n",
       "      <th>following</th>\n",
       "      <th>followers</th>\n",
       "      <th>updates</th>\n",
       "      <th>post_type</th>\n",
       "      <th>account_type</th>\n",
       "      <th>new_june_2018</th>\n",
       "      <th>retweet</th>\n",
       "      <th>account_category</th>\n",
       "    </tr>\n",
       "  </thead>\n",
       "  <tbody>\n",
       "    <tr>\n",
       "      <th>0</th>\n",
       "      <td>9.060000e+17</td>\n",
       "      <td>10_GOP</td>\n",
       "      <td>\"We have a sitting Democrat US Senator on tria...</td>\n",
       "      <td>Unknown</td>\n",
       "      <td>English</td>\n",
       "      <td>2017-10-01 19:58:00</td>\n",
       "      <td>10/1/2017 19:59</td>\n",
       "      <td>1052</td>\n",
       "      <td>9636</td>\n",
       "      <td>253</td>\n",
       "      <td>0</td>\n",
       "      <td>Right</td>\n",
       "      <td>0</td>\n",
       "      <td>0</td>\n",
       "      <td>RightTroll</td>\n",
       "    </tr>\n",
       "    <tr>\n",
       "      <th>1</th>\n",
       "      <td>9.060000e+17</td>\n",
       "      <td>10_GOP</td>\n",
       "      <td>Marshawn Lynch arrives to game in anti-Trump s...</td>\n",
       "      <td>Unknown</td>\n",
       "      <td>English</td>\n",
       "      <td>2017-10-01 22:43:00</td>\n",
       "      <td>10/1/2017 22:43</td>\n",
       "      <td>1054</td>\n",
       "      <td>9637</td>\n",
       "      <td>254</td>\n",
       "      <td>0</td>\n",
       "      <td>Right</td>\n",
       "      <td>0</td>\n",
       "      <td>0</td>\n",
       "      <td>RightTroll</td>\n",
       "    </tr>\n",
       "    <tr>\n",
       "      <th>2</th>\n",
       "      <td>9.060000e+17</td>\n",
       "      <td>10_GOP</td>\n",
       "      <td>Daughter of fallen Navy Sailor delivers powerf...</td>\n",
       "      <td>RETWEET</td>\n",
       "      <td>English</td>\n",
       "      <td>2017-10-01 22:50:00</td>\n",
       "      <td>10/1/2017 22:51</td>\n",
       "      <td>1054</td>\n",
       "      <td>9637</td>\n",
       "      <td>255</td>\n",
       "      <td>1</td>\n",
       "      <td>Right</td>\n",
       "      <td>0</td>\n",
       "      <td>1</td>\n",
       "      <td>RightTroll</td>\n",
       "    </tr>\n",
       "    <tr>\n",
       "      <th>3</th>\n",
       "      <td>9.060000e+17</td>\n",
       "      <td>10_GOP</td>\n",
       "      <td>JUST IN: President Trump dedicates Presidents ...</td>\n",
       "      <td>Unknown</td>\n",
       "      <td>English</td>\n",
       "      <td>2017-10-01 23:52:00</td>\n",
       "      <td>10/1/2017 23:52</td>\n",
       "      <td>1062</td>\n",
       "      <td>9642</td>\n",
       "      <td>256</td>\n",
       "      <td>0</td>\n",
       "      <td>Right</td>\n",
       "      <td>0</td>\n",
       "      <td>0</td>\n",
       "      <td>RightTroll</td>\n",
       "    </tr>\n",
       "    <tr>\n",
       "      <th>4</th>\n",
       "      <td>9.060000e+17</td>\n",
       "      <td>10_GOP</td>\n",
       "      <td>19,000 RESPECTING our National Anthem! #StandF...</td>\n",
       "      <td>RETWEET</td>\n",
       "      <td>English</td>\n",
       "      <td>2017-10-01 02:13:00</td>\n",
       "      <td>10/1/2017 2:13</td>\n",
       "      <td>1050</td>\n",
       "      <td>9645</td>\n",
       "      <td>246</td>\n",
       "      <td>1</td>\n",
       "      <td>Right</td>\n",
       "      <td>0</td>\n",
       "      <td>1</td>\n",
       "      <td>RightTroll</td>\n",
       "    </tr>\n",
       "    <tr>\n",
       "      <th>5</th>\n",
       "      <td>9.060000e+17</td>\n",
       "      <td>10_GOP</td>\n",
       "      <td>Dan Bongino: \"Nobody trolls liberals better th...</td>\n",
       "      <td>Unknown</td>\n",
       "      <td>English</td>\n",
       "      <td>2017-10-01 02:47:00</td>\n",
       "      <td>10/1/2017 2:47</td>\n",
       "      <td>1050</td>\n",
       "      <td>9644</td>\n",
       "      <td>247</td>\n",
       "      <td>0</td>\n",
       "      <td>Right</td>\n",
       "      <td>0</td>\n",
       "      <td>0</td>\n",
       "      <td>RightTroll</td>\n",
       "    </tr>\n",
       "    <tr>\n",
       "      <th>6</th>\n",
       "      <td>9.060000e+17</td>\n",
       "      <td>10_GOP</td>\n",
       "      <td>🐝🐝🐝 https://t.co/MorL3AQW0z</td>\n",
       "      <td>RETWEET</td>\n",
       "      <td>English</td>\n",
       "      <td>2017-10-01 02:48:00</td>\n",
       "      <td>10/1/2017 2:48</td>\n",
       "      <td>1050</td>\n",
       "      <td>9644</td>\n",
       "      <td>248</td>\n",
       "      <td>1</td>\n",
       "      <td>Right</td>\n",
       "      <td>0</td>\n",
       "      <td>1</td>\n",
       "      <td>RightTroll</td>\n",
       "    </tr>\n",
       "    <tr>\n",
       "      <th>7</th>\n",
       "      <td>9.060000e+17</td>\n",
       "      <td>10_GOP</td>\n",
       "      <td>'@SenatorMenendez @CarmenYulinCruz Doesn't mat...</td>\n",
       "      <td>Unknown</td>\n",
       "      <td>English</td>\n",
       "      <td>2017-10-01 02:52:00</td>\n",
       "      <td>10/1/2017 2:53</td>\n",
       "      <td>1050</td>\n",
       "      <td>9644</td>\n",
       "      <td>249</td>\n",
       "      <td>0</td>\n",
       "      <td>Right</td>\n",
       "      <td>0</td>\n",
       "      <td>0</td>\n",
       "      <td>RightTroll</td>\n",
       "    </tr>\n",
       "    <tr>\n",
       "      <th>8</th>\n",
       "      <td>9.060000e+17</td>\n",
       "      <td>10_GOP</td>\n",
       "      <td>As much as I hate promoting CNN article, here ...</td>\n",
       "      <td>Unknown</td>\n",
       "      <td>English</td>\n",
       "      <td>2017-10-01 03:47:00</td>\n",
       "      <td>10/1/2017 3:47</td>\n",
       "      <td>1050</td>\n",
       "      <td>9646</td>\n",
       "      <td>250</td>\n",
       "      <td>0</td>\n",
       "      <td>Right</td>\n",
       "      <td>0</td>\n",
       "      <td>0</td>\n",
       "      <td>RightTroll</td>\n",
       "    </tr>\n",
       "    <tr>\n",
       "      <th>9</th>\n",
       "      <td>9.060000e+17</td>\n",
       "      <td>10_GOP</td>\n",
       "      <td>After the 'genocide' remark from San Juan Mayo...</td>\n",
       "      <td>Unknown</td>\n",
       "      <td>English</td>\n",
       "      <td>2017-10-01 03:51:00</td>\n",
       "      <td>10/1/2017 3:51</td>\n",
       "      <td>1050</td>\n",
       "      <td>9646</td>\n",
       "      <td>251</td>\n",
       "      <td>0</td>\n",
       "      <td>Right</td>\n",
       "      <td>0</td>\n",
       "      <td>0</td>\n",
       "      <td>RightTroll</td>\n",
       "    </tr>\n",
       "  </tbody>\n",
       "</table>\n",
       "</div>"
      ],
      "text/plain": [
       "   external_author_id  author  \\\n",
       "0        9.060000e+17  10_GOP   \n",
       "1        9.060000e+17  10_GOP   \n",
       "2        9.060000e+17  10_GOP   \n",
       "3        9.060000e+17  10_GOP   \n",
       "4        9.060000e+17  10_GOP   \n",
       "5        9.060000e+17  10_GOP   \n",
       "6        9.060000e+17  10_GOP   \n",
       "7        9.060000e+17  10_GOP   \n",
       "8        9.060000e+17  10_GOP   \n",
       "9        9.060000e+17  10_GOP   \n",
       "\n",
       "                                             content   region language  \\\n",
       "0  \"We have a sitting Democrat US Senator on tria...  Unknown  English   \n",
       "1  Marshawn Lynch arrives to game in anti-Trump s...  Unknown  English   \n",
       "2  Daughter of fallen Navy Sailor delivers powerf...  RETWEET  English   \n",
       "3  JUST IN: President Trump dedicates Presidents ...  Unknown  English   \n",
       "4  19,000 RESPECTING our National Anthem! #StandF...  RETWEET  English   \n",
       "5  Dan Bongino: \"Nobody trolls liberals better th...  Unknown  English   \n",
       "6                        🐝🐝🐝 https://t.co/MorL3AQW0z  RETWEET  English   \n",
       "7  '@SenatorMenendez @CarmenYulinCruz Doesn't mat...  Unknown  English   \n",
       "8  As much as I hate promoting CNN article, here ...  Unknown  English   \n",
       "9  After the 'genocide' remark from San Juan Mayo...  Unknown  English   \n",
       "\n",
       "         publish_date   harvested_date  following  followers  updates  \\\n",
       "0 2017-10-01 19:58:00  10/1/2017 19:59       1052       9636      253   \n",
       "1 2017-10-01 22:43:00  10/1/2017 22:43       1054       9637      254   \n",
       "2 2017-10-01 22:50:00  10/1/2017 22:51       1054       9637      255   \n",
       "3 2017-10-01 23:52:00  10/1/2017 23:52       1062       9642      256   \n",
       "4 2017-10-01 02:13:00   10/1/2017 2:13       1050       9645      246   \n",
       "5 2017-10-01 02:47:00   10/1/2017 2:47       1050       9644      247   \n",
       "6 2017-10-01 02:48:00   10/1/2017 2:48       1050       9644      248   \n",
       "7 2017-10-01 02:52:00   10/1/2017 2:53       1050       9644      249   \n",
       "8 2017-10-01 03:47:00   10/1/2017 3:47       1050       9646      250   \n",
       "9 2017-10-01 03:51:00   10/1/2017 3:51       1050       9646      251   \n",
       "\n",
       "  post_type account_type  new_june_2018  retweet account_category  \n",
       "0         0        Right              0        0       RightTroll  \n",
       "1         0        Right              0        0       RightTroll  \n",
       "2         1        Right              0        1       RightTroll  \n",
       "3         0        Right              0        0       RightTroll  \n",
       "4         1        Right              0        1       RightTroll  \n",
       "5         0        Right              0        0       RightTroll  \n",
       "6         1        Right              0        1       RightTroll  \n",
       "7         0        Right              0        0       RightTroll  \n",
       "8         0        Right              0        0       RightTroll  \n",
       "9         0        Right              0        0       RightTroll  "
      ]
     },
     "execution_count": 8,
     "metadata": {},
     "output_type": "execute_result"
    }
   ],
   "source": [
    "#Get rid of some columns that aren't really relevant to analysis\n",
    "raw_data.drop(['harvested_date', 'new_june_2018'], axis=1)\n",
    "\n",
    "#Turn Post_Type binary\n",
    "raw_data.post_type.replace(['RETWEET'], [1], inplace=True)\n",
    "raw_data['post_type'] = raw_data.post_type.fillna(0)\n",
    "\n",
    "\n",
    "raw_data.head(10)"
   ]
  },
  {
   "cell_type": "code",
   "execution_count": 9,
   "metadata": {},
   "outputs": [
    {
     "data": {
      "text/plain": [
       "\" I will work on this later converting the values to numbers for further analysis\\n# Create a list of possible answers\\naccount_type_list = list(raw_data.account_type.unique())\\n\\n# Create the key for the list\\naccount_type_key = list(range(len(account_type_list)))\\n\\n# Create the dictionary and insert the dictionary into our dataframe\\naccount_type_dict = dict(list(zip(account_type_list, account_type_key)))\\n\\nraw_data['variety'] = raw_data['variety'].replace(variety_dict)\\n\\n# Print out the dictionary so we can understand what the computer is thinking\\nprint(account_type_dict)\""
      ]
     },
     "execution_count": 9,
     "metadata": {},
     "output_type": "execute_result"
    }
   ],
   "source": [
    "\"\"\" I will work on this later converting the values to numbers for further analysis\n",
    "# Create a list of possible answers\n",
    "account_type_list = list(raw_data.account_type.unique())\n",
    "\n",
    "# Create the key for the list\n",
    "account_type_key = list(range(len(account_type_list)))\n",
    "\n",
    "# Create the dictionary and insert the dictionary into our dataframe\n",
    "account_type_dict = dict(list(zip(account_type_list, account_type_key)))\n",
    "\n",
    "raw_data['variety'] = raw_data['variety'].replace(variety_dict)\n",
    "\n",
    "# Print out the dictionary so we can understand what the computer is thinking\n",
    "print(account_type_dict)\"\"\""
   ]
  },
  {
   "cell_type": "markdown",
   "metadata": {},
   "source": [
    "## Prepare for Testing\n"
   ]
  },
  {
   "cell_type": "markdown",
   "metadata": {},
   "source": [
    "Now, let's prep the descriptions for analysis first by cleaning out some of the punctuation."
   ]
  },
  {
   "cell_type": "code",
   "execution_count": 10,
   "metadata": {},
   "outputs": [
    {
     "data": {
      "text/html": [
       "<div>\n",
       "<style scoped>\n",
       "    .dataframe tbody tr th:only-of-type {\n",
       "        vertical-align: middle;\n",
       "    }\n",
       "\n",
       "    .dataframe tbody tr th {\n",
       "        vertical-align: top;\n",
       "    }\n",
       "\n",
       "    .dataframe thead th {\n",
       "        text-align: right;\n",
       "    }\n",
       "</style>\n",
       "<table border=\"1\" class=\"dataframe\">\n",
       "  <thead>\n",
       "    <tr style=\"text-align: right;\">\n",
       "      <th></th>\n",
       "      <th>author</th>\n",
       "      <th>content</th>\n",
       "    </tr>\n",
       "  </thead>\n",
       "  <tbody>\n",
       "    <tr>\n",
       "      <th>0</th>\n",
       "      <td>10_GOP</td>\n",
       "      <td>\"We have a sitting Democrat US Senator on tria...</td>\n",
       "    </tr>\n",
       "    <tr>\n",
       "      <th>1</th>\n",
       "      <td>10_GOP</td>\n",
       "      <td>Marshawn Lynch arrives to game in anti-Trump s...</td>\n",
       "    </tr>\n",
       "    <tr>\n",
       "      <th>2</th>\n",
       "      <td>10_GOP</td>\n",
       "      <td>Daughter of fallen Navy Sailor delivers powerf...</td>\n",
       "    </tr>\n",
       "    <tr>\n",
       "      <th>3</th>\n",
       "      <td>10_GOP</td>\n",
       "      <td>JUST IN: President Trump dedicates Presidents ...</td>\n",
       "    </tr>\n",
       "    <tr>\n",
       "      <th>4</th>\n",
       "      <td>10_GOP</td>\n",
       "      <td>19,000 RESPECTING our National Anthem! #StandF...</td>\n",
       "    </tr>\n",
       "    <tr>\n",
       "      <th>5</th>\n",
       "      <td>10_GOP</td>\n",
       "      <td>Dan Bongino: \"Nobody trolls liberals better th...</td>\n",
       "    </tr>\n",
       "    <tr>\n",
       "      <th>6</th>\n",
       "      <td>10_GOP</td>\n",
       "      <td>🐝🐝🐝 https://t.co/MorL3AQW0z</td>\n",
       "    </tr>\n",
       "    <tr>\n",
       "      <th>7</th>\n",
       "      <td>10_GOP</td>\n",
       "      <td>'@SenatorMenendez @CarmenYulinCruz Doesn't mat...</td>\n",
       "    </tr>\n",
       "    <tr>\n",
       "      <th>8</th>\n",
       "      <td>10_GOP</td>\n",
       "      <td>As much as I hate promoting CNN article, here ...</td>\n",
       "    </tr>\n",
       "    <tr>\n",
       "      <th>9</th>\n",
       "      <td>10_GOP</td>\n",
       "      <td>After the 'genocide' remark from San Juan Mayo...</td>\n",
       "    </tr>\n",
       "  </tbody>\n",
       "</table>\n",
       "</div>"
      ],
      "text/plain": [
       "   author                                            content\n",
       "0  10_GOP  \"We have a sitting Democrat US Senator on tria...\n",
       "1  10_GOP  Marshawn Lynch arrives to game in anti-Trump s...\n",
       "2  10_GOP  Daughter of fallen Navy Sailor delivers powerf...\n",
       "3  10_GOP  JUST IN: President Trump dedicates Presidents ...\n",
       "4  10_GOP  19,000 RESPECTING our National Anthem! #StandF...\n",
       "5  10_GOP  Dan Bongino: \"Nobody trolls liberals better th...\n",
       "6  10_GOP                        🐝🐝🐝 https://t.co/MorL3AQW0z\n",
       "7  10_GOP  '@SenatorMenendez @CarmenYulinCruz Doesn't mat...\n",
       "8  10_GOP  As much as I hate promoting CNN article, here ...\n",
       "9  10_GOP  After the 'genocide' remark from San Juan Mayo..."
      ]
     },
     "execution_count": 10,
     "metadata": {},
     "output_type": "execute_result"
    }
   ],
   "source": [
    "test_df = raw_data[raw_data.language == 'English']\n",
    "test_df = test_df[['author', 'content']]\n",
    "test_df.head(10)"
   ]
  },
  {
   "cell_type": "code",
   "execution_count": 11,
   "metadata": {},
   "outputs": [
    {
     "name": "stdout",
     "output_type": "stream",
     "text": [
      "AMELIEBALDWIN      34416\n",
      "ARM_2_ALAN         14530\n",
      "BIZGOD             12079\n",
      "BATONROUGEVOICE    10746\n",
      "BALTIMORE0NLINE    10322\n",
      "ANTONHAYHAY        10240\n",
      "BLEEPTHEPOLICE      9275\n",
      "ANDYHASHTAGGER      9131\n",
      "ATLANTA_ONLINE      8489\n",
      "ALECMOOOOODY        8310\n",
      "ADNNELSTR           6362\n",
      "BLACKTOLIVE         6183\n",
      "ACEJINEV            6134\n",
      "BAOBAEHAM           6054\n",
      "ANIIANTRS           5486\n",
      "4MYSQUAD            4780\n",
      "BIGSEANBEAST        4529\n",
      "BEEBCLAPTT          4442\n",
      "BGARNER2107         4426\n",
      "AMANDAVGREEN        4233\n",
      "BLACKMATTERSUS      4129\n",
      "BLMSOLDIER          3543\n",
      "ALDRICH420          3481\n",
      "ALEXXDRTRR          3266\n",
      "BABYJANNYMEOW       3205\n",
      "AIDEN7757           3069\n",
      "AMBERLINETR         3008\n",
      "ANNIEPOSHES         2976\n",
      "ALBUQUERQUEON       2823\n",
      "ADRIENNE_GG         2810\n",
      "                   ...  \n",
      "ACTIVEMIKR             1\n",
      "AAGN1AA                1\n",
      "ANETTANOVGOROD         1\n",
      "ANTYSHEVALIDA          1\n",
      "ANDRY_VOLK             1\n",
      "BEKOSV                 1\n",
      "ASYAARRIVE             1\n",
      "ANJELICAFAMOUS         1\n",
      "BELKADASHECHKA         1\n",
      "ABALAKOVAYLIA          1\n",
      "AH_VERONIKI            1\n",
      "ANNA_VYSOKAYA          1\n",
      "ANGELABACH991          1\n",
      "ALISA_FRATKINA         1\n",
      "BECHTEREVMIH           1\n",
      "BEAUTYUSER             1\n",
      "5L5_5L5                1\n",
      "BEGI_BEGUNOVA          1\n",
      "5EMEN5EMENICH          1\n",
      "BLACKTIVISTDAVE        1\n",
      "ANGELIKOROTKOVA        1\n",
      "BILAAL_RAIS            1\n",
      "AU_NORTON              1\n",
      "ANGELINALADOVA         1\n",
      "ANASTASIAR777          1\n",
      "ARINA_RONDAL           1\n",
      "ALENAZELDINA           1\n",
      "ALEXBORONIN            1\n",
      "ANDROFAG               1\n",
      "ANGELINADARCY_         1\n",
      "Name: author_counts, Length: 354, dtype: int64\n"
     ]
    }
   ],
   "source": [
    "# Getting rid of authors that haven't published more than a certain number of tweets\n",
    "author_counts = test_df['author'].value_counts().rename('author_counts')\n",
    "print(author_counts)\n",
    "# Attach the counts to the dataframe\n",
    "test_df = test_df.merge(author_counts.to_frame(),\n",
    "                                left_on='author', right_index=True)\n",
    "\n",
    "# Set the threshold and get rid of the counts category\n",
    "test_df = test_df[test_df['author_counts'] > 10000]\n",
    "test_df = test_df.drop(['author_counts'], axis=1)"
   ]
  },
  {
   "cell_type": "code",
   "execution_count": 12,
   "metadata": {},
   "outputs": [
    {
     "name": "stdout",
     "output_type": "stream",
     "text": [
      "{'AGAINUKRFAKE': 66, 'ABALAKOVAYLIA': 22, 'ARTEMBOGACHENKO': 274, 'AARON_M1TCHELL': 21, 'BETTIEEVANZ': 379, 'AMIRAFERRR': 149, 'BIGSEANBEAST': 388, 'BANTTANANTTA': 324, 'ANDRREETRT': 180, 'BEREHAYYTR': 367, 'AFEELIUTR': 59, 'ALANISSTRS': 82, 'ALEXHARRITONOV': 99, 'ANFRAIZER': 192, 'APRRILSBRUSS': 249, 'ALEKSEY_SOKOL_': 93, 'BILLMCINTOSHH': 390, 'BLACKTOLIVE': 405, 'ALI27HUSSEIN': 112, '4EVER_SUSAN': 8, 'BIGBOYJASIAH': 386, 'ABBASSHUKRI': 23, 'AUSTINLOVESBEER': 297, 'BARRY_MILL': 333, 'ALISA_FRATKINA': 120, 'BILAAL_RAIS': 389, 'ANDEERLWR': 167, 'ANGELINADARCY_': 199, 'AGNESSTRYT': 71, 'ALFREDBENBEN': 110, 'ANISSNOVOTR': 210, 'BEKKOSV': 355, 'ARIELLE_BROWNIN': 259, 'BELKADASHECHKA': 360, 'ABU_UBAIDA2': 34, 'ANYA_ISA1282': 244, 'ARTEM_POLISHHUK': 277, 'AMBAASTRT': 138, 'AMAMCAMCAM': 136, '1D_NICOLE_': 2, 'ALAXXATR': 83, 'BARBARAFORTRUMP': 327, 'ADLEESWOD': 51, 'ANFISAMICKEY': 191, 'AGNESGRHM': 69, 'AMYGRABMYESSAY': 153, 'ALINANOVIKOV022': 117, 'BETTERTHANYOU_U': 378, 'ANATOLRMNFF': 164, 'ALFNEWDAY': 109, 'ANNABEZGUZIKOVA': 216, 'ADDIE_HOL': 44, 'ARZHANOVAAA': 284, 'BLACKNEWSOUTLET': 400, 'ALEX___ANT': 108, 'AIDEN7757': 80, 'ADALESTRTM': 40, 'ANDYDREWDANIELS': 185, 'ASHLEYSIMPSN': 288, 'BLACK4UNITY': 394, 'ANDROFAG': 179, 'AGAFONME': 65, 'ANGELISTRR': 201, 'ALIISTRR': 114, 'BEAUTYMERCELA': 342, 'BALTIMORE0NLINE': 320, 'BISHOLORINE': 391, 'BATMAN_BANE': 336, 'BARABASHV2': 326, 'BELINDA_BOURG': 359, 'BACONTONIA': 313, '1LORENAFAVA1': 4, 'ABRAMSREBEKAH': 32, 'BENNEDICT_KL': 365, 'BEDOVVITALIY': 347, 'BERRNICTRR': 374, 'ANGEELISTR': 194, 'ANDIOSMARRTRUMP': 169, 'BADAEVVIKTOR': 314, 'BERKHOFF85': 370, 'ATULSCARPA': 295, '5L5_5L5': 11, 'AZIIZ_HADITH': 306, 'BAYOFTAMARA': 339, 'BLACNEIGHBOR': 409, 'ANDREBEAULEGER': 172, 'ARTHCLAUDIA': 278, 'AFONINMIXAIL': 62, 'ALEXXBELYAEV': 105, 'AMELIEBALDWIN': 145, 'ANITALOVEHEART': 212, 'AFONIA_ZHILCOV': 61, 'ANASTASSIAZZ': 161, 'ALBERTA_HAYNESS': 86, 'BEETTYBECKS': 351, 'ANGELITHSS': 202, 'ANISILOPE': 209, 'ADAMCHAPMANJR': 41, 'ANEELSSTRT': 188, 'ADKEZLATE': 49, 'ARGENTINACATLE1': 255, '6DRUZ': 13, 'ADELIINESTRT': 46, 'ADRIANAMFTTT': 54, 'AHMADYOUSEF23': 74, '2NDHALFONION': 5, 'ALW_ILL': 132, 'BATAEEV': 334, 'ALFREDTHREE': 111, 'ASHLEY_KRI': 289, 'BLACK_ELEVATION': 408, 'BLACKYCLEVELAND': 407, 'ALESSIAWILLSON': 97, 'AYDENBOSTON': 304, 'ADAMMA_DEFOND': 42, 'ANN__BOGDANOVA': 228, 'BENDER_MEL': 362, 'BLADNAVALNY': 410, 'ANJELICAFAMOUS': 213, 'ALEESATRS': 91, '71BILALJAMIL1': 14, 'BALLLLWALT': 319, 'ABIGAILCALLME': 26, 'ANDREJFROLOV69': 173, 'ANNIJONSTR': 224, 'BERT_HENLEY': 376, 'BELBELLOC': 357, 'BLANDERSHOF': 413, 'ALEXWARNINGU': 104, 'ANITABR1994': 211, 'ALIZASSHIELD': 122, 'ANG__BOWERS': 206, 'ALTMANBELINDA': 128, 'AMANDAVGREEN': 137, 'ARABMTR': 251, 'ANDY_PUCHINSKYI': 187, 'BAAILST': 308, 'ANNY_DUBI': 226, 'BEGAYEVANGELINE': 352, 'ANTYSHEVALIDA': 241, 'BLACKERTHEBERR5': 395, 'BERTHADAVIDSON_': 375, 'ARTYRTOLSTOV': 282, 'ANISACRRUTR': 208, 'BAMMBJOLTR': 322, 'BEGI_BEGUNOVA': 353, 'AMELINAASTR': 146, 'ABMERRLINS': 30, 'BEINGSWARTZ': 354, 'ANBIVALENTNAYA': 165, 'BEZUMOVALYUDA': 381, 'ANDRISNABRT': 177, 'AHMADYUSUFF03': 75, 'BERNDHOFER6001': 372, 'ABELLABAB': 25, 'ALEKSANISIMOF': 92, 'AMALIAHULICK': 134, 'ANCARICTRS': 166, 'BIGBOYSNEED': 387, 'ANNIEPOSHES': 223, 'AMBERRPAR': 142, 'BECKRALFBECK265': 346, 'BAOBAEHAM': 325, 'ANTIEHARMON': 234, 'AESPARZZA': 58, 'ANTHONYWOODBOY': 233, 'ARM_2_ALAN': 268, 'AMBERLINETR': 141, 'ALYSSABEDOLLA': 133, 'AYLEENSCLAR': 305, 'ANNAMARFINA': 217, 'ALBUQUERQUEON': 88, 'ACTIVEMIKR': 39, 'AKOROMYSLOVA': 81, 'BABCHENKOVA_EVA': 310, 'ADELISTRTT': 48, 'ALEXSVLADIMIROV': 103, 'BELOZEROVNIKIT': 361, 'ALODOY': 127, 'BECCYWILL': 344, 'BLACKUNITYMARCH': 406, 'ANDREASEULITZ': 170, 'BLAMEYOURRSELF': 412, 'AHOGAN_AM': 78, 'BELIKOVA_LOVE': 358, 'AFRICAVSERDCE': 63, 'AU_NORTON': 298, 'ALIDANILOVSKAYA': 113, '1ERIK_LEE': 3, 'AMELCREECH': 144, 'ANOSSOVV': 230, 'ASYAARRIVE': 292, 'BABCHENKOVA': 309, 'ALMOSTSAINTGIRL': 126, 'ADNNELSTR': 52, 'ARTURBURANOF': 280, 'ANTHONYCANLASS': 231, 'BESSIECOOKSYOU': 377, 'BLACKTIVISTS': 403, 'ANKIDINOVAKIRA': 214, 'ANGELINALADOVA': 200, 'ANORAVERD': 229, 'ARAGARTRR': 252, 'ARIANNA_PER_RY': 257, 'ARTEMSSFE': 276, 'BAMBISMUT': 321, 'ANASTASIAR777': 160, 'AMBBERTHTT': 139, 'BERGERJAMIE75': 369, 'AGNESMLTRT': 70, 'AGATA_ALEXEEVA': 67, 'ARTUR__2014': 281, 'ANDSBXX30': 184, 'ASWWIMMORRIS': 291, 'BEN_SAR_GENT': 366, 'ARONHOLDEN8': 270, 'ALLFORPETERSONS': 125, 'ADRIASNSS': 55, 'AMYMUSICLL': 154, 'BLACKGIRLS2017': 397, 'AVIAPRES': 301, 'ABISADMASST': 29, 'ALEXISFOXIE': 100, '666STEVEROGERS': 12, 'BE_BRUTA_L': 382, 'ANTONFROMSPB': 235, 'BLEEPTHEPOLICE': 414, 'ANETTANOVGOROD': 189, 'BLACKJACKWEINER': 398, '5EMEN5EMENICH': 10, 'ARNOLDPARRK': 269, 'ALEMICHLESS': 94, 'ASSUNCAOWALLAS': 290, 'BLACKEYEBLOG': 396, 'BEEATRWL': 348, 'BATONROUGEVOICE': 337, 'AFUCKINSIDE': 64, 'ARONS_KWENDE': 271, 'BAZHINVAZHEN': 340, 'AMCONVOICE': 143, '1488REASONS': 1, 'BIAANCLEESS': 384, 'BLACKTIVISTDAVE': 402, 'ALEXXDRTRR': 106, 'AARONALLENALL': 20, 'ADRIENNE_GG': 56, 'ANGELIKOROTKOVA': 198, 'ARIEENSLPE': 258, 'ANDREY_LISCHINA': 176, 'ALISONDAVOL': 121, 'AN_N_GASTON': 247, 'ACHSAHORKHAN': 38, 'ANAAISLEC': 158, 'BANNOVAMARI': 323, 'ANASTASSITR': 162, 'BECHTEREVMIH': 345, 'ANGEELISHET': 193, 'APUHNA': 250, 'ANNIEISBEAR': 222, 'AHMANSOUR91061': 76, 'AMIYAHSAMUELS': 152, 'AGITPOLK': 68, '10_GOP': 0, 'BEVERLYBALSOM': 380, 'ANDRY_VOLK': 183, 'ANDRYNAUMOV': 182, 'AMYYTHOSSMA': 157, 'ANNETTETEAL1': 221, 'ANTONRUMSS': 239, 'ALBELITATRTS': 85, 'ASDIQARUSSIYA': 285, 'BGARNER2107': 383, 'ANGELABACH991': 195, 'BABYJANNYMEOW': 312, '459JISALGE': 6, 'ABUNUWASA': 33, 'ANDREYYKONDRAT1': 175, 'AMALIA_PETTY': 135, 'ARTKORCHUNOV': 279, 'ANGELOENOUGH': 203, 'ALDRICH420': 89, 'BEKOSV': 356, 'ANDEYNESTEROV': 168, 'ARIELSHINING': 260, 'BEAUTYUSER': 343, 'ANFINRUDSADIE': 190, 'ARINA_RONDAL': 261, 'ADAM_MATHISSS': 43, 'BEREZINLECURACE': 368, 'BIBAHACH': 385, 'AAATEST1234': 16, 'ABIISSROSB': 28, 'BARBARAMEER': 328, 'BARBIELEWISS': 329, 'ALINAVIATKOVA': 118, 'AYANNA__0': 303, 'BAUMAN_OFF': 338, 'ANNA_VYSOKAYA': 220, 'ANNSAM_SAM': 225, 'ANTONHAYHAY': 236, 'ANDRUNINVANYA': 181, 'ADELINE_GS': 47, 'ALINALINKI_': 116, 'ABOUTPOLIT': 31, 'BARELY_KIM': 331, 'AVEERTEST': 299, 'BLACKMATTERSUS': 399, 'ALECMOOOOODY': 90, 'AMIRICANWILL': 151, 'AMYYSLEGENTR': 155, 'ADELE_BROCK': 45, 'ATIF_SHAIKH_ME': 293, 'ALENAZELDINA': 95, 'AH_VERONIKI': 79, 'BLK_VOICE': 416, '4MYSQUAD': 9, 'ALVA_MC_GHEE': 130, 'ARTAUTUMN': 273, 'BLACKPANTHER_TX': 401, 'ARKADSHIHKIN': 264, 'ABIGAILSSILK': 27, 'ANDREWHEDDD': 174, 'ANWARJAMIL22': 243, 'BALLDOMER': 318, 'ALINAANTONCHIK': 115, 'AMIISTRS': 148, 'BEELLASTRTT': 350, 'ANN1EMCCONNELL': 215, 'ARYANNAJ0NES': 283, 'BLMSOLDIER': 417, 'ARMEDFREJYA': 267, 'AVEREGEANNA': 300, 'AAAVADAKEDAVRAA': 17, 'ANWARGAFUR': 242, 'AURRLISTR': 296, 'ARESTOVEVG': 254, 'BADR_EARABI': 315, 'ALEXLOVESSHENNA': 101, 'ADRI_LOW_R': 57, 'ANTONOVMENMENCO': 238, 'AHMADRADJAB': 73, 'AHMADHUSSEINII': 72, 'ANNAROMAN0': 219, 'AVRYLSTEWART': 302, 'ANGELIKAMUSI': 197, 'ADRGREERR': 53, 'ACAB_ZONE': 35, 'BLAKERIVERAI': 411, 'ALLAHOMORE': 123, 'ARISGRAYS': 262, 'ABBYLOPTRT': 24, 'ADLEESTTT': 50, 'AMIRAHPOPE': 150, 'ARCHIEOLIVERS': 253, 'ANTONINAPERVAY': 237, 'BARELYBARBOZA': 330, 'ANTOSHAKARGIN': 240, 'BEEBCLAPTT': 349, 'BENJIALYSSA': 364, 'ATLANTA_ONLINE': 294, 'ARKHIPOVTIOVEOF': 266, 'ANTHONYCARTR': 232, 'ARIAANST': 256, 'ANAALESSIS': 159, 'ARKHIPOVICHIVNA': 265, 'BARRLAUTRS': 332, 'ARSENI_ROMAN': 272, 'AANTIRACIST': 19, 'ANN_HANAH': 227, 'ACAPARELLA': 36, 'ANATOLINEMCOV': 163, 'AAASSSSSHHH': 15, 'ANDRIYCCCP': 178, 'AMBERDAVV': 140, 'BIZGOD': 392, 'ANDYHASHTAGGER': 186, 'AMYYSSTS': 156, '4EVER1937': 7, 'AHNORDYK': 77, 'ALEXMMYER': 102, 'ANGISDOOYL': 204, 'ANDREBAKIN': 171, 'ALTMANCOON': 129, 'BERNIEDDDD': 373, 'BLACKTIVISTSUS': 404, 'AMERICANALBERT': 147, 'ALAXXATRT': 84, 'BIZYKOVAANITA': 393, 'ANZGRI': 245, 'BERLINBOTE': 371, 'ANGELA_LATTKE': 196, 'ALINA_9_1': 119, 'ACEJINEV': 37, 'ANGTHEESTR': 205, 'ANIIANTRS': 207, 'ALWAYSHUNGRYBAE': 131, 'ALEX_DUGIN': 107, 'BATASHEVSEREGA': 335, 'ALEXBORONIN': 98, 'ALBERTMORENMORE': 87, 'BBHELGESON': 341, 'ALESISTRTT': 96, 'AZUUMARSS': 307, 'ASHLEEYWES': 287, 'ASHLEECOLLINSS': 286, 'BALASIKAVOW': 317, 'BLINOVAEXININTA': 415, 'ARTEMMPLOTNIKOV': 275, 'ALLBERRTOSS': 124, 'ARKADII_TROFIM': 263, 'APRIILDTRUT': 248, 'ANNAMINGT': 218, 'AFIFYAMIRA1': 60, 'AN_NA__AN': 246, 'BAKINGBEKKER': 316, 'AAGN1AA': 18, 'BABICHEVASONYA': 311, 'BENJAMINBALLL': 363}"
     ]
    },
    {
     "name": "stdout",
     "output_type": "stream",
     "text": [
      "\n"
     ]
    }
   ],
   "source": [
    "# Create a list of possible answers\n",
    "author_list = list(raw_data.author.unique())\n",
    "\n",
    "# Create the key for the list\n",
    "author_key = list(range(len(author_list)))\n",
    "\n",
    "# Create the dictionary and insert the dictionary into our dataframe\n",
    "author_dict = dict(list(zip(author_list, author_key)))\n",
    "\n",
    "test_df['author'] = test_df['author'].replace(author_dict)\n",
    "\n",
    "# Print out the dictionary so we can understand what the computer is thinking\n",
    "print(author_dict)"
   ]
  },
  {
   "cell_type": "code",
   "execution_count": 13,
   "metadata": {},
   "outputs": [
    {
     "data": {
      "text/html": [
       "<div>\n",
       "<style scoped>\n",
       "    .dataframe tbody tr th:only-of-type {\n",
       "        vertical-align: middle;\n",
       "    }\n",
       "\n",
       "    .dataframe tbody tr th {\n",
       "        vertical-align: top;\n",
       "    }\n",
       "\n",
       "    .dataframe thead th {\n",
       "        text-align: right;\n",
       "    }\n",
       "</style>\n",
       "<table border=\"1\" class=\"dataframe\">\n",
       "  <thead>\n",
       "    <tr style=\"text-align: right;\">\n",
       "      <th></th>\n",
       "      <th>author</th>\n",
       "      <th>content</th>\n",
       "    </tr>\n",
       "  </thead>\n",
       "  <tbody>\n",
       "    <tr>\n",
       "      <th>95228</th>\n",
       "      <td>145</td>\n",
       "      <td>#pos #anisamri ,the terrorist that killed 12 p...</td>\n",
       "    </tr>\n",
       "    <tr>\n",
       "      <th>95229</th>\n",
       "      <td>145</td>\n",
       "      <td>join us live online! saturdays \\| 5 &amp;amp; 6:30...</td>\n",
       "    </tr>\n",
       "    <tr>\n",
       "      <th>95230</th>\n",
       "      <td>145</td>\n",
       "      <td>'@pmbeers here's the thing, if i were to impor...</td>\n",
       "    </tr>\n",
       "    <tr>\n",
       "      <th>95231</th>\n",
       "      <td>145</td>\n",
       "      <td>'@cda the issue has nothing to do with png. it...</td>\n",
       "    </tr>\n",
       "    <tr>\n",
       "      <th>95232</th>\n",
       "      <td>145</td>\n",
       "      <td>#bestmemoriesof2016 every person who got invol...</td>\n",
       "    </tr>\n",
       "    <tr>\n",
       "      <th>95233</th>\n",
       "      <td>145</td>\n",
       "      <td>hitman sniper #hitmansniper #now #gamers #andr...</td>\n",
       "    </tr>\n",
       "    <tr>\n",
       "      <th>95234</th>\n",
       "      <td>145</td>\n",
       "      <td>#hacked : https://t.co/y9ryl2qf2g obama strike...</td>\n",
       "    </tr>\n",
       "    <tr>\n",
       "      <th>95235</th>\n",
       "      <td>145</td>\n",
       "      <td>boycott the \"halal\" sticker on meat and poultr...</td>\n",
       "    </tr>\n",
       "    <tr>\n",
       "      <th>95236</th>\n",
       "      <td>145</td>\n",
       "      <td>oh dear did you see this cnn don lemon obvious...</td>\n",
       "    </tr>\n",
       "    <tr>\n",
       "      <th>95237</th>\n",
       "      <td>145</td>\n",
       "      <td>amazing that so many who allegedly oppose big ...</td>\n",
       "    </tr>\n",
       "  </tbody>\n",
       "</table>\n",
       "</div>"
      ],
      "text/plain": [
       "       author                                            content\n",
       "95228     145  #pos #anisamri ,the terrorist that killed 12 p...\n",
       "95229     145  join us live online! saturdays \\| 5 &amp; 6:30...\n",
       "95230     145  '@pmbeers here's the thing, if i were to impor...\n",
       "95231     145  '@cda the issue has nothing to do with png. it...\n",
       "95232     145  #bestmemoriesof2016 every person who got invol...\n",
       "95233     145  hitman sniper #hitmansniper #now #gamers #andr...\n",
       "95234     145  #hacked : https://t.co/y9ryl2qf2g obama strike...\n",
       "95235     145  boycott the \"halal\" sticker on meat and poultr...\n",
       "95236     145  oh dear did you see this cnn don lemon obvious...\n",
       "95237     145  amazing that so many who allegedly oppose big ..."
      ]
     },
     "execution_count": 13,
     "metadata": {},
     "output_type": "execute_result"
    }
   ],
   "source": [
    "# Utility function for standard text cleaning.\n",
    "def text_cleaner(text):\n",
    "    # Visual inspection identifies a form of punctuation spaCy does not\n",
    "    # recognize: the double dash '--'.  Better get rid of it now!\n",
    "    text = re.sub(r'--',' ',text)\n",
    "    text = re.sub(\"[\\[].*?[\\]]\", \"\", text)\n",
    "    text = ' '.join(text.split())\n",
    "    return text\n",
    "test_df['content'] = test_df['content'].str.lower()\n",
    "test_df['content'] = test_df['content'].apply(text_cleaner)\n",
    "test_df.head(10)"
   ]
  },
  {
   "cell_type": "markdown",
   "metadata": {},
   "source": [
    "Let's create a function that will run all of the tests we need with the inputs of test, inputs (X,Y), and method."
   ]
  },
  {
   "cell_type": "code",
   "execution_count": 14,
   "metadata": {},
   "outputs": [],
   "source": [
    "#Create a testing function that will fit the test the data.\n",
    "def testing_func(test, models, method):\n",
    "    # This is a local list used to temporarily store scores\n",
    "    scores=[]\n",
    "    # This list serves the For loop below putting the variables in   \n",
    "    for x in models:\n",
    "        #Fitting to Training Data\n",
    "        test.fit(x[0], x[1])\n",
    "        #Training Data Score\n",
    "        scores.append(test.score(x[0], x[1]))\n",
    "        #Test Data Score\n",
    "        scores.append(test.score(x[2], x[3]))\n",
    "        #CV Score\n",
    "        scores.append(np.mean(cross_val_score(test, x[0], x[1], cv=5)))\n",
    "    \n",
    "    # Create a local dataframe to display our results cleanly\n",
    "    local_results_df=pd.DataFrame(scores, columns=['Accuracy'], index=[method])\n",
    "    print(local_results_df)\n",
    " "
   ]
  },
  {
   "cell_type": "markdown",
   "metadata": {},
   "source": [
    "## TF_IDF\n",
    "First, let's use Term Frequency - Inverse Document Frequency (TF-IDF) to break the sentences down into vectors. What this will do is take the number of times a word appears in the tweet and penalize it if it appears in too many tweets by multiplying it by the log (base 2) of the number of documents divided by the frequency of the word in all of the documents. This will result in words that appear in every tweet to be less important (through a lower weighting) when trying to decipher if the word is important for classification. Logically speaking, if a word appears in every sentence, it cannot be that helpful in distinguishing one sentence from another and this is what the machine will need to do to classify the descriptions to the authors."
   ]
  },
  {
   "cell_type": "code",
   "execution_count": 15,
   "metadata": {},
   "outputs": [
    {
     "name": "stdout",
     "output_type": "stream",
     "text": [
      "\n",
      "It took the following time to complete this task: 0:00:06.734519\n"
     ]
    }
   ],
   "source": [
    "start = datetime.now()\n",
    "X = test_df['content']\n",
    "y = test_df['author']\n",
    "#Applying the vectorizer\n",
    "vect2 = TfidfVectorizer(min_df=20, analyzer = 'word', stop_words = 'english', ngram_range = (1,2))\n",
    "X = vect2.fit_transform(X)\n",
    "#splitting into training and test sets\n",
    "X_train_tfidf, X_test_tfidf, y_train2, y_test2= train_test_split(X, y, test_size=0.4, random_state=0)\n",
    "print('\\nIt took the following time to complete this task:', datetime.now() - start)"
   ]
  },
  {
   "cell_type": "markdown",
   "metadata": {},
   "source": [
    "## LSA\n",
    "Now let's use Latent Semantic Analysis (LSA) to improve the model through dimension reduction. This applies Principle Components Analysis (PCA) to the vector matrix."
   ]
  },
  {
   "cell_type": "code",
   "execution_count": 16,
   "metadata": {},
   "outputs": [
    {
     "name": "stdout",
     "output_type": "stream",
     "text": [
      "\n",
      "It took the following time to complete this task: 0:00:04.129932\n"
     ]
    }
   ],
   "source": [
    "start = datetime.now()\n",
    "# Apply Singular Value Decomposition to reduce dimensions without doing mean-center nromalizing. \n",
    "svd= TruncatedSVD(100)\n",
    "lsa = make_pipeline(svd, Normalizer(copy=False))\n",
    "# Run SVD on the training data, then project the training data.\n",
    "X_train_lsa = lsa.fit_transform(X_train_tfidf)\n",
    "X_test_lsa = lsa.fit_transform(X_test_tfidf)\n",
    "print('\\nIt took the following time to complete this task:', datetime.now() - start)"
   ]
  },
  {
   "cell_type": "code",
   "execution_count": 17,
   "metadata": {},
   "outputs": [
    {
     "name": "stdout",
     "output_type": "stream",
     "text": [
      "\n",
      "It took the following time to complete this task: 0:00:09.355094\n"
     ]
    }
   ],
   "source": [
    "start = datetime.now()\n",
    "# Go ahead and create our X variable for unsupervised learning\n",
    "tfidf_X = test_df['content']\n",
    "\n",
    "#Applying the vectorizer\n",
    "vect2 = TfidfVectorizer(min_df=20, analyzer = 'word', stop_words = 'english', ngram_range = (1,2))\n",
    "tfidf_X = vect2.fit_transform(tfidf_X)\n",
    "#Apply SVD for LSA which tends to work better for unsupervised learning techniques like clustering.\n",
    "svd= TruncatedSVD(60)\n",
    "lsa = make_pipeline(svd, Normalizer(copy=False))\n",
    "# Run SVD on the training data, then project the training data.\n",
    "lsa_X = lsa.fit_transform(tfidf_X)\n",
    "variance_explained=svd.explained_variance_ratio_\n",
    "total_variance = variance_explained.sum()\n",
    "print('\\nIt took the following time to complete this task:', datetime.now() - start)"
   ]
  },
  {
   "cell_type": "code",
   "execution_count": 18,
   "metadata": {},
   "outputs": [],
   "source": [
    "# Our X,Y for the models\n",
    "models = [[X_train_tfidf, y_train2, X_test_tfidf, y_test2], [X_train_lsa, y_train2, X_test_lsa, y_test2]] \n",
    "\n",
    "# TF_IDF is the method\n",
    "tf_idf_method = ['TF-IDF Training', 'TF-IDF Test', 'TF-IDF Cross Validation', \n",
    "                 'TF-IDF with LSA Training', 'TF-IDF with LSA Test', 'TF-IDF with LSA Cross Validation']\n",
    "\n"
   ]
  },
  {
   "cell_type": "code",
   "execution_count": 19,
   "metadata": {},
   "outputs": [
    {
     "name": "stdout",
     "output_type": "stream",
     "text": [
      "_________________________________________________________________\n",
      "Layer (type)                 Output Shape              Param #   \n",
      "=================================================================\n",
      "dense_1 (Dense)              (None, 128)               920704    \n",
      "_________________________________________________________________\n",
      "dropout_1 (Dropout)          (None, 128)               0         \n",
      "_________________________________________________________________\n",
      "dense_2 (Dense)              (None, 128)               16512     \n",
      "_________________________________________________________________\n",
      "dropout_2 (Dropout)          (None, 128)               0         \n",
      "_________________________________________________________________\n",
      "dense_3 (Dense)              (None, 64)                8256      \n",
      "_________________________________________________________________\n",
      "dropout_3 (Dropout)          (None, 64)                0         \n",
      "_________________________________________________________________\n",
      "dense_4 (Dense)              (None, 1)                 65        \n",
      "=================================================================\n",
      "Total params: 945,537\n",
      "Trainable params: 945,537\n",
      "Non-trainable params: 0\n",
      "_________________________________________________________________\n"
     ]
    }
   ],
   "source": [
    "# Start with a simple sequential model\n",
    "model = Sequential()\n",
    "\n",
    "# Add dense layers to create a fully connected MLP\n",
    "# Note that we specify an input shape for the first layer, but only the first layer.\n",
    "# Relu is the activation function used\n",
    "model.add(Dense(128, activation='sigmoid', input_shape=(X_test_tfidf.shape[1],)))\n",
    "# Dropout layers remove features and fight overfitting\n",
    "model.add(Dropout(0.1))\n",
    "model.add(Dense(128, activation='relu'))\n",
    "model.add(Dropout(0.1))\n",
    "model.add(Dense(64, activation='relu'))\n",
    "model.add(Dropout(0.1))\n",
    "# End with a number of units equal to the number of classes we have for our outcome\n",
    "model.add(Dense(1, activation='sigmoid'))\n",
    "\n",
    "model.summary()\n",
    "sgd = SGD(lr = 0.1, momentum = 0.9, decay = 0, nesterov = False)\n",
    "# Compile the model to put it all together.\n",
    "model.compile(loss='binary_crossentropy',\n",
    "              optimizer=sgd,\n",
    "              metrics=['accuracy'])"
   ]
  },
  {
   "cell_type": "code",
   "execution_count": 20,
   "metadata": {},
   "outputs": [
    {
     "name": "stdout",
     "output_type": "stream",
     "text": [
      "Train on 55399 samples, validate on 36934 samples\n",
      "Epoch 1/10\n"
     ]
    },
    {
     "name": "stdout",
     "output_type": "stream",
     "text": [
      "44224/55399 [======================>.......] - ETA: 7:27 - loss: -10.7677 - acc: 0.0000e+0 - ETA: 1:39 - loss: -3207.0710 - acc: 0.0000e+0 - ETA: 1:00 - loss: -3483.3343 - acc: 0.0000e+0 - ETA: 45s - loss: -3622.4322 - acc: 0.0000e+0 - ETA: 37s - loss: -3693.3468 - acc: 0.0000e+ - ETA: 32s - loss: -3726.4639 - acc: 0.0000e+ - ETA: 29s - loss: -3760.6015 - acc: 0.0000e+ - ETA: 27s - loss: -3804.7431 - acc: 0.0000e+ - ETA: 25s - loss: -3824.2114 - acc: 0.0000e+ - ETA: 23s - loss: -3855.6955 - acc: 0.0000e+ - ETA: 22s - loss: -3855.6708 - acc: 0.0000e+ - ETA: 21s - loss: -3857.6487 - acc: 0.0000e+ - ETA: 20s - loss: -3868.9119 - acc: 0.0000e+ - ETA: 20s - loss: -3870.1184 - acc: 0.0000e+ - ETA: 19s - loss: -3860.4617 - acc: 0.0000e+ - ETA: 18s - loss: -3866.8419 - acc: 0.0000e+ - ETA: 18s - loss: -3871.4787 - acc: 0.0000e+ - ETA: 18s - loss: -3885.7694 - acc: 0.0000e+ - ETA: 17s - loss: -3881.4528 - acc: 0.0000e+ - ETA: 17s - loss: -3892.9642 - acc: 0.0000e+ - ETA: 16s - loss: -3903.5570 - acc: 0.0000e+ - ETA: 16s - loss: -3903.0364 - acc: 0.0000e+ - ETA: 16s - loss: -3908.8489 - acc: 0.0000e+ - ETA: 16s - loss: -3915.4605 - acc: 0.0000e+ - ETA: 15s - loss: -3916.4215 - acc: 0.0000e+ - ETA: 15s - loss: -3919.6963 - acc: 0.0000e+ - ETA: 15s - loss: -3921.0917 - acc: 0.0000e+ - ETA: 15s - loss: -3929.5218 - acc: 0.0000e+ - ETA: 14s - loss: -3926.8135 - acc: 0.0000e+ - ETA: 14s - loss: -3926.5366 - acc: 0.0000e+ - ETA: 14s - loss: -3924.7463 - acc: 0.0000e+ - ETA: 14s - loss: -3921.7414 - acc: 0.0000e+ - ETA: 14s - loss: -3922.3427 - acc: 0.0000e+ - ETA: 13s - loss: -3926.9046 - acc: 0.0000e+ - ETA: 13s - loss: -3927.1818 - acc: 0.0000e+ - ETA: 13s - loss: -3926.2048 - acc: 0.0000e+ - ETA: 13s - loss: -3929.7707 - acc: 0.0000e+ - ETA: 13s - loss: -3933.2789 - acc: 0.0000e+ - ETA: 13s - loss: -3931.6779 - acc: 0.0000e+ - ETA: 13s - loss: -3930.2321 - acc: 0.0000e+ - ETA: 13s - loss: -3929.0950 - acc: 0.0000e+ - ETA: 12s - loss: -3933.4978 - acc: 0.0000e+ - ETA: 12s - loss: -3933.3516 - acc: 0.0000e+ - ETA: 12s - loss: -3934.2190 - acc: 0.0000e+ - ETA: 12s - loss: -3931.4359 - acc: 0.0000e+ - ETA: 12s - loss: -3933.4633 - acc: 0.0000e+ - ETA: 12s - loss: -3935.4700 - acc: 0.0000e+ - ETA: 12s - loss: -3936.4073 - acc: 0.0000e+ - ETA: 12s - loss: -3938.7919 - acc: 0.0000e+ - ETA: 11s - loss: -3938.5089 - acc: 0.0000e+ - ETA: 11s - loss: -3936.3590 - acc: 0.0000e+ - ETA: 11s - loss: -3936.3697 - acc: 0.0000e+ - ETA: 11s - loss: -3936.9591 - acc: 0.0000e+ - ETA: 11s - loss: -3935.9153 - acc: 0.0000e+ - ETA: 11s - loss: -3934.2470 - acc: 0.0000e+ - ETA: 11s - loss: -3935.9296 - acc: 0.0000e+ - ETA: 11s - loss: -3937.0871 - acc: 0.0000e+ - ETA: 11s - loss: -3938.1562 - acc: 0.0000e+ - ETA: 10s - loss: -3939.3754 - acc: 0.0000e+ - ETA: 10s - loss: -3938.5315 - acc: 0.0000e+ - ETA: 10s - loss: -3942.6790 - acc: 0.0000e+ - ETA: 10s - loss: -3943.4399 - acc: 0.0000e+ - ETA: 10s - loss: -3942.4039 - acc: 0.0000e+ - ETA: 10s - loss: -3941.4848 - acc: 0.0000e+ - ETA: 10s - loss: -3939.9847 - acc: 0.0000e+ - ETA: 10s - loss: -3937.8996 - acc: 0.0000e+ - ETA: 10s - loss: -3937.2968 - acc: 0.0000e+ - ETA: 10s - loss: -3938.3144 - acc: 0.0000e+ - ETA: 10s - loss: -3936.5682 - acc: 0.0000e+ - ETA: 10s - loss: -3938.4664 - acc: 0.0000e+ - ETA: 9s - loss: -3940.3196 - acc: 0.0000e+00 - ETA: 9s - loss: -3940.3515 - acc: 0.0000e+0 - ETA: 9s - loss: -3938.9299 - acc: 0.0000e+0 - ETA: 9s - loss: -3938.8036 - acc: 0.0000e+0 - ETA: 9s - loss: -3936.3469 - acc: 0.0000e+0 - ETA: 9s - loss: -3933.8247 - acc: 0.0000e+0 - ETA: 9s - loss: -3933.9326 - acc: 0.0000e+0 - ETA: 9s - loss: -3935.2799 - acc: 0.0000e+0 - ETA: 9s - loss: -3934.3544 - acc: 0.0000e+0 - ETA: 9s - loss: -3933.0506 - acc: 0.0000e+0 - ETA: 9s - loss: -3931.8545 - acc: 0.0000e+0 - ETA: 9s - loss: -3934.0863 - acc: 0.0000e+0 - ETA: 8s - loss: -3932.1411 - acc: 0.0000e+0 - ETA: 8s - loss: -3933.7359 - acc: 0.0000e+0 - ETA: 8s - loss: -3932.8912 - acc: 0.0000e+0 - ETA: 8s - loss: -3933.0452 - acc: 0.0000e+0 - ETA: 8s - loss: -3932.0246 - acc: 0.0000e+0 - ETA: 8s - loss: -3932.0652 - acc: 0.0000e+0 - ETA: 8s - loss: -3932.1577 - acc: 0.0000e+0 - ETA: 8s - loss: -3934.7567 - acc: 0.0000e+0 - ETA: 8s - loss: -3933.9427 - acc: 0.0000e+0 - ETA: 8s - loss: -3936.7486 - acc: 0.0000e+0 - ETA: 8s - loss: -3937.8504 - acc: 0.0000e+0 - ETA: 8s - loss: -3937.9265 - acc: 0.0000e+0 - ETA: 8s - loss: -3939.6017 - acc: 0.0000e+0 - ETA: 7s - loss: -3940.1796 - acc: 0.0000e+0 - ETA: 7s - loss: -3938.7022 - acc: 0.0000e+0 - ETA: 7s - loss: -3938.9759 - acc: 0.0000e+0 - ETA: 7s - loss: -3940.0232 - acc: 0.0000e+0 - ETA: 7s - loss: -3941.3022 - acc: 0.0000e+0 - ETA: 7s - loss: -3942.5140 - acc: 0.0000e+0 - ETA: 7s - loss: -3942.7033 - acc: 0.0000e+0 - ETA: 7s - loss: -3942.2782 - acc: 0.0000e+0 - ETA: 7s - loss: -3941.5599 - acc: 0.0000e+0 - ETA: 7s - loss: -3943.2735 - acc: 0.0000e+0 - ETA: 7s - loss: -3943.8007 - acc: 0.0000e+0 - ETA: 7s - loss: -3943.9369 - acc: 0.0000e+0 - ETA: 7s - loss: -3944.5072 - acc: 0.0000e+0 - ETA: 7s - loss: -3943.6715 - acc: 0.0000e+0 - ETA: 6s - loss: -3943.7959 - acc: 0.0000e+0 - ETA: 6s - loss: -3944.8032 - acc: 0.0000e+0 - ETA: 6s - loss: -3945.2845 - acc: 0.0000e+0 - ETA: 6s - loss: -3944.3471 - acc: 0.0000e+0 - ETA: 6s - loss: -3945.7498 - acc: 0.0000e+0 - ETA: 6s - loss: -3945.0194 - acc: 0.0000e+0 - ETA: 6s - loss: -3943.3262 - acc: 0.0000e+0 - ETA: 6s - loss: -3942.6841 - acc: 0.0000e+0 - ETA: 6s - loss: -3942.0874 - acc: 0.0000e+0 - ETA: 6s - loss: -3942.2476 - acc: 0.0000e+0 - ETA: 6s - loss: -3942.3103 - acc: 0.0000e+0 - ETA: 6s - loss: -3944.1168 - acc: 0.0000e+0 - ETA: 6s - loss: -3944.0469 - acc: 0.0000e+0 - ETA: 6s - loss: -3944.0285 - acc: 0.0000e+0 - ETA: 6s - loss: -3943.3792 - acc: 0.0000e+0 - ETA: 5s - loss: -3943.2266 - acc: 0.0000e+0 - ETA: 5s - loss: -3941.5497 - acc: 0.0000e+0 - ETA: 5s - loss: -3942.0506 - acc: 0.0000e+0 - ETA: 5s - loss: -3940.9754 - acc: 0.0000e+0 - ETA: 5s - loss: -3939.6585 - acc: 0.0000e+0 - ETA: 5s - loss: -3937.3777 - acc: 0.0000e+0 - ETA: 5s - loss: -3938.1904 - acc: 0.0000e+0 - ETA: 5s - loss: -3937.2690 - acc: 0.0000e+0 - ETA: 5s - loss: -3938.4064 - acc: 0.0000e+0 - ETA: 5s - loss: -3938.7017 - acc: 0.0000e+0 - ETA: 5s - loss: -3938.8453 - acc: 0.0000e+0 - ETA: 5s - loss: -3938.9164 - acc: 0.0000e+0 - ETA: 5s - loss: -3938.3233 - acc: 0.0000e+0 - ETA: 5s - loss: -3938.8348 - acc: 0.0000e+0 - ETA: 5s - loss: -3938.8694 - acc: 0.0000e+0 - ETA: 4s - loss: -3938.6720 - acc: 0.0000e+0 - ETA: 4s - loss: -3937.9155 - acc: 0.0000e+0 - ETA: 4s - loss: -3938.5178 - acc: 0.0000e+0 - ETA: 4s - loss: -3939.6358 - acc: 0.0000e+0 - ETA: 4s - loss: -3939.9135 - acc: 0.0000e+0 - ETA: 4s - loss: -3938.9331 - acc: 0.0000e+0 - ETA: 4s - loss: -3938.8318 - acc: 0.0000e+0 - ETA: 4s - loss: -3939.1940 - acc: 0.0000e+0 - ETA: 4s - loss: -3938.9650 - acc: 0.0000e+0 - ETA: 4s - loss: -3938.5028 - acc: 0.0000e+0 - ETA: 4s - loss: -3938.4217 - acc: 0.0000e+0 - ETA: 4s - loss: -3938.7146 - acc: 0.0000e+0 - ETA: 4s - loss: -3938.3121 - acc: 0.0000e+0 - ETA: 4s - loss: -3938.6397 - acc: 0.0000e+0 - ETA: 4s - loss: -3938.7527 - acc: 0.0000e+0 - ETA: 4s - loss: -3937.8654 - acc: 0.0000e+0 - ETA: 4s - loss: -3937.5786 - acc: 0.0000e+0 - ETA: 3s - loss: -3936.6221 - acc: 0.0000e+0 - ETA: 3s - loss: -3937.3719 - acc: 0.0000e+0 - ETA: 3s - loss: -3937.1982 - acc: 0.0000e+0 - ETA: 3s - loss: -3938.0143 - acc: 0.0000e+0 - ETA: 3s - loss: -3938.2117 - acc: 0.0000e+0 - ETA: 3s - loss: -3936.4385 - acc: 0.0000e+0 - ETA: 3s - loss: -3937.4869 - acc: 0.0000e+0 - ETA: 3s - loss: -3937.1698 - acc: 0.0000e+0 - ETA: 3s - loss: -3936.8397 - acc: 0.0000e+0 - ETA: 3s - loss: -3935.8877 - acc: 0.0000e+0 - ETA: 3s - loss: -3935.6512 - acc: 0.0000e+0 - ETA: 3s - loss: -3934.2243 - acc: 0.0000e+0 - ETA: 3s - loss: -3934.8885 - acc: 0.0000e+0 - ETA: 3s - loss: -3934.9719 - acc: 0.0000e+0 - ETA: 3s - loss: -3935.1853 - acc: 0.0000e+0 - ETA: 3s - loss: -3934.8220 - acc: 0.0000e+0 - ETA: 2s - loss: -3935.1240 - acc: 0.0000e+0 - ETA: 2s - loss: -3935.4043 - acc: 0.0000e+0 - ETA: 2s - loss: -3935.3811 - acc: 0.0000e+0 - ETA: 2s - loss: -3935.7039 - acc: 0.0000e+00\b\b\b\b\b\b\b\b\b\b\b\b\b\b\b\b\b\b\b\b\b\b\b\b\b\b\b\b\b\b\b\b\b\b\b\b\b\b\b\b\b\b\b\b\b\b\b\b\b\b\b\b\b\b\b\b\b\b\b\b\b\b\b\b\b\b\b\b\b\b\b\b\b\b\b\b\b\b\b\b\b\b\b\b\b\b\b\b\b\b\b"
     ]
    },
    {
     "name": "stdout",
     "output_type": "stream",
     "text": [
      "55399/55399 [==============================] - ETA: 2s - loss: -3936.1640 - acc: 0.0000e+0 - ETA: 2s - loss: -3935.6075 - acc: 0.0000e+0 - ETA: 2s - loss: -3935.5088 - acc: 0.0000e+0 - ETA: 2s - loss: -3935.3684 - acc: 0.0000e+0 - ETA: 2s - loss: -3935.8346 - acc: 0.0000e+0 - ETA: 2s - loss: -3934.8699 - acc: 0.0000e+0 - ETA: 2s - loss: -3934.4927 - acc: 0.0000e+0 - ETA: 2s - loss: -3935.0552 - acc: 0.0000e+0 - ETA: 2s - loss: -3934.9141 - acc: 0.0000e+0 - ETA: 2s - loss: -3934.7523 - acc: 0.0000e+0 - ETA: 2s - loss: -3935.2666 - acc: 0.0000e+0 - ETA: 1s - loss: -3935.3679 - acc: 0.0000e+0 - ETA: 1s - loss: -3935.6477 - acc: 0.0000e+0 - ETA: 1s - loss: -3935.0217 - acc: 0.0000e+0 - ETA: 1s - loss: -3934.2196 - acc: 0.0000e+0 - ETA: 1s - loss: -3935.1275 - acc: 0.0000e+0 - ETA: 1s - loss: -3936.5479 - acc: 0.0000e+0 - ETA: 1s - loss: -3935.8839 - acc: 0.0000e+0 - ETA: 1s - loss: -3935.7337 - acc: 0.0000e+0 - ETA: 1s - loss: -3936.1280 - acc: 0.0000e+0 - ETA: 1s - loss: -3935.6701 - acc: 0.0000e+0 - ETA: 1s - loss: -3935.5829 - acc: 0.0000e+0 - ETA: 1s - loss: -3936.0617 - acc: 0.0000e+0 - ETA: 1s - loss: -3936.2460 - acc: 0.0000e+0 - ETA: 1s - loss: -3936.3458 - acc: 0.0000e+0 - ETA: 1s - loss: -3936.5233 - acc: 0.0000e+0 - ETA: 1s - loss: -3936.8810 - acc: 0.0000e+0 - ETA: 0s - loss: -3937.2268 - acc: 0.0000e+0 - ETA: 0s - loss: -3938.0108 - acc: 0.0000e+0 - ETA: 0s - loss: -3937.9072 - acc: 0.0000e+0 - ETA: 0s - loss: -3938.3508 - acc: 0.0000e+0 - ETA: 0s - loss: -3937.6211 - acc: 0.0000e+0 - ETA: 0s - loss: -3937.8230 - acc: 0.0000e+0 - ETA: 0s - loss: -3938.7706 - acc: 0.0000e+0 - ETA: 0s - loss: -3938.5848 - acc: 0.0000e+0 - ETA: 0s - loss: -3938.3590 - acc: 0.0000e+0 - ETA: 0s - loss: -3938.0628 - acc: 0.0000e+0 - ETA: 0s - loss: -3938.0578 - acc: 0.0000e+0 - ETA: 0s - loss: -3938.3742 - acc: 0.0000e+0 - ETA: 0s - loss: -3938.6664 - acc: 0.0000e+0 - ETA: 0s - loss: -3939.3595 - acc: 0.0000e+0 - ETA: 0s - loss: -3940.1690 - acc: 0.0000e+0 - ETA: 0s - loss: -3940.3522 - acc: 0.0000e+0 - ETA: 0s - loss: -3940.4530 - acc: 0.0000e+0 - 17s 301us/step - loss: -3940.1217 - acc: 0.0000e+00 - val_loss: -3953.5064 - val_acc: 0.0000e+00\n",
      "Epoch 2/10\n"
     ]
    },
    {
     "name": "stdout",
     "output_type": "stream",
     "text": [
      "43584/55399 [======================>.......] - ETA: 13s - loss: -3887.2017 - acc: 0.0000e+ - ETA: 12s - loss: -3932.9365 - acc: 0.0000e+ - ETA: 12s - loss: -3989.9693 - acc: 0.0000e+ - ETA: 12s - loss: -3998.7027 - acc: 0.0000e+ - ETA: 12s - loss: -4007.1214 - acc: 0.0000e+ - ETA: 12s - loss: -3978.9773 - acc: 0.0000e+ - ETA: 12s - loss: -3964.7914 - acc: 0.0000e+ - ETA: 12s - loss: -3992.5710 - acc: 0.0000e+ - ETA: 11s - loss: -3995.1903 - acc: 0.0000e+ - ETA: 11s - loss: -3996.8393 - acc: 0.0000e+ - ETA: 11s - loss: -3990.5782 - acc: 0.0000e+ - ETA: 11s - loss: -3975.4717 - acc: 0.0000e+ - ETA: 11s - loss: -3961.2963 - acc: 0.0000e+ - ETA: 11s - loss: -3960.7050 - acc: 0.0000e+ - ETA: 11s - loss: -3962.2027 - acc: 0.0000e+ - ETA: 11s - loss: -3957.8604 - acc: 0.0000e+ - ETA: 11s - loss: -3959.8533 - acc: 0.0000e+ - ETA: 11s - loss: -3953.2207 - acc: 0.0000e+ - ETA: 11s - loss: -3947.2846 - acc: 0.0000e+ - ETA: 11s - loss: -3938.4120 - acc: 0.0000e+ - ETA: 11s - loss: -3935.1247 - acc: 0.0000e+ - ETA: 11s - loss: -3942.9941 - acc: 0.0000e+ - ETA: 11s - loss: -3950.5166 - acc: 0.0000e+ - ETA: 11s - loss: -3948.5827 - acc: 0.0000e+ - ETA: 11s - loss: -3949.7576 - acc: 0.0000e+ - ETA: 11s - loss: -3949.6343 - acc: 0.0000e+ - ETA: 11s - loss: -3950.6099 - acc: 0.0000e+ - ETA: 11s - loss: -3949.1524 - acc: 0.0000e+ - ETA: 11s - loss: -3952.7898 - acc: 0.0000e+ - ETA: 11s - loss: -3955.1689 - acc: 0.0000e+ - ETA: 11s - loss: -3950.9038 - acc: 0.0000e+ - ETA: 11s - loss: -3953.5093 - acc: 0.0000e+ - ETA: 11s - loss: -3952.1061 - acc: 0.0000e+ - ETA: 11s - loss: -3949.4077 - acc: 0.0000e+ - ETA: 10s - loss: -3949.8485 - acc: 0.0000e+ - ETA: 10s - loss: -3950.7637 - acc: 0.0000e+ - ETA: 10s - loss: -3951.0134 - acc: 0.0000e+ - ETA: 10s - loss: -3953.6215 - acc: 0.0000e+ - ETA: 10s - loss: -3951.7779 - acc: 0.0000e+ - ETA: 10s - loss: -3950.4385 - acc: 0.0000e+ - ETA: 10s - loss: -3954.6178 - acc: 0.0000e+ - ETA: 10s - loss: -3959.7750 - acc: 0.0000e+ - ETA: 10s - loss: -3959.5268 - acc: 0.0000e+ - ETA: 10s - loss: -3960.3006 - acc: 0.0000e+ - ETA: 10s - loss: -3958.8575 - acc: 0.0000e+ - ETA: 10s - loss: -3961.2145 - acc: 0.0000e+ - ETA: 10s - loss: -3959.6828 - acc: 0.0000e+ - ETA: 10s - loss: -3960.5740 - acc: 0.0000e+ - ETA: 10s - loss: -3957.5283 - acc: 0.0000e+ - ETA: 10s - loss: -3956.5530 - acc: 0.0000e+ - ETA: 10s - loss: -3957.3013 - acc: 0.0000e+ - ETA: 10s - loss: -3957.8775 - acc: 0.0000e+ - ETA: 10s - loss: -3960.1955 - acc: 0.0000e+ - ETA: 10s - loss: -3959.5237 - acc: 0.0000e+ - ETA: 10s - loss: -3956.0695 - acc: 0.0000e+ - ETA: 10s - loss: -3952.3437 - acc: 0.0000e+ - ETA: 9s - loss: -3951.3323 - acc: 0.0000e+00 - ETA: 9s - loss: -3950.7290 - acc: 0.0000e+0 - ETA: 9s - loss: -3950.3508 - acc: 0.0000e+0 - ETA: 9s - loss: -3948.6682 - acc: 0.0000e+0 - ETA: 9s - loss: -3949.7967 - acc: 0.0000e+0 - ETA: 9s - loss: -3953.0433 - acc: 0.0000e+0 - ETA: 9s - loss: -3950.3091 - acc: 0.0000e+0 - ETA: 9s - loss: -3952.1709 - acc: 0.0000e+0 - ETA: 9s - loss: -3951.4745 - acc: 0.0000e+0 - ETA: 9s - loss: -3950.7232 - acc: 0.0000e+0 - ETA: 9s - loss: -3952.4075 - acc: 0.0000e+0 - ETA: 9s - loss: -3953.9011 - acc: 0.0000e+0 - ETA: 9s - loss: -3956.0477 - acc: 0.0000e+0 - ETA: 9s - loss: -3955.3008 - acc: 0.0000e+0 - ETA: 9s - loss: -3954.4331 - acc: 0.0000e+0 - ETA: 8s - loss: -3952.7403 - acc: 0.0000e+0 - ETA: 8s - loss: -3952.7248 - acc: 0.0000e+0 - ETA: 8s - loss: -3953.2992 - acc: 0.0000e+0 - ETA: 8s - loss: -3957.1902 - acc: 0.0000e+0 - ETA: 8s - loss: -3957.9018 - acc: 0.0000e+0 - ETA: 8s - loss: -3958.3164 - acc: 0.0000e+0 - ETA: 8s - loss: -3958.5556 - acc: 0.0000e+0 - ETA: 8s - loss: -3956.4335 - acc: 0.0000e+0 - ETA: 8s - loss: -3955.0103 - acc: 0.0000e+0 - ETA: 8s - loss: -3957.7792 - acc: 0.0000e+0 - ETA: 8s - loss: -3956.6108 - acc: 0.0000e+0 - ETA: 8s - loss: -3956.5535 - acc: 0.0000e+0 - ETA: 8s - loss: -3957.8492 - acc: 0.0000e+0 - ETA: 8s - loss: -3958.7420 - acc: 0.0000e+0 - ETA: 8s - loss: -3958.2320 - acc: 0.0000e+0 - ETA: 7s - loss: -3957.1677 - acc: 0.0000e+0 - ETA: 7s - loss: -3956.0845 - acc: 0.0000e+0 - ETA: 7s - loss: -3955.0800 - acc: 0.0000e+0 - ETA: 7s - loss: -3956.0471 - acc: 0.0000e+0 - ETA: 7s - loss: -3955.7757 - acc: 0.0000e+0 - ETA: 7s - loss: -3953.8884 - acc: 0.0000e+0 - ETA: 7s - loss: -3953.6305 - acc: 0.0000e+0 - ETA: 7s - loss: -3954.9802 - acc: 0.0000e+0 - ETA: 7s - loss: -3955.0866 - acc: 0.0000e+0 - ETA: 7s - loss: -3954.4046 - acc: 0.0000e+0 - ETA: 7s - loss: -3954.4876 - acc: 0.0000e+0 - ETA: 7s - loss: -3954.3784 - acc: 0.0000e+0 - ETA: 7s - loss: -3954.6800 - acc: 0.0000e+0 - ETA: 7s - loss: -3954.1591 - acc: 0.0000e+0 - ETA: 7s - loss: -3953.1321 - acc: 0.0000e+0 - ETA: 7s - loss: -3951.5947 - acc: 0.0000e+0 - ETA: 7s - loss: -3951.5604 - acc: 0.0000e+0 - ETA: 7s - loss: -3951.2833 - acc: 0.0000e+0 - ETA: 7s - loss: -3951.3661 - acc: 0.0000e+0 - ETA: 7s - loss: -3951.3912 - acc: 0.0000e+0 - ETA: 7s - loss: -3951.9702 - acc: 0.0000e+0 - ETA: 7s - loss: -3951.9865 - acc: 0.0000e+0 - ETA: 6s - loss: -3950.8641 - acc: 0.0000e+0 - ETA: 6s - loss: -3951.0437 - acc: 0.0000e+0 - ETA: 6s - loss: -3950.9748 - acc: 0.0000e+0 - ETA: 6s - loss: -3951.4003 - acc: 0.0000e+0 - ETA: 6s - loss: -3950.4656 - acc: 0.0000e+0 - ETA: 6s - loss: -3950.7097 - acc: 0.0000e+0 - ETA: 6s - loss: -3950.3016 - acc: 0.0000e+0 - ETA: 6s - loss: -3950.6611 - acc: 0.0000e+0 - ETA: 6s - loss: -3948.9891 - acc: 0.0000e+0 - ETA: 6s - loss: -3949.0292 - acc: 0.0000e+0 - ETA: 6s - loss: -3949.9689 - acc: 0.0000e+0 - ETA: 6s - loss: -3949.0787 - acc: 0.0000e+0 - ETA: 6s - loss: -3948.3901 - acc: 0.0000e+0 - ETA: 6s - loss: -3947.0012 - acc: 0.0000e+0 - ETA: 6s - loss: -3946.0379 - acc: 0.0000e+0 - ETA: 6s - loss: -3945.9291 - acc: 0.0000e+0 - ETA: 5s - loss: -3945.8907 - acc: 0.0000e+0 - ETA: 5s - loss: -3945.7912 - acc: 0.0000e+0 - ETA: 5s - loss: -3945.5115 - acc: 0.0000e+0 - ETA: 5s - loss: -3946.3726 - acc: 0.0000e+0 - ETA: 5s - loss: -3945.8482 - acc: 0.0000e+0 - ETA: 5s - loss: -3945.7073 - acc: 0.0000e+0 - ETA: 5s - loss: -3945.4738 - acc: 0.0000e+0 - ETA: 5s - loss: -3945.4146 - acc: 0.0000e+0 - ETA: 5s - loss: -3946.3265 - acc: 0.0000e+0 - ETA: 5s - loss: -3945.0880 - acc: 0.0000e+0 - ETA: 5s - loss: -3945.4039 - acc: 0.0000e+0 - ETA: 5s - loss: -3945.2744 - acc: 0.0000e+0 - ETA: 5s - loss: -3946.1478 - acc: 0.0000e+0 - ETA: 5s - loss: -3946.1434 - acc: 0.0000e+0 - ETA: 5s - loss: -3945.2397 - acc: 0.0000e+0 - ETA: 4s - loss: -3944.7567 - acc: 0.0000e+0 - ETA: 4s - loss: -3944.9673 - acc: 0.0000e+0 - ETA: 4s - loss: -3944.9779 - acc: 0.0000e+0 - ETA: 4s - loss: -3945.2506 - acc: 0.0000e+0 - ETA: 4s - loss: -3943.4060 - acc: 0.0000e+0 - ETA: 4s - loss: -3943.0900 - acc: 0.0000e+0 - ETA: 4s - loss: -3943.0337 - acc: 0.0000e+0 - ETA: 4s - loss: -3943.2926 - acc: 0.0000e+0 - ETA: 4s - loss: -3943.6116 - acc: 0.0000e+0 - ETA: 4s - loss: -3944.1527 - acc: 0.0000e+0 - ETA: 4s - loss: -3943.7418 - acc: 0.0000e+0 - ETA: 4s - loss: -3943.4850 - acc: 0.0000e+0 - ETA: 4s - loss: -3943.7239 - acc: 0.0000e+0 - ETA: 4s - loss: -3943.4753 - acc: 0.0000e+0 - ETA: 4s - loss: -3943.1537 - acc: 0.0000e+0 - ETA: 4s - loss: -3942.3280 - acc: 0.0000e+0 - ETA: 4s - loss: -3942.4510 - acc: 0.0000e+0 - ETA: 4s - loss: -3942.5638 - acc: 0.0000e+0 - ETA: 4s - loss: -3942.0404 - acc: 0.0000e+0 - ETA: 4s - loss: -3941.1434 - acc: 0.0000e+0 - ETA: 3s - loss: -3941.4819 - acc: 0.0000e+0 - ETA: 3s - loss: -3941.5481 - acc: 0.0000e+0 - ETA: 3s - loss: -3941.5204 - acc: 0.0000e+0 - ETA: 3s - loss: -3941.1761 - acc: 0.0000e+0 - ETA: 3s - loss: -3941.4463 - acc: 0.0000e+0 - ETA: 3s - loss: -3941.3670 - acc: 0.0000e+0 - ETA: 3s - loss: -3940.9740 - acc: 0.0000e+0 - ETA: 3s - loss: -3940.6347 - acc: 0.0000e+0 - ETA: 3s - loss: -3940.8783 - acc: 0.0000e+0 - ETA: 3s - loss: -3940.8410 - acc: 0.0000e+0 - ETA: 3s - loss: -3940.9304 - acc: 0.0000e+0 - ETA: 3s - loss: -3940.0144 - acc: 0.0000e+0 - ETA: 3s - loss: -3939.8862 - acc: 0.0000e+0 - ETA: 3s - loss: -3939.3110 - acc: 0.0000e+0 - ETA: 3s - loss: -3939.4451 - acc: 0.0000e+0 - ETA: 3s - loss: -3939.9259 - acc: 0.0000e+0 - ETA: 2s - loss: -3940.1109 - acc: 0.0000e+0 - ETA: 2s - loss: -3940.1616 - acc: 0.0000e+0 - ETA: 2s - loss: -3940.7158 - acc: 0.0000e+00"
     ]
    },
    {
     "name": "stdout",
     "output_type": "stream",
     "text": [
      "55399/55399 [==============================] - ETA: 2s - loss: -3940.8030 - acc: 0.0000e+0 - ETA: 2s - loss: -3941.1576 - acc: 0.0000e+0 - ETA: 2s - loss: -3940.2871 - acc: 0.0000e+0 - ETA: 2s - loss: -3940.8961 - acc: 0.0000e+0 - ETA: 2s - loss: -3941.3972 - acc: 0.0000e+0 - ETA: 2s - loss: -3940.7483 - acc: 0.0000e+0 - ETA: 2s - loss: -3940.9765 - acc: 0.0000e+0 - ETA: 2s - loss: -3941.3794 - acc: 0.0000e+0 - ETA: 2s - loss: -3941.3549 - acc: 0.0000e+0 - ETA: 2s - loss: -3942.2525 - acc: 0.0000e+0 - ETA: 2s - loss: -3942.3010 - acc: 0.0000e+0 - ETA: 2s - loss: -3942.1921 - acc: 0.0000e+0 - ETA: 2s - loss: -3941.9341 - acc: 0.0000e+0 - ETA: 2s - loss: -3942.8071 - acc: 0.0000e+0 - ETA: 2s - loss: -3942.5162 - acc: 0.0000e+0 - ETA: 2s - loss: -3942.5168 - acc: 0.0000e+0 - ETA: 2s - loss: -3942.2410 - acc: 0.0000e+0 - ETA: 1s - loss: -3942.8257 - acc: 0.0000e+0 - ETA: 1s - loss: -3943.2007 - acc: 0.0000e+0 - ETA: 1s - loss: -3943.4215 - acc: 0.0000e+0 - ETA: 1s - loss: -3943.3151 - acc: 0.0000e+0 - ETA: 1s - loss: -3943.1380 - acc: 0.0000e+0 - ETA: 1s - loss: -3943.3160 - acc: 0.0000e+0 - ETA: 1s - loss: -3943.2092 - acc: 0.0000e+0 - ETA: 1s - loss: -3943.1776 - acc: 0.0000e+0 - ETA: 1s - loss: -3943.5271 - acc: 0.0000e+0 - ETA: 1s - loss: -3943.8182 - acc: 0.0000e+0 - ETA: 1s - loss: -3944.0750 - acc: 0.0000e+0 - ETA: 1s - loss: -3944.9866 - acc: 0.0000e+0 - ETA: 1s - loss: -3944.8982 - acc: 0.0000e+0 - ETA: 1s - loss: -3944.5291 - acc: 0.0000e+0 - ETA: 1s - loss: -3944.7156 - acc: 0.0000e+0 - ETA: 1s - loss: -3944.6498 - acc: 0.0000e+0 - ETA: 1s - loss: -3945.1133 - acc: 0.0000e+0 - ETA: 0s - loss: -3944.7816 - acc: 0.0000e+0 - ETA: 0s - loss: -3944.9443 - acc: 0.0000e+0 - ETA: 0s - loss: -3945.2080 - acc: 0.0000e+0 - ETA: 0s - loss: -3945.3356 - acc: 0.0000e+0 - ETA: 0s - loss: -3945.2672 - acc: 0.0000e+0 - ETA: 0s - loss: -3945.4954 - acc: 0.0000e+0 - ETA: 0s - loss: -3945.7300 - acc: 0.0000e+0 - ETA: 0s - loss: -3946.3993 - acc: 0.0000e+0 - ETA: 0s - loss: -3945.6420 - acc: 0.0000e+0 - ETA: 0s - loss: -3945.4734 - acc: 0.0000e+0 - ETA: 0s - loss: -3945.3355 - acc: 0.0000e+0 - ETA: 0s - loss: -3945.6276 - acc: 0.0000e+0 - ETA: 0s - loss: -3945.2625 - acc: 0.0000e+0 - ETA: 0s - loss: -3945.9004 - acc: 0.0000e+0 - ETA: 0s - loss: -3945.7339 - acc: 0.0000e+0 - ETA: 0s - loss: -3945.2109 - acc: 0.0000e+0 - 17s 303us/step - loss: -3945.0690 - acc: 0.0000e+00 - val_loss: -3953.5064 - val_acc: 0.0000e+00\n",
      "Epoch 3/10\n"
     ]
    },
    {
     "name": "stdout",
     "output_type": "stream",
     "text": [
      "45248/55399 [=======================>......] - ETA: 12s - loss: -4149.0059 - acc: 0.0000e+ - ETA: 12s - loss: -3911.7133 - acc: 0.0000e+ - ETA: 13s - loss: -3958.1676 - acc: 0.0000e+ - ETA: 12s - loss: -3909.3717 - acc: 0.0000e+ - ETA: 12s - loss: -3888.9016 - acc: 0.0000e+ - ETA: 12s - loss: -3916.8091 - acc: 0.0000e+ - ETA: 12s - loss: -3917.1137 - acc: 0.0000e+ - ETA: 12s - loss: -3909.6895 - acc: 0.0000e+ - ETA: 12s - loss: -3920.1207 - acc: 0.0000e+ - ETA: 12s - loss: -3912.3272 - acc: 0.0000e+ - ETA: 12s - loss: -3906.0180 - acc: 0.0000e+ - ETA: 12s - loss: -3904.2070 - acc: 0.0000e+ - ETA: 12s - loss: -3908.2075 - acc: 0.0000e+ - ETA: 12s - loss: -3913.8555 - acc: 0.0000e+ - ETA: 11s - loss: -3921.1886 - acc: 0.0000e+ - ETA: 11s - loss: -3928.9117 - acc: 0.0000e+ - ETA: 11s - loss: -3927.2571 - acc: 0.0000e+ - ETA: 11s - loss: -3925.5487 - acc: 0.0000e+ - ETA: 11s - loss: -3927.9962 - acc: 0.0000e+ - ETA: 11s - loss: -3934.5502 - acc: 0.0000e+ - ETA: 11s - loss: -3936.0100 - acc: 0.0000e+ - ETA: 11s - loss: -3932.0485 - acc: 0.0000e+ - ETA: 11s - loss: -3933.2377 - acc: 0.0000e+ - ETA: 11s - loss: -3935.4567 - acc: 0.0000e+ - ETA: 11s - loss: -3944.0899 - acc: 0.0000e+ - ETA: 11s - loss: -3938.9697 - acc: 0.0000e+ - ETA: 11s - loss: -3945.4241 - acc: 0.0000e+ - ETA: 11s - loss: -3946.1116 - acc: 0.0000e+ - ETA: 11s - loss: -3938.7098 - acc: 0.0000e+ - ETA: 10s - loss: -3939.8671 - acc: 0.0000e+ - ETA: 10s - loss: -3939.9300 - acc: 0.0000e+ - ETA: 10s - loss: -3935.1053 - acc: 0.0000e+ - ETA: 10s - loss: -3937.3389 - acc: 0.0000e+ - ETA: 10s - loss: -3935.2441 - acc: 0.0000e+ - ETA: 10s - loss: -3932.4995 - acc: 0.0000e+ - ETA: 10s - loss: -3931.8992 - acc: 0.0000e+ - ETA: 10s - loss: -3934.4702 - acc: 0.0000e+ - ETA: 10s - loss: -3930.1361 - acc: 0.0000e+ - ETA: 10s - loss: -3931.5694 - acc: 0.0000e+ - ETA: 10s - loss: -3932.6673 - acc: 0.0000e+ - ETA: 10s - loss: -3932.9163 - acc: 0.0000e+ - ETA: 10s - loss: -3933.9672 - acc: 0.0000e+ - ETA: 10s - loss: -3933.6530 - acc: 0.0000e+ - ETA: 10s - loss: -3935.0376 - acc: 0.0000e+ - ETA: 10s - loss: -3935.1591 - acc: 0.0000e+ - ETA: 10s - loss: -3934.6456 - acc: 0.0000e+ - ETA: 9s - loss: -3933.6169 - acc: 0.0000e+00 - ETA: 9s - loss: -3934.0007 - acc: 0.0000e+0 - ETA: 9s - loss: -3934.6916 - acc: 0.0000e+0 - ETA: 9s - loss: -3932.1681 - acc: 0.0000e+0 - ETA: 9s - loss: -3929.9485 - acc: 0.0000e+0 - ETA: 9s - loss: -3932.4903 - acc: 0.0000e+0 - ETA: 9s - loss: -3933.6182 - acc: 0.0000e+0 - ETA: 9s - loss: -3933.6601 - acc: 0.0000e+0 - ETA: 9s - loss: -3933.8134 - acc: 0.0000e+0 - ETA: 9s - loss: -3936.3582 - acc: 0.0000e+0 - ETA: 9s - loss: -3935.9364 - acc: 0.0000e+0 - ETA: 9s - loss: -3936.1193 - acc: 0.0000e+0 - ETA: 9s - loss: -3938.5765 - acc: 0.0000e+0 - ETA: 9s - loss: -3938.0403 - acc: 0.0000e+0 - ETA: 9s - loss: -3938.9440 - acc: 0.0000e+0 - ETA: 9s - loss: -3938.2101 - acc: 0.0000e+0 - ETA: 8s - loss: -3939.1973 - acc: 0.0000e+0 - ETA: 8s - loss: -3938.8297 - acc: 0.0000e+0 - ETA: 8s - loss: -3937.2212 - acc: 0.0000e+0 - ETA: 8s - loss: -3937.0840 - acc: 0.0000e+0 - ETA: 8s - loss: -3935.9131 - acc: 0.0000e+0 - ETA: 8s - loss: -3937.4512 - acc: 0.0000e+0 - ETA: 8s - loss: -3938.5704 - acc: 0.0000e+0 - ETA: 8s - loss: -3939.2907 - acc: 0.0000e+0 - ETA: 8s - loss: -3938.1222 - acc: 0.0000e+0 - ETA: 8s - loss: -3939.3785 - acc: 0.0000e+0 - ETA: 8s - loss: -3940.5221 - acc: 0.0000e+0 - ETA: 8s - loss: -3940.5740 - acc: 0.0000e+0 - ETA: 8s - loss: -3940.4830 - acc: 0.0000e+0 - ETA: 8s - loss: -3942.1623 - acc: 0.0000e+0 - ETA: 8s - loss: -3942.0152 - acc: 0.0000e+0 - ETA: 8s - loss: -3941.8541 - acc: 0.0000e+0 - ETA: 8s - loss: -3940.6472 - acc: 0.0000e+0 - ETA: 8s - loss: -3939.5285 - acc: 0.0000e+0 - ETA: 7s - loss: -3939.6630 - acc: 0.0000e+0 - ETA: 7s - loss: -3938.0842 - acc: 0.0000e+0 - ETA: 7s - loss: -3937.9741 - acc: 0.0000e+0 - ETA: 7s - loss: -3938.9042 - acc: 0.0000e+0 - ETA: 7s - loss: -3938.5830 - acc: 0.0000e+0 - ETA: 7s - loss: -3938.7420 - acc: 0.0000e+0 - ETA: 7s - loss: -3937.8472 - acc: 0.0000e+0 - ETA: 7s - loss: -3938.7031 - acc: 0.0000e+0 - ETA: 7s - loss: -3938.5404 - acc: 0.0000e+0 - ETA: 7s - loss: -3941.2319 - acc: 0.0000e+0 - ETA: 7s - loss: -3941.0385 - acc: 0.0000e+0 - ETA: 7s - loss: -3940.0000 - acc: 0.0000e+0 - ETA: 7s - loss: -3941.3884 - acc: 0.0000e+0 - ETA: 7s - loss: -3941.2752 - acc: 0.0000e+0 - ETA: 7s - loss: -3941.6029 - acc: 0.0000e+0 - ETA: 7s - loss: -3943.1601 - acc: 0.0000e+0 - ETA: 7s - loss: -3944.1879 - acc: 0.0000e+0 - ETA: 6s - loss: -3943.5054 - acc: 0.0000e+0 - ETA: 6s - loss: -3942.7599 - acc: 0.0000e+0 - ETA: 6s - loss: -3942.8127 - acc: 0.0000e+0 - ETA: 6s - loss: -3941.3044 - acc: 0.0000e+0 - ETA: 6s - loss: -3940.9013 - acc: 0.0000e+0 - ETA: 6s - loss: -3941.2320 - acc: 0.0000e+0 - ETA: 6s - loss: -3939.0284 - acc: 0.0000e+0 - ETA: 6s - loss: -3937.7199 - acc: 0.0000e+0 - ETA: 6s - loss: -3937.9209 - acc: 0.0000e+0 - ETA: 6s - loss: -3938.4834 - acc: 0.0000e+0 - ETA: 6s - loss: -3938.2556 - acc: 0.0000e+0 - ETA: 6s - loss: -3939.3069 - acc: 0.0000e+0 - ETA: 6s - loss: -3939.0082 - acc: 0.0000e+0 - ETA: 6s - loss: -3938.7547 - acc: 0.0000e+0 - ETA: 6s - loss: -3938.9926 - acc: 0.0000e+0 - ETA: 6s - loss: -3939.4082 - acc: 0.0000e+0 - ETA: 6s - loss: -3940.3107 - acc: 0.0000e+0 - ETA: 5s - loss: -3941.4951 - acc: 0.0000e+0 - ETA: 5s - loss: -3941.3165 - acc: 0.0000e+0 - ETA: 5s - loss: -3941.7680 - acc: 0.0000e+0 - ETA: 5s - loss: -3941.6487 - acc: 0.0000e+0 - ETA: 5s - loss: -3942.4157 - acc: 0.0000e+0 - ETA: 5s - loss: -3941.4861 - acc: 0.0000e+0 - ETA: 5s - loss: -3940.8492 - acc: 0.0000e+0 - ETA: 5s - loss: -3938.8588 - acc: 0.0000e+0 - ETA: 5s - loss: -3939.3654 - acc: 0.0000e+0 - ETA: 5s - loss: -3940.0160 - acc: 0.0000e+0 - ETA: 5s - loss: -3939.6038 - acc: 0.0000e+0 - ETA: 5s - loss: -3939.0874 - acc: 0.0000e+0 - ETA: 5s - loss: -3940.6082 - acc: 0.0000e+0 - ETA: 5s - loss: -3939.6660 - acc: 0.0000e+0 - ETA: 5s - loss: -3940.4126 - acc: 0.0000e+0 - ETA: 5s - loss: -3939.6307 - acc: 0.0000e+0 - ETA: 5s - loss: -3939.0894 - acc: 0.0000e+0 - ETA: 4s - loss: -3939.7256 - acc: 0.0000e+0 - ETA: 4s - loss: -3940.9274 - acc: 0.0000e+0 - ETA: 4s - loss: -3940.1854 - acc: 0.0000e+0 - ETA: 4s - loss: -3940.4709 - acc: 0.0000e+0 - ETA: 4s - loss: -3938.9420 - acc: 0.0000e+0 - ETA: 4s - loss: -3939.3214 - acc: 0.0000e+0 - ETA: 4s - loss: -3938.5168 - acc: 0.0000e+0 - ETA: 4s - loss: -3939.6040 - acc: 0.0000e+0 - ETA: 4s - loss: -3939.9804 - acc: 0.0000e+0 - ETA: 4s - loss: -3941.2328 - acc: 0.0000e+0 - ETA: 4s - loss: -3941.8365 - acc: 0.0000e+0 - ETA: 4s - loss: -3941.2850 - acc: 0.0000e+0 - ETA: 4s - loss: -3940.9794 - acc: 0.0000e+0 - ETA: 4s - loss: -3940.9471 - acc: 0.0000e+0 - ETA: 4s - loss: -3941.5662 - acc: 0.0000e+0 - ETA: 4s - loss: -3942.3742 - acc: 0.0000e+0 - ETA: 4s - loss: -3942.7281 - acc: 0.0000e+0 - ETA: 4s - loss: -3942.8872 - acc: 0.0000e+0 - ETA: 3s - loss: -3942.4140 - acc: 0.0000e+0 - ETA: 3s - loss: -3943.4326 - acc: 0.0000e+0 - ETA: 3s - loss: -3943.5161 - acc: 0.0000e+0 - ETA: 3s - loss: -3944.1291 - acc: 0.0000e+0 - ETA: 3s - loss: -3944.2061 - acc: 0.0000e+0 - ETA: 3s - loss: -3944.5053 - acc: 0.0000e+0 - ETA: 3s - loss: -3944.5177 - acc: 0.0000e+0 - ETA: 3s - loss: -3944.5483 - acc: 0.0000e+0 - ETA: 3s - loss: -3944.3994 - acc: 0.0000e+0 - ETA: 3s - loss: -3944.6779 - acc: 0.0000e+0 - ETA: 3s - loss: -3945.1734 - acc: 0.0000e+0 - ETA: 3s - loss: -3945.3290 - acc: 0.0000e+0 - ETA: 3s - loss: -3946.1505 - acc: 0.0000e+0 - ETA: 3s - loss: -3946.8375 - acc: 0.0000e+0 - ETA: 3s - loss: -3947.8149 - acc: 0.0000e+0 - ETA: 3s - loss: -3947.7615 - acc: 0.0000e+0 - ETA: 3s - loss: -3948.0490 - acc: 0.0000e+0 - ETA: 2s - loss: -3947.7650 - acc: 0.0000e+0 - ETA: 2s - loss: -3947.2815 - acc: 0.0000e+0 - ETA: 2s - loss: -3947.6547 - acc: 0.0000e+0 - ETA: 2s - loss: -3948.1932 - acc: 0.0000e+0 - ETA: 2s - loss: -3948.1014 - acc: 0.0000e+0 - ETA: 2s - loss: -3948.1335 - acc: 0.0000e+0 - ETA: 2s - loss: -3947.4234 - acc: 0.0000e+0 - ETA: 2s - loss: -3947.3769 - acc: 0.0000e+0 - ETA: 2s - loss: -3947.5742 - acc: 0.0000e+0 - ETA: 2s - loss: -3947.4066 - acc: 0.0000e+0 - ETA: 2s - loss: -3947.1445 - acc: 0.0000e+0 - ETA: 2s - loss: -3947.3078 - acc: 0.0000e+00"
     ]
    },
    {
     "name": "stdout",
     "output_type": "stream",
     "text": [
      "55399/55399 [==============================] - ETA: 2s - loss: -3947.6044 - acc: 0.0000e+0 - ETA: 2s - loss: -3947.5773 - acc: 0.0000e+0 - ETA: 2s - loss: -3948.1273 - acc: 0.0000e+0 - ETA: 2s - loss: -3947.9711 - acc: 0.0000e+0 - ETA: 2s - loss: -3947.9287 - acc: 0.0000e+0 - ETA: 1s - loss: -3947.1994 - acc: 0.0000e+0 - ETA: 1s - loss: -3946.9508 - acc: 0.0000e+0 - ETA: 1s - loss: -3946.4211 - acc: 0.0000e+0 - ETA: 1s - loss: -3946.0037 - acc: 0.0000e+0 - ETA: 1s - loss: -3946.3028 - acc: 0.0000e+0 - ETA: 1s - loss: -3946.2560 - acc: 0.0000e+0 - ETA: 1s - loss: -3945.5070 - acc: 0.0000e+0 - ETA: 1s - loss: -3945.9943 - acc: 0.0000e+0 - ETA: 1s - loss: -3945.4816 - acc: 0.0000e+0 - ETA: 1s - loss: -3945.4211 - acc: 0.0000e+0 - ETA: 1s - loss: -3945.4759 - acc: 0.0000e+0 - ETA: 1s - loss: -3945.6115 - acc: 0.0000e+0 - ETA: 1s - loss: -3945.8173 - acc: 0.0000e+0 - ETA: 1s - loss: -3946.1845 - acc: 0.0000e+0 - ETA: 1s - loss: -3946.4532 - acc: 0.0000e+0 - ETA: 1s - loss: -3946.0583 - acc: 0.0000e+0 - ETA: 1s - loss: -3945.6354 - acc: 0.0000e+0 - ETA: 1s - loss: -3945.0055 - acc: 0.0000e+0 - ETA: 0s - loss: -3945.0353 - acc: 0.0000e+0 - ETA: 0s - loss: -3945.8448 - acc: 0.0000e+0 - ETA: 0s - loss: -3946.4042 - acc: 0.0000e+0 - ETA: 0s - loss: -3946.3339 - acc: 0.0000e+0 - ETA: 0s - loss: -3946.6679 - acc: 0.0000e+0 - ETA: 0s - loss: -3945.9033 - acc: 0.0000e+0 - ETA: 0s - loss: -3946.2136 - acc: 0.0000e+0 - ETA: 0s - loss: -3945.7122 - acc: 0.0000e+0 - ETA: 0s - loss: -3945.3038 - acc: 0.0000e+0 - ETA: 0s - loss: -3945.6281 - acc: 0.0000e+0 - ETA: 0s - loss: -3945.9638 - acc: 0.0000e+0 - ETA: 0s - loss: -3945.2468 - acc: 0.0000e+0 - ETA: 0s - loss: -3945.4673 - acc: 0.0000e+0 - ETA: 0s - loss: -3945.8090 - acc: 0.0000e+0 - ETA: 0s - loss: -3944.9460 - acc: 0.0000e+0 - ETA: 0s - loss: -3945.3313 - acc: 0.0000e+0 - ETA: 0s - loss: -3945.1759 - acc: 0.0000e+0 - 16s 287us/step - loss: -3945.0690 - acc: 0.0000e+00 - val_loss: -3953.5064 - val_acc: 0.0000e+00\n",
      "Epoch 4/10\n"
     ]
    },
    {
     "name": "stdout",
     "output_type": "stream",
     "text": [
      "44992/55399 [=======================>......] - ETA: 13s - loss: -4129.5762 - acc: 0.0000e+ - ETA: 13s - loss: -4041.0957 - acc: 0.0000e+ - ETA: 12s - loss: -4065.5295 - acc: 0.0000e+ - ETA: 12s - loss: -3990.6356 - acc: 0.0000e+ - ETA: 12s - loss: -3980.6288 - acc: 0.0000e+ - ETA: 12s - loss: -3986.4977 - acc: 0.0000e+ - ETA: 12s - loss: -3970.3513 - acc: 0.0000e+ - ETA: 12s - loss: -3976.6802 - acc: 0.0000e+ - ETA: 12s - loss: -3975.1189 - acc: 0.0000e+ - ETA: 12s - loss: -3963.8033 - acc: 0.0000e+ - ETA: 11s - loss: -3954.7868 - acc: 0.0000e+ - ETA: 11s - loss: -3950.9049 - acc: 0.0000e+ - ETA: 11s - loss: -3965.8716 - acc: 0.0000e+ - ETA: 11s - loss: -3975.2280 - acc: 0.0000e+ - ETA: 11s - loss: -3972.3939 - acc: 0.0000e+ - ETA: 11s - loss: -3961.9154 - acc: 0.0000e+ - ETA: 11s - loss: -3964.5684 - acc: 0.0000e+ - ETA: 11s - loss: -3954.5959 - acc: 0.0000e+ - ETA: 11s - loss: -3956.1125 - acc: 0.0000e+ - ETA: 11s - loss: -3961.6040 - acc: 0.0000e+ - ETA: 11s - loss: -3955.8350 - acc: 0.0000e+ - ETA: 11s - loss: -3959.2776 - acc: 0.0000e+ - ETA: 11s - loss: -3955.9335 - acc: 0.0000e+ - ETA: 11s - loss: -3955.9208 - acc: 0.0000e+ - ETA: 11s - loss: -3957.7671 - acc: 0.0000e+ - ETA: 11s - loss: -3950.4457 - acc: 0.0000e+ - ETA: 11s - loss: -3948.9187 - acc: 0.0000e+ - ETA: 11s - loss: -3953.6930 - acc: 0.0000e+ - ETA: 11s - loss: -3949.7525 - acc: 0.0000e+ - ETA: 11s - loss: -3952.7408 - acc: 0.0000e+ - ETA: 11s - loss: -3949.6636 - acc: 0.0000e+ - ETA: 10s - loss: -3950.4430 - acc: 0.0000e+ - ETA: 10s - loss: -3947.4995 - acc: 0.0000e+ - ETA: 10s - loss: -3950.8109 - acc: 0.0000e+ - ETA: 10s - loss: -3953.0081 - acc: 0.0000e+ - ETA: 10s - loss: -3954.0780 - acc: 0.0000e+ - ETA: 10s - loss: -3948.9941 - acc: 0.0000e+ - ETA: 10s - loss: -3948.2733 - acc: 0.0000e+ - ETA: 10s - loss: -3942.6658 - acc: 0.0000e+ - ETA: 10s - loss: -3938.3040 - acc: 0.0000e+ - ETA: 10s - loss: -3936.5796 - acc: 0.0000e+ - ETA: 10s - loss: -3933.6704 - acc: 0.0000e+ - ETA: 10s - loss: -3933.1734 - acc: 0.0000e+ - ETA: 10s - loss: -3932.1039 - acc: 0.0000e+ - ETA: 10s - loss: -3933.8888 - acc: 0.0000e+ - ETA: 10s - loss: -3937.2041 - acc: 0.0000e+ - ETA: 10s - loss: -3939.9361 - acc: 0.0000e+ - ETA: 10s - loss: -3936.4410 - acc: 0.0000e+ - ETA: 10s - loss: -3937.2526 - acc: 0.0000e+ - ETA: 9s - loss: -3940.7046 - acc: 0.0000e+00 - ETA: 9s - loss: -3941.5681 - acc: 0.0000e+0 - ETA: 9s - loss: -3944.3733 - acc: 0.0000e+0 - ETA: 9s - loss: -3944.3968 - acc: 0.0000e+0 - ETA: 9s - loss: -3947.2218 - acc: 0.0000e+0 - ETA: 9s - loss: -3945.2665 - acc: 0.0000e+0 - ETA: 9s - loss: -3943.1076 - acc: 0.0000e+0 - ETA: 9s - loss: -3943.4523 - acc: 0.0000e+0 - ETA: 9s - loss: -3943.4399 - acc: 0.0000e+0 - ETA: 9s - loss: -3944.8197 - acc: 0.0000e+0 - ETA: 9s - loss: -3942.1432 - acc: 0.0000e+0 - ETA: 9s - loss: -3938.9203 - acc: 0.0000e+0 - ETA: 9s - loss: -3938.3846 - acc: 0.0000e+0 - ETA: 9s - loss: -3940.0737 - acc: 0.0000e+0 - ETA: 9s - loss: -3940.3617 - acc: 0.0000e+0 - ETA: 9s - loss: -3939.7373 - acc: 0.0000e+0 - ETA: 9s - loss: -3937.1791 - acc: 0.0000e+0 - ETA: 9s - loss: -3937.8546 - acc: 0.0000e+0 - ETA: 8s - loss: -3939.3601 - acc: 0.0000e+0 - ETA: 8s - loss: -3938.4933 - acc: 0.0000e+0 - ETA: 8s - loss: -3939.6600 - acc: 0.0000e+0 - ETA: 8s - loss: -3939.1597 - acc: 0.0000e+0 - ETA: 8s - loss: -3939.7459 - acc: 0.0000e+0 - ETA: 8s - loss: -3939.4274 - acc: 0.0000e+0 - ETA: 8s - loss: -3939.7687 - acc: 0.0000e+0 - ETA: 8s - loss: -3940.5642 - acc: 0.0000e+0 - ETA: 8s - loss: -3942.5772 - acc: 0.0000e+0 - ETA: 8s - loss: -3943.5487 - acc: 0.0000e+0 - ETA: 8s - loss: -3942.2382 - acc: 0.0000e+0 - ETA: 8s - loss: -3943.8704 - acc: 0.0000e+0 - ETA: 8s - loss: -3943.0271 - acc: 0.0000e+0 - ETA: 8s - loss: -3945.1347 - acc: 0.0000e+0 - ETA: 8s - loss: -3945.4432 - acc: 0.0000e+0 - ETA: 8s - loss: -3945.6096 - acc: 0.0000e+0 - ETA: 8s - loss: -3945.0835 - acc: 0.0000e+0 - ETA: 7s - loss: -3945.7089 - acc: 0.0000e+0 - ETA: 7s - loss: -3945.4086 - acc: 0.0000e+0 - ETA: 7s - loss: -3945.6485 - acc: 0.0000e+0 - ETA: 7s - loss: -3946.4091 - acc: 0.0000e+0 - ETA: 7s - loss: -3944.5894 - acc: 0.0000e+0 - ETA: 7s - loss: -3943.0571 - acc: 0.0000e+0 - ETA: 7s - loss: -3943.5011 - acc: 0.0000e+0 - ETA: 7s - loss: -3942.1400 - acc: 0.0000e+0 - ETA: 7s - loss: -3940.5030 - acc: 0.0000e+0 - ETA: 7s - loss: -3939.6844 - acc: 0.0000e+0 - ETA: 7s - loss: -3940.1881 - acc: 0.0000e+0 - ETA: 7s - loss: -3939.6281 - acc: 0.0000e+0 - ETA: 7s - loss: -3940.0351 - acc: 0.0000e+0 - ETA: 7s - loss: -3939.7496 - acc: 0.0000e+0 - ETA: 7s - loss: -3940.1706 - acc: 0.0000e+0 - ETA: 7s - loss: -3940.0116 - acc: 0.0000e+0 - ETA: 6s - loss: -3939.7418 - acc: 0.0000e+0 - ETA: 6s - loss: -3938.0206 - acc: 0.0000e+0 - ETA: 6s - loss: -3938.9403 - acc: 0.0000e+0 - ETA: 6s - loss: -3941.2157 - acc: 0.0000e+0 - ETA: 6s - loss: -3941.5717 - acc: 0.0000e+0 - ETA: 6s - loss: -3941.7046 - acc: 0.0000e+0 - ETA: 6s - loss: -3943.4629 - acc: 0.0000e+0 - ETA: 6s - loss: -3942.8762 - acc: 0.0000e+0 - ETA: 6s - loss: -3942.1347 - acc: 0.0000e+0 - ETA: 6s - loss: -3943.0087 - acc: 0.0000e+0 - ETA: 6s - loss: -3943.7025 - acc: 0.0000e+0 - ETA: 6s - loss: -3942.6141 - acc: 0.0000e+0 - ETA: 6s - loss: -3943.6290 - acc: 0.0000e+0 - ETA: 6s - loss: -3943.5166 - acc: 0.0000e+0 - ETA: 6s - loss: -3942.9123 - acc: 0.0000e+0 - ETA: 6s - loss: -3943.5919 - acc: 0.0000e+0 - ETA: 6s - loss: -3942.6621 - acc: 0.0000e+0 - ETA: 5s - loss: -3941.8409 - acc: 0.0000e+0 - ETA: 5s - loss: -3940.7051 - acc: 0.0000e+0 - ETA: 5s - loss: -3941.3776 - acc: 0.0000e+0 - ETA: 5s - loss: -3942.2513 - acc: 0.0000e+0 - ETA: 5s - loss: -3942.3787 - acc: 0.0000e+0 - ETA: 5s - loss: -3942.3817 - acc: 0.0000e+0 - ETA: 5s - loss: -3942.5794 - acc: 0.0000e+0 - ETA: 5s - loss: -3943.7808 - acc: 0.0000e+0 - ETA: 5s - loss: -3943.8647 - acc: 0.0000e+0 - ETA: 5s - loss: -3943.2453 - acc: 0.0000e+0 - ETA: 5s - loss: -3943.7376 - acc: 0.0000e+0 - ETA: 5s - loss: -3943.6907 - acc: 0.0000e+0 - ETA: 5s - loss: -3944.7030 - acc: 0.0000e+0 - ETA: 5s - loss: -3943.8462 - acc: 0.0000e+0 - ETA: 5s - loss: -3944.4130 - acc: 0.0000e+0 - ETA: 5s - loss: -3944.2855 - acc: 0.0000e+0 - ETA: 5s - loss: -3945.4991 - acc: 0.0000e+0 - ETA: 4s - loss: -3945.1957 - acc: 0.0000e+0 - ETA: 4s - loss: -3945.2100 - acc: 0.0000e+0 - ETA: 4s - loss: -3945.0815 - acc: 0.0000e+0 - ETA: 4s - loss: -3945.2448 - acc: 0.0000e+0 - ETA: 4s - loss: -3945.0075 - acc: 0.0000e+0 - ETA: 4s - loss: -3944.5913 - acc: 0.0000e+0 - ETA: 4s - loss: -3943.9047 - acc: 0.0000e+0 - ETA: 4s - loss: -3943.5722 - acc: 0.0000e+0 - ETA: 4s - loss: -3943.4851 - acc: 0.0000e+0 - ETA: 4s - loss: -3942.6015 - acc: 0.0000e+0 - ETA: 4s - loss: -3942.7445 - acc: 0.0000e+0 - ETA: 4s - loss: -3943.1662 - acc: 0.0000e+0 - ETA: 4s - loss: -3943.1337 - acc: 0.0000e+0 - ETA: 4s - loss: -3943.0829 - acc: 0.0000e+0 - ETA: 4s - loss: -3942.2012 - acc: 0.0000e+0 - ETA: 4s - loss: -3942.1918 - acc: 0.0000e+0 - ETA: 4s - loss: -3943.1753 - acc: 0.0000e+0 - ETA: 3s - loss: -3943.3049 - acc: 0.0000e+0 - ETA: 3s - loss: -3942.5989 - acc: 0.0000e+0 - ETA: 3s - loss: -3944.0178 - acc: 0.0000e+0 - ETA: 3s - loss: -3943.7254 - acc: 0.0000e+0 - ETA: 3s - loss: -3943.8977 - acc: 0.0000e+0 - ETA: 3s - loss: -3943.7245 - acc: 0.0000e+0 - ETA: 3s - loss: -3943.4743 - acc: 0.0000e+0 - ETA: 3s - loss: -3943.5234 - acc: 0.0000e+0 - ETA: 3s - loss: -3943.4253 - acc: 0.0000e+0 - ETA: 3s - loss: -3943.7027 - acc: 0.0000e+0 - ETA: 3s - loss: -3945.3578 - acc: 0.0000e+0 - ETA: 3s - loss: -3945.8867 - acc: 0.0000e+0 - ETA: 3s - loss: -3945.6983 - acc: 0.0000e+0 - ETA: 3s - loss: -3946.2189 - acc: 0.0000e+0 - ETA: 3s - loss: -3945.4542 - acc: 0.0000e+0 - ETA: 3s - loss: -3945.7625 - acc: 0.0000e+0 - ETA: 3s - loss: -3946.7569 - acc: 0.0000e+0 - ETA: 2s - loss: -3947.4705 - acc: 0.0000e+0 - ETA: 2s - loss: -3948.1176 - acc: 0.0000e+0 - ETA: 2s - loss: -3947.8515 - acc: 0.0000e+0 - ETA: 2s - loss: -3947.9425 - acc: 0.0000e+0 - ETA: 2s - loss: -3948.4406 - acc: 0.0000e+0 - ETA: 2s - loss: -3948.5721 - acc: 0.0000e+0 - ETA: 2s - loss: -3948.7395 - acc: 0.0000e+0 - ETA: 2s - loss: -3948.1836 - acc: 0.0000e+0 - ETA: 2s - loss: -3947.5463 - acc: 0.0000e+0 - ETA: 2s - loss: -3947.8882 - acc: 0.0000e+00"
     ]
    },
    {
     "name": "stdout",
     "output_type": "stream",
     "text": [
      "55399/55399 [==============================] - ETA: 2s - loss: -3947.2968 - acc: 0.0000e+0 - ETA: 2s - loss: -3947.6111 - acc: 0.0000e+0 - ETA: 2s - loss: -3947.4585 - acc: 0.0000e+0 - ETA: 2s - loss: -3947.0574 - acc: 0.0000e+0 - ETA: 2s - loss: -3947.6590 - acc: 0.0000e+0 - ETA: 2s - loss: -3947.4342 - acc: 0.0000e+0 - ETA: 1s - loss: -3946.4160 - acc: 0.0000e+0 - ETA: 1s - loss: -3946.2578 - acc: 0.0000e+0 - ETA: 1s - loss: -3946.8546 - acc: 0.0000e+0 - ETA: 1s - loss: -3946.5532 - acc: 0.0000e+0 - ETA: 1s - loss: -3945.5935 - acc: 0.0000e+0 - ETA: 1s - loss: -3945.7571 - acc: 0.0000e+0 - ETA: 1s - loss: -3946.6891 - acc: 0.0000e+0 - ETA: 1s - loss: -3946.1101 - acc: 0.0000e+0 - ETA: 1s - loss: -3947.0899 - acc: 0.0000e+0 - ETA: 1s - loss: -3947.0530 - acc: 0.0000e+0 - ETA: 1s - loss: -3946.8462 - acc: 0.0000e+0 - ETA: 1s - loss: -3947.1529 - acc: 0.0000e+0 - ETA: 1s - loss: -3947.0129 - acc: 0.0000e+0 - ETA: 1s - loss: -3946.1751 - acc: 0.0000e+0 - ETA: 1s - loss: -3946.5806 - acc: 0.0000e+0 - ETA: 1s - loss: -3946.0161 - acc: 0.0000e+0 - ETA: 1s - loss: -3946.2682 - acc: 0.0000e+0 - ETA: 0s - loss: -3946.3357 - acc: 0.0000e+0 - ETA: 0s - loss: -3946.6678 - acc: 0.0000e+0 - ETA: 0s - loss: -3946.7758 - acc: 0.0000e+0 - ETA: 0s - loss: -3946.5539 - acc: 0.0000e+0 - ETA: 0s - loss: -3947.0117 - acc: 0.0000e+0 - ETA: 0s - loss: -3946.3929 - acc: 0.0000e+0 - ETA: 0s - loss: -3946.3277 - acc: 0.0000e+0 - ETA: 0s - loss: -3945.8128 - acc: 0.0000e+0 - ETA: 0s - loss: -3945.6911 - acc: 0.0000e+0 - ETA: 0s - loss: -3946.0562 - acc: 0.0000e+0 - ETA: 0s - loss: -3945.9653 - acc: 0.0000e+0 - ETA: 0s - loss: -3945.3827 - acc: 0.0000e+0 - ETA: 0s - loss: -3944.4044 - acc: 0.0000e+0 - ETA: 0s - loss: -3944.4868 - acc: 0.0000e+0 - ETA: 0s - loss: -3944.2395 - acc: 0.0000e+0 - ETA: 0s - loss: -3944.5270 - acc: 0.0000e+0 - ETA: 0s - loss: -3944.1154 - acc: 0.0000e+0 - ETA: 0s - loss: -3944.9938 - acc: 0.0000e+0 - 16s 287us/step - loss: -3945.0690 - acc: 0.0000e+00 - val_loss: -3953.5064 - val_acc: 0.0000e+00\n",
      "Epoch 5/10\n"
     ]
    },
    {
     "name": "stdout",
     "output_type": "stream",
     "text": [
      "44992/55399 [=======================>......] - ETA: 13s - loss: -3821.4395 - acc: 0.0000e+ - ETA: 12s - loss: -3995.7097 - acc: 0.0000e+ - ETA: 12s - loss: -3986.0114 - acc: 0.0000e+ - ETA: 12s - loss: -3936.6577 - acc: 0.0000e+ - ETA: 12s - loss: -3925.0210 - acc: 0.0000e+ - ETA: 12s - loss: -3905.7657 - acc: 0.0000e+ - ETA: 12s - loss: -3916.2767 - acc: 0.0000e+ - ETA: 12s - loss: -3913.4861 - acc: 0.0000e+ - ETA: 12s - loss: -3906.7524 - acc: 0.0000e+ - ETA: 12s - loss: -3913.2226 - acc: 0.0000e+ - ETA: 12s - loss: -3919.4329 - acc: 0.0000e+ - ETA: 12s - loss: -3918.1898 - acc: 0.0000e+ - ETA: 12s - loss: -3917.6479 - acc: 0.0000e+ - ETA: 12s - loss: -3919.5566 - acc: 0.0000e+ - ETA: 11s - loss: -3920.5724 - acc: 0.0000e+ - ETA: 11s - loss: -3924.4524 - acc: 0.0000e+ - ETA: 11s - loss: -3921.9953 - acc: 0.0000e+ - ETA: 11s - loss: -3929.4224 - acc: 0.0000e+ - ETA: 11s - loss: -3922.5125 - acc: 0.0000e+ - ETA: 11s - loss: -3917.5596 - acc: 0.0000e+ - ETA: 11s - loss: -3916.9923 - acc: 0.0000e+ - ETA: 11s - loss: -3919.6023 - acc: 0.0000e+ - ETA: 11s - loss: -3921.4488 - acc: 0.0000e+ - ETA: 11s - loss: -3921.0956 - acc: 0.0000e+ - ETA: 11s - loss: -3922.9606 - acc: 0.0000e+ - ETA: 11s - loss: -3922.4818 - acc: 0.0000e+ - ETA: 11s - loss: -3915.4914 - acc: 0.0000e+ - ETA: 11s - loss: -3917.3452 - acc: 0.0000e+ - ETA: 11s - loss: -3911.6269 - acc: 0.0000e+ - ETA: 10s - loss: -3913.1296 - acc: 0.0000e+ - ETA: 10s - loss: -3914.4616 - acc: 0.0000e+ - ETA: 10s - loss: -3916.2119 - acc: 0.0000e+ - ETA: 10s - loss: -3920.8555 - acc: 0.0000e+ - ETA: 10s - loss: -3918.7072 - acc: 0.0000e+ - ETA: 10s - loss: -3917.6029 - acc: 0.0000e+ - ETA: 10s - loss: -3919.5527 - acc: 0.0000e+ - ETA: 10s - loss: -3921.7055 - acc: 0.0000e+ - ETA: 10s - loss: -3922.3434 - acc: 0.0000e+ - ETA: 10s - loss: -3927.5166 - acc: 0.0000e+ - ETA: 10s - loss: -3927.1472 - acc: 0.0000e+ - ETA: 10s - loss: -3928.1133 - acc: 0.0000e+ - ETA: 10s - loss: -3929.2419 - acc: 0.0000e+ - ETA: 10s - loss: -3925.3645 - acc: 0.0000e+ - ETA: 10s - loss: -3927.7138 - acc: 0.0000e+ - ETA: 10s - loss: -3928.3004 - acc: 0.0000e+ - ETA: 9s - loss: -3928.8222 - acc: 0.0000e+00 - ETA: 9s - loss: -3928.3858 - acc: 0.0000e+0 - ETA: 9s - loss: -3928.1310 - acc: 0.0000e+0 - ETA: 9s - loss: -3930.9836 - acc: 0.0000e+0 - ETA: 9s - loss: -3934.9031 - acc: 0.0000e+0 - ETA: 9s - loss: -3937.7454 - acc: 0.0000e+0 - ETA: 9s - loss: -3940.2918 - acc: 0.0000e+0 - ETA: 9s - loss: -3938.2026 - acc: 0.0000e+0 - ETA: 9s - loss: -3941.2905 - acc: 0.0000e+0 - ETA: 9s - loss: -3943.3922 - acc: 0.0000e+0 - ETA: 9s - loss: -3942.6287 - acc: 0.0000e+0 - ETA: 9s - loss: -3943.2281 - acc: 0.0000e+0 - ETA: 9s - loss: -3942.8024 - acc: 0.0000e+0 - ETA: 9s - loss: -3942.4375 - acc: 0.0000e+0 - ETA: 9s - loss: -3940.7181 - acc: 0.0000e+0 - ETA: 9s - loss: -3940.1926 - acc: 0.0000e+0 - ETA: 9s - loss: -3937.8109 - acc: 0.0000e+0 - ETA: 8s - loss: -3935.8706 - acc: 0.0000e+0 - ETA: 8s - loss: -3935.7120 - acc: 0.0000e+0 - ETA: 8s - loss: -3939.3823 - acc: 0.0000e+0 - ETA: 8s - loss: -3939.1008 - acc: 0.0000e+0 - ETA: 8s - loss: -3939.3099 - acc: 0.0000e+0 - ETA: 8s - loss: -3940.8289 - acc: 0.0000e+0 - ETA: 8s - loss: -3940.2921 - acc: 0.0000e+0 - ETA: 8s - loss: -3939.3367 - acc: 0.0000e+0 - ETA: 8s - loss: -3939.9273 - acc: 0.0000e+0 - ETA: 8s - loss: -3940.7661 - acc: 0.0000e+0 - ETA: 8s - loss: -3939.7160 - acc: 0.0000e+0 - ETA: 8s - loss: -3941.6540 - acc: 0.0000e+0 - ETA: 8s - loss: -3941.0713 - acc: 0.0000e+0 - ETA: 8s - loss: -3940.2517 - acc: 0.0000e+0 - ETA: 8s - loss: -3939.2989 - acc: 0.0000e+0 - ETA: 8s - loss: -3939.9592 - acc: 0.0000e+0 - ETA: 8s - loss: -3939.5814 - acc: 0.0000e+0 - ETA: 7s - loss: -3939.2053 - acc: 0.0000e+0 - ETA: 7s - loss: -3940.9661 - acc: 0.0000e+0 - ETA: 7s - loss: -3942.0768 - acc: 0.0000e+0 - ETA: 7s - loss: -3941.5146 - acc: 0.0000e+0 - ETA: 7s - loss: -3943.5283 - acc: 0.0000e+0 - ETA: 7s - loss: -3944.2686 - acc: 0.0000e+0 - ETA: 7s - loss: -3943.2917 - acc: 0.0000e+0 - ETA: 7s - loss: -3944.6070 - acc: 0.0000e+0 - ETA: 7s - loss: -3944.1382 - acc: 0.0000e+0 - ETA: 7s - loss: -3943.6292 - acc: 0.0000e+0 - ETA: 7s - loss: -3943.6383 - acc: 0.0000e+0 - ETA: 7s - loss: -3943.1669 - acc: 0.0000e+0 - ETA: 7s - loss: -3944.7609 - acc: 0.0000e+0 - ETA: 7s - loss: -3944.8508 - acc: 0.0000e+0 - ETA: 7s - loss: -3946.1018 - acc: 0.0000e+0 - ETA: 7s - loss: -3945.7674 - acc: 0.0000e+0 - ETA: 7s - loss: -3945.8877 - acc: 0.0000e+0 - ETA: 6s - loss: -3946.5135 - acc: 0.0000e+0 - ETA: 6s - loss: -3945.8763 - acc: 0.0000e+0 - ETA: 6s - loss: -3946.1291 - acc: 0.0000e+0 - ETA: 6s - loss: -3946.1397 - acc: 0.0000e+0 - ETA: 6s - loss: -3947.3886 - acc: 0.0000e+0 - ETA: 6s - loss: -3948.0462 - acc: 0.0000e+0 - ETA: 6s - loss: -3948.9602 - acc: 0.0000e+0 - ETA: 6s - loss: -3950.0741 - acc: 0.0000e+0 - ETA: 6s - loss: -3951.1803 - acc: 0.0000e+0 - ETA: 6s - loss: -3952.0988 - acc: 0.0000e+0 - ETA: 6s - loss: -3950.2240 - acc: 0.0000e+0 - ETA: 6s - loss: -3950.0546 - acc: 0.0000e+0 - ETA: 6s - loss: -3949.0419 - acc: 0.0000e+0 - ETA: 6s - loss: -3949.8955 - acc: 0.0000e+0 - ETA: 6s - loss: -3950.0581 - acc: 0.0000e+0 - ETA: 6s - loss: -3950.0658 - acc: 0.0000e+0 - ETA: 6s - loss: -3948.7678 - acc: 0.0000e+0 - ETA: 5s - loss: -3949.1003 - acc: 0.0000e+0 - ETA: 5s - loss: -3947.5118 - acc: 0.0000e+0 - ETA: 5s - loss: -3947.4958 - acc: 0.0000e+0 - ETA: 5s - loss: -3946.8869 - acc: 0.0000e+0 - ETA: 5s - loss: -3946.7153 - acc: 0.0000e+0 - ETA: 5s - loss: -3947.0042 - acc: 0.0000e+0 - ETA: 5s - loss: -3946.9386 - acc: 0.0000e+0 - ETA: 5s - loss: -3945.6494 - acc: 0.0000e+0 - ETA: 5s - loss: -3944.4268 - acc: 0.0000e+0 - ETA: 5s - loss: -3944.3258 - acc: 0.0000e+0 - ETA: 5s - loss: -3944.1970 - acc: 0.0000e+0 - ETA: 5s - loss: -3944.9362 - acc: 0.0000e+0 - ETA: 5s - loss: -3945.7452 - acc: 0.0000e+0 - ETA: 5s - loss: -3945.5405 - acc: 0.0000e+0 - ETA: 5s - loss: -3945.4896 - acc: 0.0000e+0 - ETA: 5s - loss: -3945.5252 - acc: 0.0000e+0 - ETA: 5s - loss: -3947.3121 - acc: 0.0000e+0 - ETA: 4s - loss: -3947.4135 - acc: 0.0000e+0 - ETA: 4s - loss: -3948.1556 - acc: 0.0000e+0 - ETA: 4s - loss: -3947.4632 - acc: 0.0000e+0 - ETA: 4s - loss: -3948.5168 - acc: 0.0000e+0 - ETA: 4s - loss: -3948.2735 - acc: 0.0000e+0 - ETA: 4s - loss: -3947.7270 - acc: 0.0000e+0 - ETA: 4s - loss: -3948.0851 - acc: 0.0000e+0 - ETA: 4s - loss: -3948.3544 - acc: 0.0000e+0 - ETA: 4s - loss: -3948.0309 - acc: 0.0000e+0 - ETA: 4s - loss: -3947.8948 - acc: 0.0000e+0 - ETA: 4s - loss: -3948.5971 - acc: 0.0000e+0 - ETA: 4s - loss: -3948.9860 - acc: 0.0000e+0 - ETA: 4s - loss: -3948.8450 - acc: 0.0000e+0 - ETA: 4s - loss: -3948.9374 - acc: 0.0000e+0 - ETA: 4s - loss: -3948.1787 - acc: 0.0000e+0 - ETA: 4s - loss: -3949.1634 - acc: 0.0000e+0 - ETA: 4s - loss: -3950.0087 - acc: 0.0000e+0 - ETA: 4s - loss: -3949.9239 - acc: 0.0000e+0 - ETA: 3s - loss: -3949.7993 - acc: 0.0000e+0 - ETA: 3s - loss: -3949.2763 - acc: 0.0000e+0 - ETA: 3s - loss: -3948.9735 - acc: 0.0000e+0 - ETA: 3s - loss: -3947.8617 - acc: 0.0000e+0 - ETA: 3s - loss: -3948.2612 - acc: 0.0000e+0 - ETA: 3s - loss: -3948.1438 - acc: 0.0000e+0 - ETA: 3s - loss: -3947.9420 - acc: 0.0000e+0 - ETA: 3s - loss: -3947.7886 - acc: 0.0000e+0 - ETA: 3s - loss: -3948.6477 - acc: 0.0000e+0 - ETA: 3s - loss: -3949.5066 - acc: 0.0000e+0 - ETA: 3s - loss: -3950.0010 - acc: 0.0000e+0 - ETA: 3s - loss: -3950.4617 - acc: 0.0000e+0 - ETA: 3s - loss: -3949.2967 - acc: 0.0000e+0 - ETA: 3s - loss: -3948.4838 - acc: 0.0000e+0 - ETA: 3s - loss: -3948.1517 - acc: 0.0000e+0 - ETA: 3s - loss: -3947.7933 - acc: 0.0000e+0 - ETA: 3s - loss: -3947.7258 - acc: 0.0000e+0 - ETA: 3s - loss: -3947.8682 - acc: 0.0000e+0 - ETA: 2s - loss: -3947.4326 - acc: 0.0000e+0 - ETA: 2s - loss: -3947.4959 - acc: 0.0000e+0 - ETA: 2s - loss: -3946.9723 - acc: 0.0000e+0 - ETA: 2s - loss: -3946.1869 - acc: 0.0000e+0 - ETA: 2s - loss: -3946.4219 - acc: 0.0000e+0 - ETA: 2s - loss: -3946.4285 - acc: 0.0000e+0 - ETA: 2s - loss: -3947.2184 - acc: 0.0000e+0 - ETA: 2s - loss: -3947.2316 - acc: 0.0000e+0 - ETA: 2s - loss: -3947.8241 - acc: 0.0000e+0 - ETA: 2s - loss: -3948.0140 - acc: 0.0000e+0 - ETA: 2s - loss: -3947.9885 - acc: 0.0000e+0 - ETA: 2s - loss: -3947.1941 - acc: 0.0000e+00"
     ]
    },
    {
     "name": "stdout",
     "output_type": "stream",
     "text": [
      "55399/55399 [==============================] - ETA: 2s - loss: -3946.6295 - acc: 0.0000e+0 - ETA: 2s - loss: -3946.6612 - acc: 0.0000e+0 - ETA: 2s - loss: -3946.3874 - acc: 0.0000e+0 - ETA: 2s - loss: -3946.5049 - acc: 0.0000e+0 - ETA: 2s - loss: -3945.7748 - acc: 0.0000e+0 - ETA: 2s - loss: -3945.1984 - acc: 0.0000e+0 - ETA: 1s - loss: -3945.5420 - acc: 0.0000e+0 - ETA: 1s - loss: -3945.9006 - acc: 0.0000e+0 - ETA: 1s - loss: -3945.4881 - acc: 0.0000e+0 - ETA: 1s - loss: -3945.9624 - acc: 0.0000e+0 - ETA: 1s - loss: -3945.3390 - acc: 0.0000e+0 - ETA: 1s - loss: -3945.0725 - acc: 0.0000e+0 - ETA: 1s - loss: -3945.9410 - acc: 0.0000e+0 - ETA: 1s - loss: -3945.7676 - acc: 0.0000e+0 - ETA: 1s - loss: -3945.6842 - acc: 0.0000e+0 - ETA: 1s - loss: -3945.5906 - acc: 0.0000e+0 - ETA: 1s - loss: -3945.1217 - acc: 0.0000e+0 - ETA: 1s - loss: -3945.7489 - acc: 0.0000e+0 - ETA: 1s - loss: -3945.5174 - acc: 0.0000e+0 - ETA: 1s - loss: -3945.3611 - acc: 0.0000e+0 - ETA: 1s - loss: -3944.7063 - acc: 0.0000e+0 - ETA: 1s - loss: -3944.1015 - acc: 0.0000e+0 - ETA: 1s - loss: -3944.7542 - acc: 0.0000e+0 - ETA: 1s - loss: -3944.6715 - acc: 0.0000e+0 - ETA: 0s - loss: -3944.2394 - acc: 0.0000e+0 - ETA: 0s - loss: -3943.6517 - acc: 0.0000e+0 - ETA: 0s - loss: -3943.3177 - acc: 0.0000e+0 - ETA: 0s - loss: -3943.3624 - acc: 0.0000e+0 - ETA: 0s - loss: -3943.2126 - acc: 0.0000e+0 - ETA: 0s - loss: -3943.1314 - acc: 0.0000e+0 - ETA: 0s - loss: -3943.0591 - acc: 0.0000e+0 - ETA: 0s - loss: -3943.1875 - acc: 0.0000e+0 - ETA: 0s - loss: -3942.9151 - acc: 0.0000e+0 - ETA: 0s - loss: -3943.5245 - acc: 0.0000e+0 - ETA: 0s - loss: -3944.2723 - acc: 0.0000e+0 - ETA: 0s - loss: -3944.0969 - acc: 0.0000e+0 - ETA: 0s - loss: -3944.6445 - acc: 0.0000e+0 - ETA: 0s - loss: -3944.4751 - acc: 0.0000e+0 - ETA: 0s - loss: -3944.5206 - acc: 0.0000e+0 - ETA: 0s - loss: -3945.0592 - acc: 0.0000e+0 - ETA: 0s - loss: -3945.7518 - acc: 0.0000e+0 - 16s 285us/step - loss: -3945.0690 - acc: 0.0000e+00 - val_loss: -3953.5064 - val_acc: 0.0000e+00\n",
      "Epoch 6/10\n"
     ]
    },
    {
     "name": "stdout",
     "output_type": "stream",
     "text": [
      "44928/55399 [=======================>......] - ETA: 13s - loss: -3743.9692 - acc: 0.0000e+ - ETA: 12s - loss: -3953.6616 - acc: 0.0000e+ - ETA: 12s - loss: -3924.2623 - acc: 0.0000e+ - ETA: 12s - loss: -3976.6477 - acc: 0.0000e+ - ETA: 12s - loss: -3979.2368 - acc: 0.0000e+ - ETA: 12s - loss: -3970.0897 - acc: 0.0000e+ - ETA: 12s - loss: -3964.9624 - acc: 0.0000e+ - ETA: 12s - loss: -3951.9410 - acc: 0.0000e+ - ETA: 12s - loss: -3968.1359 - acc: 0.0000e+ - ETA: 12s - loss: -3969.3217 - acc: 0.0000e+ - ETA: 12s - loss: -3966.0855 - acc: 0.0000e+ - ETA: 12s - loss: -3956.4345 - acc: 0.0000e+ - ETA: 12s - loss: -3950.3174 - acc: 0.0000e+ - ETA: 12s - loss: -3947.4791 - acc: 0.0000e+ - ETA: 12s - loss: -3936.0654 - acc: 0.0000e+ - ETA: 11s - loss: -3936.3243 - acc: 0.0000e+ - ETA: 11s - loss: -3937.9442 - acc: 0.0000e+ - ETA: 11s - loss: -3943.2859 - acc: 0.0000e+ - ETA: 11s - loss: -3942.9448 - acc: 0.0000e+ - ETA: 11s - loss: -3942.8690 - acc: 0.0000e+ - ETA: 11s - loss: -3943.5980 - acc: 0.0000e+ - ETA: 11s - loss: -3943.4123 - acc: 0.0000e+ - ETA: 11s - loss: -3945.0099 - acc: 0.0000e+ - ETA: 11s - loss: -3941.4243 - acc: 0.0000e+ - ETA: 11s - loss: -3939.8008 - acc: 0.0000e+ - ETA: 11s - loss: -3943.0450 - acc: 0.0000e+ - ETA: 11s - loss: -3942.5450 - acc: 0.0000e+ - ETA: 11s - loss: -3943.0439 - acc: 0.0000e+ - ETA: 11s - loss: -3946.6432 - acc: 0.0000e+ - ETA: 11s - loss: -3943.6186 - acc: 0.0000e+ - ETA: 11s - loss: -3938.0513 - acc: 0.0000e+ - ETA: 10s - loss: -3934.9988 - acc: 0.0000e+ - ETA: 10s - loss: -3936.2433 - acc: 0.0000e+ - ETA: 10s - loss: -3932.0058 - acc: 0.0000e+ - ETA: 10s - loss: -3930.4645 - acc: 0.0000e+ - ETA: 10s - loss: -3931.7373 - acc: 0.0000e+ - ETA: 10s - loss: -3931.1402 - acc: 0.0000e+ - ETA: 10s - loss: -3931.6543 - acc: 0.0000e+ - ETA: 10s - loss: -3933.9522 - acc: 0.0000e+ - ETA: 10s - loss: -3935.3914 - acc: 0.0000e+ - ETA: 10s - loss: -3936.4410 - acc: 0.0000e+ - ETA: 10s - loss: -3937.3711 - acc: 0.0000e+ - ETA: 10s - loss: -3933.5462 - acc: 0.0000e+ - ETA: 10s - loss: -3931.1491 - acc: 0.0000e+ - ETA: 10s - loss: -3928.2396 - acc: 0.0000e+ - ETA: 10s - loss: -3925.5908 - acc: 0.0000e+ - ETA: 10s - loss: -3921.1768 - acc: 0.0000e+ - ETA: 9s - loss: -3920.1320 - acc: 0.0000e+00 - ETA: 9s - loss: -3920.6188 - acc: 0.0000e+0 - ETA: 9s - loss: -3922.9285 - acc: 0.0000e+0 - ETA: 9s - loss: -3921.5701 - acc: 0.0000e+0 - ETA: 9s - loss: -3920.6324 - acc: 0.0000e+0 - ETA: 9s - loss: -3923.9188 - acc: 0.0000e+0 - ETA: 9s - loss: -3925.0767 - acc: 0.0000e+0 - ETA: 9s - loss: -3926.0440 - acc: 0.0000e+0 - ETA: 9s - loss: -3926.4067 - acc: 0.0000e+0 - ETA: 9s - loss: -3927.9251 - acc: 0.0000e+0 - ETA: 9s - loss: -3926.1433 - acc: 0.0000e+0 - ETA: 9s - loss: -3929.9535 - acc: 0.0000e+0 - ETA: 9s - loss: -3930.2116 - acc: 0.0000e+0 - ETA: 9s - loss: -3929.2841 - acc: 0.0000e+0 - ETA: 9s - loss: -3929.8223 - acc: 0.0000e+0 - ETA: 9s - loss: -3930.1172 - acc: 0.0000e+0 - ETA: 9s - loss: -3929.8265 - acc: 0.0000e+0 - ETA: 8s - loss: -3930.2717 - acc: 0.0000e+0 - ETA: 8s - loss: -3928.9691 - acc: 0.0000e+0 - ETA: 8s - loss: -3927.9570 - acc: 0.0000e+0 - ETA: 8s - loss: -3928.6276 - acc: 0.0000e+0 - ETA: 8s - loss: -3927.1246 - acc: 0.0000e+0 - ETA: 8s - loss: -3928.1291 - acc: 0.0000e+0 - ETA: 8s - loss: -3930.7240 - acc: 0.0000e+0 - ETA: 8s - loss: -3930.0917 - acc: 0.0000e+0 - ETA: 8s - loss: -3928.8456 - acc: 0.0000e+0 - ETA: 8s - loss: -3929.0685 - acc: 0.0000e+0 - ETA: 8s - loss: -3930.7092 - acc: 0.0000e+0 - ETA: 8s - loss: -3930.4613 - acc: 0.0000e+0 - ETA: 8s - loss: -3929.8954 - acc: 0.0000e+0 - ETA: 8s - loss: -3928.5200 - acc: 0.0000e+0 - ETA: 8s - loss: -3928.7104 - acc: 0.0000e+0 - ETA: 8s - loss: -3929.3974 - acc: 0.0000e+0 - ETA: 8s - loss: -3930.0578 - acc: 0.0000e+0 - ETA: 8s - loss: -3928.5716 - acc: 0.0000e+0 - ETA: 7s - loss: -3929.0414 - acc: 0.0000e+0 - ETA: 7s - loss: -3929.8635 - acc: 0.0000e+0 - ETA: 7s - loss: -3930.9449 - acc: 0.0000e+0 - ETA: 7s - loss: -3931.7544 - acc: 0.0000e+0 - ETA: 7s - loss: -3931.7130 - acc: 0.0000e+0 - ETA: 7s - loss: -3932.1574 - acc: 0.0000e+0 - ETA: 7s - loss: -3932.2250 - acc: 0.0000e+0 - ETA: 7s - loss: -3932.8892 - acc: 0.0000e+0 - ETA: 7s - loss: -3933.3561 - acc: 0.0000e+0 - ETA: 7s - loss: -3934.5391 - acc: 0.0000e+0 - ETA: 7s - loss: -3934.3811 - acc: 0.0000e+0 - ETA: 7s - loss: -3934.1371 - acc: 0.0000e+0 - ETA: 7s - loss: -3932.5413 - acc: 0.0000e+0 - ETA: 7s - loss: -3932.8442 - acc: 0.0000e+0 - ETA: 7s - loss: -3932.3414 - acc: 0.0000e+0 - ETA: 7s - loss: -3932.6888 - acc: 0.0000e+0 - ETA: 7s - loss: -3931.1586 - acc: 0.0000e+0 - ETA: 7s - loss: -3931.6104 - acc: 0.0000e+0 - ETA: 7s - loss: -3933.2897 - acc: 0.0000e+0 - ETA: 6s - loss: -3934.8260 - acc: 0.0000e+0 - ETA: 6s - loss: -3935.3874 - acc: 0.0000e+0 - ETA: 6s - loss: -3935.9721 - acc: 0.0000e+0 - ETA: 6s - loss: -3935.0029 - acc: 0.0000e+0 - ETA: 6s - loss: -3935.2816 - acc: 0.0000e+0 - ETA: 6s - loss: -3935.5759 - acc: 0.0000e+0 - ETA: 6s - loss: -3936.1708 - acc: 0.0000e+0 - ETA: 6s - loss: -3935.7762 - acc: 0.0000e+0 - ETA: 6s - loss: -3935.6606 - acc: 0.0000e+0 - ETA: 6s - loss: -3935.7619 - acc: 0.0000e+0 - ETA: 6s - loss: -3934.8241 - acc: 0.0000e+0 - ETA: 6s - loss: -3934.8681 - acc: 0.0000e+0 - ETA: 6s - loss: -3935.2886 - acc: 0.0000e+0 - ETA: 6s - loss: -3935.9022 - acc: 0.0000e+0 - ETA: 6s - loss: -3937.6743 - acc: 0.0000e+0 - ETA: 6s - loss: -3938.6857 - acc: 0.0000e+0 - ETA: 6s - loss: -3939.3147 - acc: 0.0000e+0 - ETA: 5s - loss: -3939.7854 - acc: 0.0000e+0 - ETA: 5s - loss: -3940.3650 - acc: 0.0000e+0 - ETA: 5s - loss: -3940.2306 - acc: 0.0000e+0 - ETA: 5s - loss: -3942.0058 - acc: 0.0000e+0 - ETA: 5s - loss: -3940.7169 - acc: 0.0000e+0 - ETA: 5s - loss: -3941.2144 - acc: 0.0000e+0 - ETA: 5s - loss: -3940.2204 - acc: 0.0000e+0 - ETA: 5s - loss: -3939.2823 - acc: 0.0000e+0 - ETA: 5s - loss: -3939.5512 - acc: 0.0000e+0 - ETA: 5s - loss: -3937.9700 - acc: 0.0000e+0 - ETA: 5s - loss: -3938.8860 - acc: 0.0000e+0 - ETA: 5s - loss: -3938.4035 - acc: 0.0000e+0 - ETA: 5s - loss: -3939.0465 - acc: 0.0000e+0 - ETA: 5s - loss: -3939.1963 - acc: 0.0000e+0 - ETA: 5s - loss: -3939.5600 - acc: 0.0000e+0 - ETA: 5s - loss: -3940.2302 - acc: 0.0000e+0 - ETA: 5s - loss: -3940.7695 - acc: 0.0000e+0 - ETA: 4s - loss: -3941.3544 - acc: 0.0000e+0 - ETA: 4s - loss: -3941.0036 - acc: 0.0000e+0 - ETA: 4s - loss: -3940.6934 - acc: 0.0000e+0 - ETA: 4s - loss: -3941.2573 - acc: 0.0000e+0 - ETA: 4s - loss: -3939.6554 - acc: 0.0000e+0 - ETA: 4s - loss: -3939.6827 - acc: 0.0000e+0 - ETA: 4s - loss: -3939.9359 - acc: 0.0000e+0 - ETA: 4s - loss: -3939.6661 - acc: 0.0000e+0 - ETA: 4s - loss: -3940.1689 - acc: 0.0000e+0 - ETA: 4s - loss: -3939.6679 - acc: 0.0000e+0 - ETA: 4s - loss: -3938.4044 - acc: 0.0000e+0 - ETA: 4s - loss: -3938.6370 - acc: 0.0000e+0 - ETA: 4s - loss: -3939.1695 - acc: 0.0000e+0 - ETA: 4s - loss: -3939.2079 - acc: 0.0000e+0 - ETA: 4s - loss: -3939.2611 - acc: 0.0000e+0 - ETA: 4s - loss: -3939.6046 - acc: 0.0000e+0 - ETA: 3s - loss: -3940.0672 - acc: 0.0000e+0 - ETA: 3s - loss: -3940.4206 - acc: 0.0000e+0 - ETA: 3s - loss: -3940.1523 - acc: 0.0000e+0 - ETA: 3s - loss: -3940.1841 - acc: 0.0000e+0 - ETA: 3s - loss: -3940.3667 - acc: 0.0000e+0 - ETA: 3s - loss: -3940.4962 - acc: 0.0000e+0 - ETA: 3s - loss: -3941.1079 - acc: 0.0000e+0 - ETA: 3s - loss: -3941.2338 - acc: 0.0000e+0 - ETA: 3s - loss: -3941.1631 - acc: 0.0000e+0 - ETA: 3s - loss: -3940.8054 - acc: 0.0000e+0 - ETA: 3s - loss: -3940.5599 - acc: 0.0000e+0 - ETA: 3s - loss: -3941.2557 - acc: 0.0000e+0 - ETA: 3s - loss: -3941.3467 - acc: 0.0000e+0 - ETA: 3s - loss: -3942.4333 - acc: 0.0000e+0 - ETA: 3s - loss: -3942.4398 - acc: 0.0000e+0 - ETA: 3s - loss: -3942.3323 - acc: 0.0000e+0 - ETA: 3s - loss: -3942.8590 - acc: 0.0000e+0 - ETA: 2s - loss: -3943.1007 - acc: 0.0000e+0 - ETA: 2s - loss: -3942.9458 - acc: 0.0000e+0 - ETA: 2s - loss: -3943.4477 - acc: 0.0000e+0 - ETA: 2s - loss: -3943.4609 - acc: 0.0000e+0 - ETA: 2s - loss: -3943.6386 - acc: 0.0000e+0 - ETA: 2s - loss: -3943.1690 - acc: 0.0000e+0 - ETA: 2s - loss: -3942.7597 - acc: 0.0000e+0 - ETA: 2s - loss: -3942.3454 - acc: 0.0000e+0 - ETA: 2s - loss: -3942.5405 - acc: 0.0000e+0 - ETA: 2s - loss: -3942.1836 - acc: 0.0000e+00"
     ]
    },
    {
     "name": "stdout",
     "output_type": "stream",
     "text": [
      "55399/55399 [==============================] - ETA: 2s - loss: -3942.8749 - acc: 0.0000e+0 - ETA: 2s - loss: -3942.8040 - acc: 0.0000e+0 - ETA: 2s - loss: -3942.6561 - acc: 0.0000e+0 - ETA: 2s - loss: -3943.6805 - acc: 0.0000e+0 - ETA: 2s - loss: -3943.0374 - acc: 0.0000e+0 - ETA: 2s - loss: -3943.5567 - acc: 0.0000e+0 - ETA: 2s - loss: -3943.1392 - acc: 0.0000e+0 - ETA: 1s - loss: -3942.2980 - acc: 0.0000e+0 - ETA: 1s - loss: -3942.1866 - acc: 0.0000e+0 - ETA: 1s - loss: -3942.8489 - acc: 0.0000e+0 - ETA: 1s - loss: -3942.9065 - acc: 0.0000e+0 - ETA: 1s - loss: -3942.8631 - acc: 0.0000e+0 - ETA: 1s - loss: -3942.9280 - acc: 0.0000e+0 - ETA: 1s - loss: -3942.8221 - acc: 0.0000e+0 - ETA: 1s - loss: -3943.2685 - acc: 0.0000e+0 - ETA: 1s - loss: -3943.7754 - acc: 0.0000e+0 - ETA: 1s - loss: -3944.3464 - acc: 0.0000e+0 - ETA: 1s - loss: -3944.7003 - acc: 0.0000e+0 - ETA: 1s - loss: -3944.5088 - acc: 0.0000e+0 - ETA: 1s - loss: -3944.3879 - acc: 0.0000e+0 - ETA: 1s - loss: -3944.1758 - acc: 0.0000e+0 - ETA: 1s - loss: -3943.5211 - acc: 0.0000e+0 - ETA: 1s - loss: -3944.5221 - acc: 0.0000e+0 - ETA: 1s - loss: -3944.1237 - acc: 0.0000e+0 - ETA: 0s - loss: -3944.1685 - acc: 0.0000e+0 - ETA: 0s - loss: -3943.8935 - acc: 0.0000e+0 - ETA: 0s - loss: -3943.7770 - acc: 0.0000e+0 - ETA: 0s - loss: -3943.8593 - acc: 0.0000e+0 - ETA: 0s - loss: -3943.8548 - acc: 0.0000e+0 - ETA: 0s - loss: -3944.1749 - acc: 0.0000e+0 - ETA: 0s - loss: -3944.8184 - acc: 0.0000e+0 - ETA: 0s - loss: -3944.2051 - acc: 0.0000e+0 - ETA: 0s - loss: -3944.1233 - acc: 0.0000e+0 - ETA: 0s - loss: -3944.5504 - acc: 0.0000e+0 - ETA: 0s - loss: -3944.5898 - acc: 0.0000e+0 - ETA: 0s - loss: -3944.4045 - acc: 0.0000e+0 - ETA: 0s - loss: -3944.7242 - acc: 0.0000e+0 - ETA: 0s - loss: -3944.8609 - acc: 0.0000e+0 - ETA: 0s - loss: -3945.7333 - acc: 0.0000e+0 - ETA: 0s - loss: -3945.1576 - acc: 0.0000e+0 - ETA: 0s - loss: -3945.2262 - acc: 0.0000e+0 - 16s 287us/step - loss: -3945.0690 - acc: 0.0000e+00 - val_loss: -3953.5064 - val_acc: 0.0000e+00\n",
      "Epoch 7/10\n"
     ]
    },
    {
     "name": "stdout",
     "output_type": "stream",
     "text": [
      "44992/55399 [=======================>......] - ETA: 13s - loss: -4263.8408 - acc: 0.0000e+ - ETA: 12s - loss: -4051.2091 - acc: 0.0000e+ - ETA: 12s - loss: -4052.0781 - acc: 0.0000e+ - ETA: 12s - loss: -4052.6423 - acc: 0.0000e+ - ETA: 12s - loss: -4024.1334 - acc: 0.0000e+ - ETA: 12s - loss: -4005.6784 - acc: 0.0000e+ - ETA: 12s - loss: -3996.8754 - acc: 0.0000e+ - ETA: 12s - loss: -3991.9182 - acc: 0.0000e+ - ETA: 12s - loss: -3985.6264 - acc: 0.0000e+ - ETA: 12s - loss: -3985.1990 - acc: 0.0000e+ - ETA: 12s - loss: -3968.7728 - acc: 0.0000e+ - ETA: 12s - loss: -3958.8927 - acc: 0.0000e+ - ETA: 12s - loss: -3962.8366 - acc: 0.0000e+ - ETA: 12s - loss: -3953.2649 - acc: 0.0000e+ - ETA: 12s - loss: -3957.9024 - acc: 0.0000e+ - ETA: 11s - loss: -3960.9312 - acc: 0.0000e+ - ETA: 11s - loss: -3962.0927 - acc: 0.0000e+ - ETA: 11s - loss: -3946.5994 - acc: 0.0000e+ - ETA: 11s - loss: -3941.5362 - acc: 0.0000e+ - ETA: 11s - loss: -3945.3100 - acc: 0.0000e+ - ETA: 11s - loss: -3940.9243 - acc: 0.0000e+ - ETA: 11s - loss: -3942.9474 - acc: 0.0000e+ - ETA: 11s - loss: -3938.8130 - acc: 0.0000e+ - ETA: 11s - loss: -3930.6710 - acc: 0.0000e+ - ETA: 11s - loss: -3932.3479 - acc: 0.0000e+ - ETA: 11s - loss: -3926.6631 - acc: 0.0000e+ - ETA: 11s - loss: -3922.7756 - acc: 0.0000e+ - ETA: 11s - loss: -3929.2357 - acc: 0.0000e+ - ETA: 11s - loss: -3925.6028 - acc: 0.0000e+ - ETA: 11s - loss: -3921.5627 - acc: 0.0000e+ - ETA: 10s - loss: -3923.0639 - acc: 0.0000e+ - ETA: 10s - loss: -3924.5109 - acc: 0.0000e+ - ETA: 10s - loss: -3923.8137 - acc: 0.0000e+ - ETA: 10s - loss: -3926.2711 - acc: 0.0000e+ - ETA: 10s - loss: -3924.0431 - acc: 0.0000e+ - ETA: 10s - loss: -3926.2433 - acc: 0.0000e+ - ETA: 10s - loss: -3924.0187 - acc: 0.0000e+ - ETA: 10s - loss: -3920.3404 - acc: 0.0000e+ - ETA: 10s - loss: -3921.9390 - acc: 0.0000e+ - ETA: 10s - loss: -3922.4312 - acc: 0.0000e+ - ETA: 10s - loss: -3925.9407 - acc: 0.0000e+ - ETA: 10s - loss: -3927.3506 - acc: 0.0000e+ - ETA: 10s - loss: -3924.8232 - acc: 0.0000e+ - ETA: 10s - loss: -3928.6546 - acc: 0.0000e+ - ETA: 10s - loss: -3933.8256 - acc: 0.0000e+ - ETA: 10s - loss: -3933.5343 - acc: 0.0000e+ - ETA: 9s - loss: -3934.8754 - acc: 0.0000e+00 - ETA: 9s - loss: -3934.0879 - acc: 0.0000e+0 - ETA: 9s - loss: -3932.6554 - acc: 0.0000e+0 - ETA: 9s - loss: -3931.9120 - acc: 0.0000e+0 - ETA: 9s - loss: -3931.0260 - acc: 0.0000e+0 - ETA: 9s - loss: -3931.5828 - acc: 0.0000e+0 - ETA: 9s - loss: -3935.4354 - acc: 0.0000e+0 - ETA: 9s - loss: -3933.5905 - acc: 0.0000e+0 - ETA: 9s - loss: -3933.0958 - acc: 0.0000e+0 - ETA: 9s - loss: -3934.7111 - acc: 0.0000e+0 - ETA: 9s - loss: -3930.4842 - acc: 0.0000e+0 - ETA: 9s - loss: -3930.1514 - acc: 0.0000e+0 - ETA: 9s - loss: -3931.8419 - acc: 0.0000e+0 - ETA: 9s - loss: -3931.9609 - acc: 0.0000e+0 - ETA: 9s - loss: -3932.2485 - acc: 0.0000e+0 - ETA: 9s - loss: -3933.6309 - acc: 0.0000e+0 - ETA: 9s - loss: -3935.0430 - acc: 0.0000e+0 - ETA: 9s - loss: -3933.7627 - acc: 0.0000e+0 - ETA: 8s - loss: -3933.6482 - acc: 0.0000e+0 - ETA: 8s - loss: -3933.4845 - acc: 0.0000e+0 - ETA: 8s - loss: -3933.7504 - acc: 0.0000e+0 - ETA: 8s - loss: -3933.7844 - acc: 0.0000e+0 - ETA: 8s - loss: -3935.1599 - acc: 0.0000e+0 - ETA: 8s - loss: -3935.6011 - acc: 0.0000e+0 - ETA: 8s - loss: -3935.8696 - acc: 0.0000e+0 - ETA: 8s - loss: -3937.6418 - acc: 0.0000e+0 - ETA: 8s - loss: -3938.5215 - acc: 0.0000e+0 - ETA: 8s - loss: -3938.2758 - acc: 0.0000e+0 - ETA: 8s - loss: -3937.9500 - acc: 0.0000e+0 - ETA: 8s - loss: -3936.7261 - acc: 0.0000e+0 - ETA: 8s - loss: -3936.2826 - acc: 0.0000e+0 - ETA: 8s - loss: -3937.1398 - acc: 0.0000e+0 - ETA: 8s - loss: -3935.9710 - acc: 0.0000e+0 - ETA: 8s - loss: -3938.8056 - acc: 0.0000e+0 - ETA: 8s - loss: -3938.1707 - acc: 0.0000e+0 - ETA: 8s - loss: -3937.5960 - acc: 0.0000e+0 - ETA: 7s - loss: -3937.8260 - acc: 0.0000e+0 - ETA: 7s - loss: -3938.2027 - acc: 0.0000e+0 - ETA: 7s - loss: -3937.1359 - acc: 0.0000e+0 - ETA: 7s - loss: -3936.6510 - acc: 0.0000e+0 - ETA: 7s - loss: -3935.4200 - acc: 0.0000e+0 - ETA: 7s - loss: -3937.0504 - acc: 0.0000e+0 - ETA: 7s - loss: -3937.5404 - acc: 0.0000e+0 - ETA: 7s - loss: -3937.6655 - acc: 0.0000e+0 - ETA: 7s - loss: -3938.1870 - acc: 0.0000e+0 - ETA: 7s - loss: -3937.4549 - acc: 0.0000e+0 - ETA: 7s - loss: -3937.2918 - acc: 0.0000e+0 - ETA: 7s - loss: -3939.3493 - acc: 0.0000e+0 - ETA: 7s - loss: -3939.3047 - acc: 0.0000e+0 - ETA: 7s - loss: -3938.3868 - acc: 0.0000e+0 - ETA: 7s - loss: -3938.2685 - acc: 0.0000e+0 - ETA: 7s - loss: -3939.3576 - acc: 0.0000e+0 - ETA: 7s - loss: -3938.8228 - acc: 0.0000e+0 - ETA: 6s - loss: -3939.2567 - acc: 0.0000e+0 - ETA: 6s - loss: -3940.7833 - acc: 0.0000e+0 - ETA: 6s - loss: -3942.0913 - acc: 0.0000e+0 - ETA: 6s - loss: -3942.3509 - acc: 0.0000e+0 - ETA: 6s - loss: -3943.2541 - acc: 0.0000e+0 - ETA: 6s - loss: -3943.1918 - acc: 0.0000e+0 - ETA: 6s - loss: -3943.6253 - acc: 0.0000e+0 - ETA: 6s - loss: -3943.4793 - acc: 0.0000e+0 - ETA: 6s - loss: -3943.3591 - acc: 0.0000e+0 - ETA: 6s - loss: -3942.8174 - acc: 0.0000e+0 - ETA: 6s - loss: -3944.6452 - acc: 0.0000e+0 - ETA: 6s - loss: -3945.1660 - acc: 0.0000e+0 - ETA: 6s - loss: -3944.3385 - acc: 0.0000e+0 - ETA: 6s - loss: -3943.7042 - acc: 0.0000e+0 - ETA: 6s - loss: -3943.5828 - acc: 0.0000e+0 - ETA: 6s - loss: -3942.6226 - acc: 0.0000e+0 - ETA: 6s - loss: -3943.3109 - acc: 0.0000e+0 - ETA: 6s - loss: -3943.7203 - acc: 0.0000e+0 - ETA: 6s - loss: -3943.0555 - acc: 0.0000e+0 - ETA: 5s - loss: -3944.1933 - acc: 0.0000e+0 - ETA: 5s - loss: -3945.2140 - acc: 0.0000e+0 - ETA: 5s - loss: -3945.6353 - acc: 0.0000e+0 - ETA: 5s - loss: -3944.4677 - acc: 0.0000e+0 - ETA: 5s - loss: -3943.7660 - acc: 0.0000e+0 - ETA: 5s - loss: -3943.5469 - acc: 0.0000e+0 - ETA: 5s - loss: -3943.3664 - acc: 0.0000e+0 - ETA: 5s - loss: -3943.4586 - acc: 0.0000e+0 - ETA: 5s - loss: -3943.2467 - acc: 0.0000e+0 - ETA: 5s - loss: -3944.7884 - acc: 0.0000e+0 - ETA: 5s - loss: -3943.5814 - acc: 0.0000e+0 - ETA: 5s - loss: -3942.9972 - acc: 0.0000e+0 - ETA: 5s - loss: -3942.8386 - acc: 0.0000e+0 - ETA: 5s - loss: -3941.5386 - acc: 0.0000e+0 - ETA: 5s - loss: -3942.0256 - acc: 0.0000e+0 - ETA: 5s - loss: -3942.1063 - acc: 0.0000e+0 - ETA: 4s - loss: -3943.8774 - acc: 0.0000e+0 - ETA: 4s - loss: -3944.0752 - acc: 0.0000e+0 - ETA: 4s - loss: -3943.4105 - acc: 0.0000e+0 - ETA: 4s - loss: -3942.3579 - acc: 0.0000e+0 - ETA: 4s - loss: -3942.1476 - acc: 0.0000e+0 - ETA: 4s - loss: -3942.7976 - acc: 0.0000e+0 - ETA: 4s - loss: -3942.2165 - acc: 0.0000e+0 - ETA: 4s - loss: -3943.1160 - acc: 0.0000e+0 - ETA: 4s - loss: -3944.2540 - acc: 0.0000e+0 - ETA: 4s - loss: -3943.8744 - acc: 0.0000e+0 - ETA: 4s - loss: -3944.6540 - acc: 0.0000e+0 - ETA: 4s - loss: -3945.2814 - acc: 0.0000e+0 - ETA: 4s - loss: -3944.5769 - acc: 0.0000e+0 - ETA: 4s - loss: -3943.9521 - acc: 0.0000e+0 - ETA: 4s - loss: -3943.8387 - acc: 0.0000e+0 - ETA: 4s - loss: -3943.9459 - acc: 0.0000e+0 - ETA: 4s - loss: -3943.8010 - acc: 0.0000e+0 - ETA: 3s - loss: -3943.2775 - acc: 0.0000e+0 - ETA: 3s - loss: -3943.0261 - acc: 0.0000e+0 - ETA: 3s - loss: -3943.4089 - acc: 0.0000e+0 - ETA: 3s - loss: -3943.7568 - acc: 0.0000e+0 - ETA: 3s - loss: -3944.2687 - acc: 0.0000e+0 - ETA: 3s - loss: -3943.7627 - acc: 0.0000e+0 - ETA: 3s - loss: -3944.7786 - acc: 0.0000e+0 - ETA: 3s - loss: -3944.5654 - acc: 0.0000e+0 - ETA: 3s - loss: -3944.6108 - acc: 0.0000e+0 - ETA: 3s - loss: -3945.3381 - acc: 0.0000e+0 - ETA: 3s - loss: -3944.9372 - acc: 0.0000e+0 - ETA: 3s - loss: -3944.6164 - acc: 0.0000e+0 - ETA: 3s - loss: -3944.4015 - acc: 0.0000e+0 - ETA: 3s - loss: -3944.4691 - acc: 0.0000e+0 - ETA: 3s - loss: -3944.3468 - acc: 0.0000e+0 - ETA: 3s - loss: -3944.7423 - acc: 0.0000e+0 - ETA: 3s - loss: -3944.5176 - acc: 0.0000e+0 - ETA: 2s - loss: -3944.3214 - acc: 0.0000e+0 - ETA: 2s - loss: -3944.4524 - acc: 0.0000e+0 - ETA: 2s - loss: -3944.2504 - acc: 0.0000e+0 - ETA: 2s - loss: -3944.5483 - acc: 0.0000e+0 - ETA: 2s - loss: -3943.5129 - acc: 0.0000e+0 - ETA: 2s - loss: -3943.8935 - acc: 0.0000e+0 - ETA: 2s - loss: -3944.6158 - acc: 0.0000e+0 - ETA: 2s - loss: -3944.5657 - acc: 0.0000e+0 - ETA: 2s - loss: -3944.4887 - acc: 0.0000e+0 - ETA: 2s - loss: -3944.7048 - acc: 0.0000e+00"
     ]
    },
    {
     "name": "stdout",
     "output_type": "stream",
     "text": [
      "55399/55399 [==============================] - ETA: 2s - loss: -3945.1064 - acc: 0.0000e+0 - ETA: 2s - loss: -3944.5438 - acc: 0.0000e+0 - ETA: 2s - loss: -3943.8255 - acc: 0.0000e+0 - ETA: 2s - loss: -3944.7580 - acc: 0.0000e+0 - ETA: 2s - loss: -3944.9364 - acc: 0.0000e+0 - ETA: 2s - loss: -3944.6218 - acc: 0.0000e+0 - ETA: 2s - loss: -3945.0607 - acc: 0.0000e+0 - ETA: 1s - loss: -3945.5006 - acc: 0.0000e+0 - ETA: 1s - loss: -3945.1237 - acc: 0.0000e+0 - ETA: 1s - loss: -3945.1797 - acc: 0.0000e+0 - ETA: 1s - loss: -3945.4194 - acc: 0.0000e+0 - ETA: 1s - loss: -3945.8825 - acc: 0.0000e+0 - ETA: 1s - loss: -3945.0437 - acc: 0.0000e+0 - ETA: 1s - loss: -3944.6982 - acc: 0.0000e+0 - ETA: 1s - loss: -3944.9211 - acc: 0.0000e+0 - ETA: 1s - loss: -3945.3612 - acc: 0.0000e+0 - ETA: 1s - loss: -3945.2330 - acc: 0.0000e+0 - ETA: 1s - loss: -3944.7126 - acc: 0.0000e+0 - ETA: 1s - loss: -3943.9079 - acc: 0.0000e+0 - ETA: 1s - loss: -3943.3634 - acc: 0.0000e+0 - ETA: 1s - loss: -3942.9178 - acc: 0.0000e+0 - ETA: 1s - loss: -3943.0247 - acc: 0.0000e+0 - ETA: 1s - loss: -3943.3595 - acc: 0.0000e+0 - ETA: 0s - loss: -3943.4809 - acc: 0.0000e+0 - ETA: 0s - loss: -3943.9277 - acc: 0.0000e+0 - ETA: 0s - loss: -3943.5625 - acc: 0.0000e+0 - ETA: 0s - loss: -3944.0896 - acc: 0.0000e+0 - ETA: 0s - loss: -3944.3416 - acc: 0.0000e+0 - ETA: 0s - loss: -3944.3417 - acc: 0.0000e+0 - ETA: 0s - loss: -3944.4738 - acc: 0.0000e+0 - ETA: 0s - loss: -3944.3152 - acc: 0.0000e+0 - ETA: 0s - loss: -3945.1242 - acc: 0.0000e+0 - ETA: 0s - loss: -3945.0144 - acc: 0.0000e+0 - ETA: 0s - loss: -3946.2458 - acc: 0.0000e+0 - ETA: 0s - loss: -3946.2464 - acc: 0.0000e+0 - ETA: 0s - loss: -3945.8617 - acc: 0.0000e+0 - ETA: 0s - loss: -3946.2334 - acc: 0.0000e+0 - ETA: 0s - loss: -3946.4447 - acc: 0.0000e+0 - ETA: 0s - loss: -3945.6903 - acc: 0.0000e+0 - ETA: 0s - loss: -3945.1297 - acc: 0.0000e+0 - 16s 287us/step - loss: -3945.0690 - acc: 0.0000e+00 - val_loss: -3953.5064 - val_acc: 0.0000e+00\n",
      "Epoch 8/10\n"
     ]
    },
    {
     "name": "stdout",
     "output_type": "stream",
     "text": [
      "44864/55399 [=======================>......] - ETA: 14s - loss: -3775.6050 - acc: 0.0000e+ - ETA: 13s - loss: -3818.6993 - acc: 0.0000e+ - ETA: 13s - loss: -3846.9029 - acc: 0.0000e+ - ETA: 13s - loss: -3825.2908 - acc: 0.0000e+ - ETA: 12s - loss: -3845.0745 - acc: 0.0000e+ - ETA: 12s - loss: -3873.5606 - acc: 0.0000e+ - ETA: 12s - loss: -3860.9965 - acc: 0.0000e+ - ETA: 12s - loss: -3875.0216 - acc: 0.0000e+ - ETA: 12s - loss: -3886.3261 - acc: 0.0000e+ - ETA: 12s - loss: -3892.0962 - acc: 0.0000e+ - ETA: 12s - loss: -3891.5276 - acc: 0.0000e+ - ETA: 12s - loss: -3905.1702 - acc: 0.0000e+ - ETA: 12s - loss: -3909.3411 - acc: 0.0000e+ - ETA: 12s - loss: -3915.2466 - acc: 0.0000e+ - ETA: 12s - loss: -3910.2501 - acc: 0.0000e+ - ETA: 12s - loss: -3908.8285 - acc: 0.0000e+ - ETA: 11s - loss: -3904.5315 - acc: 0.0000e+ - ETA: 11s - loss: -3905.3752 - acc: 0.0000e+ - ETA: 11s - loss: -3904.7923 - acc: 0.0000e+ - ETA: 11s - loss: -3905.8066 - acc: 0.0000e+ - ETA: 11s - loss: -3910.1005 - acc: 0.0000e+ - ETA: 11s - loss: -3915.4614 - acc: 0.0000e+ - ETA: 11s - loss: -3916.4220 - acc: 0.0000e+ - ETA: 11s - loss: -3914.0751 - acc: 0.0000e+ - ETA: 11s - loss: -3914.2715 - acc: 0.0000e+ - ETA: 11s - loss: -3912.7135 - acc: 0.0000e+ - ETA: 11s - loss: -3919.1719 - acc: 0.0000e+ - ETA: 11s - loss: -3915.2792 - acc: 0.0000e+ - ETA: 11s - loss: -3921.4431 - acc: 0.0000e+ - ETA: 11s - loss: -3929.7851 - acc: 0.0000e+ - ETA: 11s - loss: -3925.3717 - acc: 0.0000e+ - ETA: 11s - loss: -3924.6265 - acc: 0.0000e+ - ETA: 10s - loss: -3925.2542 - acc: 0.0000e+ - ETA: 10s - loss: -3931.5153 - acc: 0.0000e+ - ETA: 10s - loss: -3932.2925 - acc: 0.0000e+ - ETA: 10s - loss: -3931.5044 - acc: 0.0000e+ - ETA: 10s - loss: -3937.5096 - acc: 0.0000e+ - ETA: 10s - loss: -3943.8243 - acc: 0.0000e+ - ETA: 10s - loss: -3944.0340 - acc: 0.0000e+ - ETA: 10s - loss: -3944.1457 - acc: 0.0000e+ - ETA: 10s - loss: -3944.3168 - acc: 0.0000e+ - ETA: 10s - loss: -3944.7348 - acc: 0.0000e+ - ETA: 10s - loss: -3943.6737 - acc: 0.0000e+ - ETA: 10s - loss: -3941.7085 - acc: 0.0000e+ - ETA: 10s - loss: -3938.8400 - acc: 0.0000e+ - ETA: 10s - loss: -3933.7655 - acc: 0.0000e+ - ETA: 10s - loss: -3930.9800 - acc: 0.0000e+ - ETA: 10s - loss: -3935.6602 - acc: 0.0000e+ - ETA: 10s - loss: -3932.4140 - acc: 0.0000e+ - ETA: 10s - loss: -3933.2372 - acc: 0.0000e+ - ETA: 9s - loss: -3931.0520 - acc: 0.0000e+00 - ETA: 9s - loss: -3933.3715 - acc: 0.0000e+0 - ETA: 9s - loss: -3933.4497 - acc: 0.0000e+0 - ETA: 9s - loss: -3931.2562 - acc: 0.0000e+0 - ETA: 9s - loss: -3931.8744 - acc: 0.0000e+0 - ETA: 9s - loss: -3933.2920 - acc: 0.0000e+0 - ETA: 9s - loss: -3932.4073 - acc: 0.0000e+0 - ETA: 9s - loss: -3933.6888 - acc: 0.0000e+0 - ETA: 9s - loss: -3932.6491 - acc: 0.0000e+0 - ETA: 9s - loss: -3933.5228 - acc: 0.0000e+0 - ETA: 9s - loss: -3933.8155 - acc: 0.0000e+0 - ETA: 9s - loss: -3932.1882 - acc: 0.0000e+0 - ETA: 9s - loss: -3931.5064 - acc: 0.0000e+0 - ETA: 9s - loss: -3932.3541 - acc: 0.0000e+0 - ETA: 9s - loss: -3932.6683 - acc: 0.0000e+0 - ETA: 9s - loss: -3931.5003 - acc: 0.0000e+0 - ETA: 9s - loss: -3930.6706 - acc: 0.0000e+0 - ETA: 8s - loss: -3929.2625 - acc: 0.0000e+0 - ETA: 8s - loss: -3929.4782 - acc: 0.0000e+0 - ETA: 8s - loss: -3924.8646 - acc: 0.0000e+0 - ETA: 8s - loss: -3925.9243 - acc: 0.0000e+0 - ETA: 8s - loss: -3926.1394 - acc: 0.0000e+0 - ETA: 8s - loss: -3925.5355 - acc: 0.0000e+0 - ETA: 8s - loss: -3925.4079 - acc: 0.0000e+0 - ETA: 8s - loss: -3925.0389 - acc: 0.0000e+0 - ETA: 8s - loss: -3926.3744 - acc: 0.0000e+0 - ETA: 8s - loss: -3926.7152 - acc: 0.0000e+0 - ETA: 8s - loss: -3927.0359 - acc: 0.0000e+0 - ETA: 8s - loss: -3925.5711 - acc: 0.0000e+0 - ETA: 8s - loss: -3926.2482 - acc: 0.0000e+0 - ETA: 8s - loss: -3927.3512 - acc: 0.0000e+0 - ETA: 8s - loss: -3927.5267 - acc: 0.0000e+0 - ETA: 8s - loss: -3927.5992 - acc: 0.0000e+0 - ETA: 8s - loss: -3929.3034 - acc: 0.0000e+0 - ETA: 7s - loss: -3929.0802 - acc: 0.0000e+0 - ETA: 7s - loss: -3929.0013 - acc: 0.0000e+0 - ETA: 7s - loss: -3928.8269 - acc: 0.0000e+0 - ETA: 7s - loss: -3930.6506 - acc: 0.0000e+0 - ETA: 7s - loss: -3929.6869 - acc: 0.0000e+0 - ETA: 7s - loss: -3930.2564 - acc: 0.0000e+0 - ETA: 7s - loss: -3930.3360 - acc: 0.0000e+0 - ETA: 7s - loss: -3930.1621 - acc: 0.0000e+0 - ETA: 7s - loss: -3929.8829 - acc: 0.0000e+0 - ETA: 7s - loss: -3929.9024 - acc: 0.0000e+0 - ETA: 7s - loss: -3930.5532 - acc: 0.0000e+0 - ETA: 7s - loss: -3929.0386 - acc: 0.0000e+0 - ETA: 7s - loss: -3927.8136 - acc: 0.0000e+0 - ETA: 7s - loss: -3928.4268 - acc: 0.0000e+0 - ETA: 7s - loss: -3928.6238 - acc: 0.0000e+0 - ETA: 7s - loss: -3928.4485 - acc: 0.0000e+0 - ETA: 7s - loss: -3929.3299 - acc: 0.0000e+0 - ETA: 7s - loss: -3929.7822 - acc: 0.0000e+0 - ETA: 7s - loss: -3929.8967 - acc: 0.0000e+0 - ETA: 6s - loss: -3929.9704 - acc: 0.0000e+0 - ETA: 6s - loss: -3932.0276 - acc: 0.0000e+0 - ETA: 6s - loss: -3933.3189 - acc: 0.0000e+0 - ETA: 6s - loss: -3933.0665 - acc: 0.0000e+0 - ETA: 6s - loss: -3933.9890 - acc: 0.0000e+0 - ETA: 6s - loss: -3934.3481 - acc: 0.0000e+0 - ETA: 6s - loss: -3936.3710 - acc: 0.0000e+0 - ETA: 6s - loss: -3936.0832 - acc: 0.0000e+0 - ETA: 6s - loss: -3937.5704 - acc: 0.0000e+0 - ETA: 6s - loss: -3937.9923 - acc: 0.0000e+0 - ETA: 6s - loss: -3938.6974 - acc: 0.0000e+0 - ETA: 6s - loss: -3938.3578 - acc: 0.0000e+0 - ETA: 6s - loss: -3936.6429 - acc: 0.0000e+0 - ETA: 6s - loss: -3935.5999 - acc: 0.0000e+0 - ETA: 6s - loss: -3935.1833 - acc: 0.0000e+0 - ETA: 6s - loss: -3935.6744 - acc: 0.0000e+0 - ETA: 5s - loss: -3935.5753 - acc: 0.0000e+0 - ETA: 5s - loss: -3936.3835 - acc: 0.0000e+0 - ETA: 5s - loss: -3937.9126 - acc: 0.0000e+0 - ETA: 5s - loss: -3939.1899 - acc: 0.0000e+0 - ETA: 5s - loss: -3939.6693 - acc: 0.0000e+0 - ETA: 5s - loss: -3940.4067 - acc: 0.0000e+0 - ETA: 5s - loss: -3940.5217 - acc: 0.0000e+0 - ETA: 5s - loss: -3939.7239 - acc: 0.0000e+0 - ETA: 5s - loss: -3938.9026 - acc: 0.0000e+0 - ETA: 5s - loss: -3939.6400 - acc: 0.0000e+0 - ETA: 5s - loss: -3941.1848 - acc: 0.0000e+0 - ETA: 5s - loss: -3939.8426 - acc: 0.0000e+0 - ETA: 5s - loss: -3940.1890 - acc: 0.0000e+0 - ETA: 5s - loss: -3940.0319 - acc: 0.0000e+0 - ETA: 5s - loss: -3940.1551 - acc: 0.0000e+0 - ETA: 5s - loss: -3941.3198 - acc: 0.0000e+0 - ETA: 4s - loss: -3940.8420 - acc: 0.0000e+0 - ETA: 4s - loss: -3941.2370 - acc: 0.0000e+0 - ETA: 4s - loss: -3941.3615 - acc: 0.0000e+0 - ETA: 4s - loss: -3942.0024 - acc: 0.0000e+0 - ETA: 4s - loss: -3941.8509 - acc: 0.0000e+0 - ETA: 4s - loss: -3942.7026 - acc: 0.0000e+0 - ETA: 4s - loss: -3944.0469 - acc: 0.0000e+0 - ETA: 4s - loss: -3944.2425 - acc: 0.0000e+0 - ETA: 4s - loss: -3944.9921 - acc: 0.0000e+0 - ETA: 4s - loss: -3945.9043 - acc: 0.0000e+0 - ETA: 4s - loss: -3944.9418 - acc: 0.0000e+0 - ETA: 4s - loss: -3945.1494 - acc: 0.0000e+0 - ETA: 4s - loss: -3945.4933 - acc: 0.0000e+0 - ETA: 4s - loss: -3946.0420 - acc: 0.0000e+0 - ETA: 4s - loss: -3946.3997 - acc: 0.0000e+0 - ETA: 4s - loss: -3945.5004 - acc: 0.0000e+0 - ETA: 4s - loss: -3945.4895 - acc: 0.0000e+0 - ETA: 3s - loss: -3944.4889 - acc: 0.0000e+0 - ETA: 3s - loss: -3944.0072 - acc: 0.0000e+0 - ETA: 3s - loss: -3944.7165 - acc: 0.0000e+0 - ETA: 3s - loss: -3944.5150 - acc: 0.0000e+0 - ETA: 3s - loss: -3944.6467 - acc: 0.0000e+0 - ETA: 3s - loss: -3945.5400 - acc: 0.0000e+0 - ETA: 3s - loss: -3944.3956 - acc: 0.0000e+0 - ETA: 3s - loss: -3944.7672 - acc: 0.0000e+0 - ETA: 3s - loss: -3943.9363 - acc: 0.0000e+0 - ETA: 3s - loss: -3943.9828 - acc: 0.0000e+0 - ETA: 3s - loss: -3942.9586 - acc: 0.0000e+0 - ETA: 3s - loss: -3944.1236 - acc: 0.0000e+0 - ETA: 3s - loss: -3944.2806 - acc: 0.0000e+0 - ETA: 3s - loss: -3944.7175 - acc: 0.0000e+0 - ETA: 3s - loss: -3945.0680 - acc: 0.0000e+0 - ETA: 3s - loss: -3944.3632 - acc: 0.0000e+0 - ETA: 3s - loss: -3943.7590 - acc: 0.0000e+0 - ETA: 2s - loss: -3944.1700 - acc: 0.0000e+0 - ETA: 2s - loss: -3944.2812 - acc: 0.0000e+0 - ETA: 2s - loss: -3944.1415 - acc: 0.0000e+0 - ETA: 2s - loss: -3943.5839 - acc: 0.0000e+0 - ETA: 2s - loss: -3943.4965 - acc: 0.0000e+0 - ETA: 2s - loss: -3943.7558 - acc: 0.0000e+0 - ETA: 2s - loss: -3944.2072 - acc: 0.0000e+0 - ETA: 2s - loss: -3944.4590 - acc: 0.0000e+0 - ETA: 2s - loss: -3944.1056 - acc: 0.0000e+00"
     ]
    },
    {
     "name": "stdout",
     "output_type": "stream",
     "text": [
      "55399/55399 [==============================] - ETA: 2s - loss: -3943.5605 - acc: 0.0000e+0 - ETA: 2s - loss: -3943.7235 - acc: 0.0000e+0 - ETA: 2s - loss: -3943.7251 - acc: 0.0000e+0 - ETA: 2s - loss: -3943.8451 - acc: 0.0000e+0 - ETA: 2s - loss: -3943.8490 - acc: 0.0000e+0 - ETA: 2s - loss: -3943.6200 - acc: 0.0000e+0 - ETA: 2s - loss: -3943.1970 - acc: 0.0000e+0 - ETA: 1s - loss: -3943.6316 - acc: 0.0000e+0 - ETA: 1s - loss: -3944.2017 - acc: 0.0000e+0 - ETA: 1s - loss: -3944.4386 - acc: 0.0000e+0 - ETA: 1s - loss: -3944.5466 - acc: 0.0000e+0 - ETA: 1s - loss: -3944.2104 - acc: 0.0000e+0 - ETA: 1s - loss: -3945.3949 - acc: 0.0000e+0 - ETA: 1s - loss: -3946.1739 - acc: 0.0000e+0 - ETA: 1s - loss: -3945.7884 - acc: 0.0000e+0 - ETA: 1s - loss: -3945.6696 - acc: 0.0000e+0 - ETA: 1s - loss: -3945.9197 - acc: 0.0000e+0 - ETA: 1s - loss: -3946.5774 - acc: 0.0000e+0 - ETA: 1s - loss: -3947.1973 - acc: 0.0000e+0 - ETA: 1s - loss: -3946.5727 - acc: 0.0000e+0 - ETA: 1s - loss: -3946.2191 - acc: 0.0000e+0 - ETA: 1s - loss: -3946.4819 - acc: 0.0000e+0 - ETA: 1s - loss: -3946.5450 - acc: 0.0000e+0 - ETA: 1s - loss: -3946.2456 - acc: 0.0000e+0 - ETA: 0s - loss: -3946.2024 - acc: 0.0000e+0 - ETA: 0s - loss: -3946.0998 - acc: 0.0000e+0 - ETA: 0s - loss: -3945.0539 - acc: 0.0000e+0 - ETA: 0s - loss: -3945.2990 - acc: 0.0000e+0 - ETA: 0s - loss: -3944.8557 - acc: 0.0000e+0 - ETA: 0s - loss: -3945.7848 - acc: 0.0000e+0 - ETA: 0s - loss: -3946.0515 - acc: 0.0000e+0 - ETA: 0s - loss: -3945.0837 - acc: 0.0000e+0 - ETA: 0s - loss: -3944.5847 - acc: 0.0000e+0 - ETA: 0s - loss: -3944.8653 - acc: 0.0000e+0 - ETA: 0s - loss: -3944.4198 - acc: 0.0000e+0 - ETA: 0s - loss: -3944.6365 - acc: 0.0000e+0 - ETA: 0s - loss: -3944.5511 - acc: 0.0000e+0 - ETA: 0s - loss: -3944.4749 - acc: 0.0000e+0 - ETA: 0s - loss: -3944.4584 - acc: 0.0000e+0 - ETA: 0s - loss: -3944.4707 - acc: 0.0000e+0 - ETA: 0s - loss: -3944.6971 - acc: 0.0000e+0 - 16s 288us/step - loss: -3945.0690 - acc: 0.0000e+00 - val_loss: -3953.5064 - val_acc: 0.0000e+00\n",
      "Epoch 9/10\n"
     ]
    },
    {
     "name": "stdout",
     "output_type": "stream",
     "text": [
      "44352/55399 [=======================>......] - ETA: 13s - loss: -3662.7629 - acc: 0.0000e+ - ETA: 12s - loss: -4042.7896 - acc: 0.0000e+ - ETA: 12s - loss: -3939.9556 - acc: 0.0000e+ - ETA: 12s - loss: -3930.9858 - acc: 0.0000e+ - ETA: 12s - loss: -3930.3107 - acc: 0.0000e+ - ETA: 12s - loss: -3919.5972 - acc: 0.0000e+ - ETA: 12s - loss: -3918.3912 - acc: 0.0000e+ - ETA: 13s - loss: -3911.6782 - acc: 0.0000e+ - ETA: 13s - loss: -3920.3404 - acc: 0.0000e+ - ETA: 13s - loss: -3914.5197 - acc: 0.0000e+ - ETA: 13s - loss: -3908.8061 - acc: 0.0000e+ - ETA: 13s - loss: -3914.9308 - acc: 0.0000e+ - ETA: 13s - loss: -3915.3168 - acc: 0.0000e+ - ETA: 13s - loss: -3917.4801 - acc: 0.0000e+ - ETA: 13s - loss: -3924.2425 - acc: 0.0000e+ - ETA: 12s - loss: -3929.0068 - acc: 0.0000e+ - ETA: 12s - loss: -3933.6773 - acc: 0.0000e+ - ETA: 12s - loss: -3934.2778 - acc: 0.0000e+ - ETA: 12s - loss: -3937.6499 - acc: 0.0000e+ - ETA: 12s - loss: -3944.5664 - acc: 0.0000e+ - ETA: 12s - loss: -3939.0275 - acc: 0.0000e+ - ETA: 12s - loss: -3941.7854 - acc: 0.0000e+ - ETA: 12s - loss: -3946.5784 - acc: 0.0000e+ - ETA: 12s - loss: -3948.3124 - acc: 0.0000e+ - ETA: 12s - loss: -3949.1366 - acc: 0.0000e+ - ETA: 12s - loss: -3950.6401 - acc: 0.0000e+ - ETA: 12s - loss: -3953.4327 - acc: 0.0000e+ - ETA: 11s - loss: -3951.8088 - acc: 0.0000e+ - ETA: 11s - loss: -3951.2524 - acc: 0.0000e+ - ETA: 11s - loss: -3944.2214 - acc: 0.0000e+ - ETA: 11s - loss: -3943.3089 - acc: 0.0000e+ - ETA: 11s - loss: -3943.7392 - acc: 0.0000e+ - ETA: 11s - loss: -3939.3115 - acc: 0.0000e+ - ETA: 11s - loss: -3938.3889 - acc: 0.0000e+ - ETA: 11s - loss: -3940.8950 - acc: 0.0000e+ - ETA: 11s - loss: -3941.4128 - acc: 0.0000e+ - ETA: 11s - loss: -3941.2529 - acc: 0.0000e+ - ETA: 11s - loss: -3940.6912 - acc: 0.0000e+ - ETA: 11s - loss: -3945.8990 - acc: 0.0000e+ - ETA: 11s - loss: -3948.3208 - acc: 0.0000e+ - ETA: 11s - loss: -3947.3506 - acc: 0.0000e+ - ETA: 10s - loss: -3945.5917 - acc: 0.0000e+ - ETA: 10s - loss: -3946.2233 - acc: 0.0000e+ - ETA: 10s - loss: -3948.1634 - acc: 0.0000e+ - ETA: 10s - loss: -3946.5336 - acc: 0.0000e+ - ETA: 10s - loss: -3948.4297 - acc: 0.0000e+ - ETA: 10s - loss: -3944.7356 - acc: 0.0000e+ - ETA: 10s - loss: -3944.9067 - acc: 0.0000e+ - ETA: 10s - loss: -3942.2660 - acc: 0.0000e+ - ETA: 10s - loss: -3943.1111 - acc: 0.0000e+ - ETA: 10s - loss: -3945.7718 - acc: 0.0000e+ - ETA: 10s - loss: -3944.1824 - acc: 0.0000e+ - ETA: 10s - loss: -3943.2784 - acc: 0.0000e+ - ETA: 10s - loss: -3942.4554 - acc: 0.0000e+ - ETA: 10s - loss: -3942.8879 - acc: 0.0000e+ - ETA: 9s - loss: -3943.2033 - acc: 0.0000e+00 - ETA: 9s - loss: -3942.6113 - acc: 0.0000e+0 - ETA: 9s - loss: -3943.6212 - acc: 0.0000e+0 - ETA: 9s - loss: -3942.1343 - acc: 0.0000e+0 - ETA: 9s - loss: -3939.3652 - acc: 0.0000e+0 - ETA: 9s - loss: -3937.8279 - acc: 0.0000e+0 - ETA: 9s - loss: -3935.4413 - acc: 0.0000e+0 - ETA: 9s - loss: -3933.8658 - acc: 0.0000e+0 - ETA: 9s - loss: -3932.0978 - acc: 0.0000e+0 - ETA: 9s - loss: -3931.4519 - acc: 0.0000e+0 - ETA: 9s - loss: -3933.0003 - acc: 0.0000e+0 - ETA: 9s - loss: -3933.9447 - acc: 0.0000e+0 - ETA: 9s - loss: -3935.8279 - acc: 0.0000e+0 - ETA: 9s - loss: -3936.9532 - acc: 0.0000e+0 - ETA: 9s - loss: -3934.7424 - acc: 0.0000e+0 - ETA: 9s - loss: -3935.4372 - acc: 0.0000e+0 - ETA: 8s - loss: -3934.1221 - acc: 0.0000e+0 - ETA: 8s - loss: -3933.7493 - acc: 0.0000e+0 - ETA: 8s - loss: -3935.8891 - acc: 0.0000e+0 - ETA: 8s - loss: -3936.1393 - acc: 0.0000e+0 - ETA: 8s - loss: -3935.3294 - acc: 0.0000e+0 - ETA: 8s - loss: -3934.3066 - acc: 0.0000e+0 - ETA: 8s - loss: -3934.2562 - acc: 0.0000e+0 - ETA: 8s - loss: -3933.3821 - acc: 0.0000e+0 - ETA: 8s - loss: -3933.7157 - acc: 0.0000e+0 - ETA: 8s - loss: -3933.9607 - acc: 0.0000e+0 - ETA: 8s - loss: -3937.2890 - acc: 0.0000e+0 - ETA: 8s - loss: -3937.2607 - acc: 0.0000e+0 - ETA: 8s - loss: -3939.9102 - acc: 0.0000e+0 - ETA: 8s - loss: -3938.9264 - acc: 0.0000e+0 - ETA: 8s - loss: -3939.5217 - acc: 0.0000e+0 - ETA: 8s - loss: -3938.8425 - acc: 0.0000e+0 - ETA: 8s - loss: -3939.8541 - acc: 0.0000e+0 - ETA: 8s - loss: -3939.6347 - acc: 0.0000e+0 - ETA: 8s - loss: -3940.3392 - acc: 0.0000e+0 - ETA: 7s - loss: -3940.9459 - acc: 0.0000e+0 - ETA: 7s - loss: -3940.3839 - acc: 0.0000e+0 - ETA: 7s - loss: -3940.1842 - acc: 0.0000e+0 - ETA: 7s - loss: -3939.5628 - acc: 0.0000e+0 - ETA: 7s - loss: -3938.6739 - acc: 0.0000e+0 - ETA: 7s - loss: -3938.2305 - acc: 0.0000e+0 - ETA: 7s - loss: -3938.1703 - acc: 0.0000e+0 - ETA: 7s - loss: -3939.4448 - acc: 0.0000e+0 - ETA: 7s - loss: -3940.3246 - acc: 0.0000e+0 - ETA: 7s - loss: -3941.4403 - acc: 0.0000e+0 - ETA: 7s - loss: -3942.5665 - acc: 0.0000e+0 - ETA: 7s - loss: -3941.9379 - acc: 0.0000e+0 - ETA: 7s - loss: -3942.0468 - acc: 0.0000e+0 - ETA: 7s - loss: -3942.9662 - acc: 0.0000e+0 - ETA: 7s - loss: -3942.3845 - acc: 0.0000e+0 - ETA: 7s - loss: -3942.7443 - acc: 0.0000e+0 - ETA: 7s - loss: -3943.4703 - acc: 0.0000e+0 - ETA: 6s - loss: -3942.2076 - acc: 0.0000e+0 - ETA: 6s - loss: -3942.8108 - acc: 0.0000e+0 - ETA: 6s - loss: -3941.5387 - acc: 0.0000e+0 - ETA: 6s - loss: -3942.0922 - acc: 0.0000e+0 - ETA: 6s - loss: -3942.5600 - acc: 0.0000e+0 - ETA: 6s - loss: -3942.5825 - acc: 0.0000e+0 - ETA: 6s - loss: -3943.8871 - acc: 0.0000e+0 - ETA: 6s - loss: -3945.2866 - acc: 0.0000e+0 - ETA: 6s - loss: -3944.5445 - acc: 0.0000e+0 - ETA: 6s - loss: -3944.1308 - acc: 0.0000e+0 - ETA: 6s - loss: -3945.5390 - acc: 0.0000e+0 - ETA: 6s - loss: -3945.0175 - acc: 0.0000e+0 - ETA: 6s - loss: -3944.6584 - acc: 0.0000e+0 - ETA: 6s - loss: -3944.8686 - acc: 0.0000e+0 - ETA: 6s - loss: -3945.4263 - acc: 0.0000e+0 - ETA: 6s - loss: -3945.4627 - acc: 0.0000e+0 - ETA: 5s - loss: -3945.4551 - acc: 0.0000e+0 - ETA: 5s - loss: -3944.1778 - acc: 0.0000e+0 - ETA: 5s - loss: -3942.8830 - acc: 0.0000e+0 - ETA: 5s - loss: -3943.0006 - acc: 0.0000e+0 - ETA: 5s - loss: -3943.0532 - acc: 0.0000e+0 - ETA: 5s - loss: -3943.7469 - acc: 0.0000e+0 - ETA: 5s - loss: -3944.3809 - acc: 0.0000e+0 - ETA: 5s - loss: -3945.0709 - acc: 0.0000e+0 - ETA: 5s - loss: -3946.0050 - acc: 0.0000e+0 - ETA: 5s - loss: -3944.8599 - acc: 0.0000e+0 - ETA: 5s - loss: -3943.8809 - acc: 0.0000e+0 - ETA: 5s - loss: -3943.2937 - acc: 0.0000e+0 - ETA: 5s - loss: -3942.8711 - acc: 0.0000e+0 - ETA: 5s - loss: -3943.2445 - acc: 0.0000e+0 - ETA: 5s - loss: -3943.8680 - acc: 0.0000e+0 - ETA: 4s - loss: -3943.2093 - acc: 0.0000e+0 - ETA: 4s - loss: -3943.6507 - acc: 0.0000e+0 - ETA: 4s - loss: -3943.2753 - acc: 0.0000e+0 - ETA: 4s - loss: -3943.0686 - acc: 0.0000e+0 - ETA: 4s - loss: -3943.6875 - acc: 0.0000e+0 - ETA: 4s - loss: -3943.7421 - acc: 0.0000e+0 - ETA: 4s - loss: -3944.0178 - acc: 0.0000e+0 - ETA: 4s - loss: -3943.7241 - acc: 0.0000e+0 - ETA: 4s - loss: -3945.6198 - acc: 0.0000e+0 - ETA: 4s - loss: -3944.7208 - acc: 0.0000e+0 - ETA: 4s - loss: -3944.1032 - acc: 0.0000e+0 - ETA: 4s - loss: -3943.6119 - acc: 0.0000e+0 - ETA: 4s - loss: -3943.4225 - acc: 0.0000e+0 - ETA: 4s - loss: -3942.5624 - acc: 0.0000e+0 - ETA: 4s - loss: -3942.0646 - acc: 0.0000e+0 - ETA: 4s - loss: -3943.0811 - acc: 0.0000e+0 - ETA: 3s - loss: -3943.9016 - acc: 0.0000e+0 - ETA: 3s - loss: -3943.3476 - acc: 0.0000e+0 - ETA: 3s - loss: -3944.3045 - acc: 0.0000e+0 - ETA: 3s - loss: -3944.2643 - acc: 0.0000e+0 - ETA: 3s - loss: -3943.7729 - acc: 0.0000e+0 - ETA: 3s - loss: -3943.9733 - acc: 0.0000e+0 - ETA: 3s - loss: -3942.9244 - acc: 0.0000e+0 - ETA: 3s - loss: -3943.0734 - acc: 0.0000e+0 - ETA: 3s - loss: -3943.3484 - acc: 0.0000e+0 - ETA: 3s - loss: -3944.1928 - acc: 0.0000e+0 - ETA: 3s - loss: -3944.1170 - acc: 0.0000e+0 - ETA: 3s - loss: -3944.3422 - acc: 0.0000e+0 - ETA: 3s - loss: -3944.7845 - acc: 0.0000e+0 - ETA: 3s - loss: -3944.7850 - acc: 0.0000e+0 - ETA: 3s - loss: -3944.8310 - acc: 0.0000e+0 - ETA: 3s - loss: -3945.6340 - acc: 0.0000e+0 - ETA: 3s - loss: -3945.6544 - acc: 0.0000e+0 - ETA: 2s - loss: -3946.5330 - acc: 0.0000e+0 - ETA: 2s - loss: -3946.5160 - acc: 0.0000e+0 - ETA: 2s - loss: -3945.2766 - acc: 0.0000e+0 - ETA: 2s - loss: -3945.0419 - acc: 0.0000e+0 - ETA: 2s - loss: -3945.0471 - acc: 0.0000e+0 - ETA: 2s - loss: -3944.1079 - acc: 0.0000e+0 - ETA: 2s - loss: -3944.0185 - acc: 0.0000e+00"
     ]
    },
    {
     "name": "stdout",
     "output_type": "stream",
     "text": [
      "55399/55399 [==============================] - ETA: 2s - loss: -3943.6113 - acc: 0.0000e+0 - ETA: 2s - loss: -3943.9383 - acc: 0.0000e+0 - ETA: 2s - loss: -3943.7393 - acc: 0.0000e+0 - ETA: 2s - loss: -3943.8015 - acc: 0.0000e+0 - ETA: 2s - loss: -3943.4550 - acc: 0.0000e+0 - ETA: 2s - loss: -3944.4565 - acc: 0.0000e+0 - ETA: 2s - loss: -3944.4885 - acc: 0.0000e+0 - ETA: 2s - loss: -3944.9991 - acc: 0.0000e+0 - ETA: 2s - loss: -3944.3857 - acc: 0.0000e+0 - ETA: 1s - loss: -3944.4155 - acc: 0.0000e+0 - ETA: 1s - loss: -3944.7864 - acc: 0.0000e+0 - ETA: 1s - loss: -3945.4703 - acc: 0.0000e+0 - ETA: 1s - loss: -3945.3102 - acc: 0.0000e+0 - ETA: 1s - loss: -3945.2982 - acc: 0.0000e+0 - ETA: 1s - loss: -3944.5291 - acc: 0.0000e+0 - ETA: 1s - loss: -3945.6971 - acc: 0.0000e+0 - ETA: 1s - loss: -3945.8293 - acc: 0.0000e+0 - ETA: 1s - loss: -3946.1704 - acc: 0.0000e+0 - ETA: 1s - loss: -3945.8313 - acc: 0.0000e+0 - ETA: 1s - loss: -3946.8397 - acc: 0.0000e+0 - ETA: 1s - loss: -3947.3685 - acc: 0.0000e+0 - ETA: 1s - loss: -3947.6367 - acc: 0.0000e+0 - ETA: 1s - loss: -3947.6477 - acc: 0.0000e+0 - ETA: 1s - loss: -3947.4328 - acc: 0.0000e+0 - ETA: 1s - loss: -3947.7302 - acc: 0.0000e+0 - ETA: 1s - loss: -3948.5532 - acc: 0.0000e+0 - ETA: 0s - loss: -3948.2732 - acc: 0.0000e+0 - ETA: 0s - loss: -3948.4333 - acc: 0.0000e+0 - ETA: 0s - loss: -3948.4757 - acc: 0.0000e+0 - ETA: 0s - loss: -3948.0676 - acc: 0.0000e+0 - ETA: 0s - loss: -3947.1937 - acc: 0.0000e+0 - ETA: 0s - loss: -3946.8680 - acc: 0.0000e+0 - ETA: 0s - loss: -3946.5093 - acc: 0.0000e+0 - ETA: 0s - loss: -3946.4163 - acc: 0.0000e+0 - ETA: 0s - loss: -3946.1481 - acc: 0.0000e+0 - ETA: 0s - loss: -3946.1985 - acc: 0.0000e+0 - ETA: 0s - loss: -3945.9677 - acc: 0.0000e+0 - ETA: 0s - loss: -3946.2933 - acc: 0.0000e+0 - ETA: 0s - loss: -3946.9086 - acc: 0.0000e+0 - ETA: 0s - loss: -3946.3155 - acc: 0.0000e+0 - ETA: 0s - loss: -3946.0951 - acc: 0.0000e+0 - ETA: 0s - loss: -3945.5788 - acc: 0.0000e+0 - ETA: 0s - loss: -3945.2596 - acc: 0.0000e+0 - 16s 287us/step - loss: -3945.0690 - acc: 0.0000e+00 - val_loss: -3953.5064 - val_acc: 0.0000e+00\n",
      "Epoch 10/10\n"
     ]
    },
    {
     "name": "stdout",
     "output_type": "stream",
     "text": [
      "44864/55399 [=======================>......] - ETA: 13s - loss: -4120.3594 - acc: 0.0000e+ - ETA: 12s - loss: -3907.2294 - acc: 0.0000e+ - ETA: 12s - loss: -3916.9277 - acc: 0.0000e+ - ETA: 12s - loss: -3940.4708 - acc: 0.0000e+ - ETA: 12s - loss: -3940.5385 - acc: 0.0000e+ - ETA: 12s - loss: -3949.3344 - acc: 0.0000e+ - ETA: 12s - loss: -3921.1092 - acc: 0.0000e+ - ETA: 12s - loss: -3923.9225 - acc: 0.0000e+ - ETA: 12s - loss: -3910.1793 - acc: 0.0000e+ - ETA: 12s - loss: -3914.8720 - acc: 0.0000e+ - ETA: 11s - loss: -3927.7139 - acc: 0.0000e+ - ETA: 11s - loss: -3931.7021 - acc: 0.0000e+ - ETA: 11s - loss: -3933.5445 - acc: 0.0000e+ - ETA: 11s - loss: -3944.2362 - acc: 0.0000e+ - ETA: 11s - loss: -3947.2435 - acc: 0.0000e+ - ETA: 11s - loss: -3956.6557 - acc: 0.0000e+ - ETA: 11s - loss: -3959.9811 - acc: 0.0000e+ - ETA: 11s - loss: -3967.4516 - acc: 0.0000e+ - ETA: 11s - loss: -3954.8921 - acc: 0.0000e+ - ETA: 11s - loss: -3945.5979 - acc: 0.0000e+ - ETA: 11s - loss: -3950.1840 - acc: 0.0000e+ - ETA: 11s - loss: -3951.1208 - acc: 0.0000e+ - ETA: 11s - loss: -3946.7226 - acc: 0.0000e+ - ETA: 11s - loss: -3946.4661 - acc: 0.0000e+ - ETA: 11s - loss: -3945.7402 - acc: 0.0000e+ - ETA: 11s - loss: -3950.7025 - acc: 0.0000e+ - ETA: 11s - loss: -3950.2216 - acc: 0.0000e+ - ETA: 11s - loss: -3950.2378 - acc: 0.0000e+ - ETA: 11s - loss: -3947.2771 - acc: 0.0000e+ - ETA: 10s - loss: -3943.5091 - acc: 0.0000e+ - ETA: 10s - loss: -3946.3577 - acc: 0.0000e+ - ETA: 10s - loss: -3946.1129 - acc: 0.0000e+ - ETA: 10s - loss: -3946.4346 - acc: 0.0000e+ - ETA: 10s - loss: -3948.6362 - acc: 0.0000e+ - ETA: 10s - loss: -3952.2740 - acc: 0.0000e+ - ETA: 10s - loss: -3950.3486 - acc: 0.0000e+ - ETA: 10s - loss: -3947.0564 - acc: 0.0000e+ - ETA: 10s - loss: -3948.9613 - acc: 0.0000e+ - ETA: 10s - loss: -3947.6026 - acc: 0.0000e+ - ETA: 10s - loss: -3952.5408 - acc: 0.0000e+ - ETA: 10s - loss: -3946.9223 - acc: 0.0000e+ - ETA: 10s - loss: -3947.6356 - acc: 0.0000e+ - ETA: 10s - loss: -3951.5616 - acc: 0.0000e+ - ETA: 10s - loss: -3950.8490 - acc: 0.0000e+ - ETA: 10s - loss: -3951.8180 - acc: 0.0000e+ - ETA: 10s - loss: -3953.4919 - acc: 0.0000e+ - ETA: 10s - loss: -3953.3405 - acc: 0.0000e+ - ETA: 10s - loss: -3953.6613 - acc: 0.0000e+ - ETA: 10s - loss: -3955.3624 - acc: 0.0000e+ - ETA: 10s - loss: -3957.3688 - acc: 0.0000e+ - ETA: 9s - loss: -3956.8887 - acc: 0.0000e+00 - ETA: 9s - loss: -3954.5546 - acc: 0.0000e+0 - ETA: 9s - loss: -3952.9507 - acc: 0.0000e+0 - ETA: 9s - loss: -3952.9617 - acc: 0.0000e+0 - ETA: 9s - loss: -3953.4729 - acc: 0.0000e+0 - ETA: 9s - loss: -3955.3848 - acc: 0.0000e+0 - ETA: 9s - loss: -3955.1336 - acc: 0.0000e+0 - ETA: 9s - loss: -3954.9458 - acc: 0.0000e+0 - ETA: 9s - loss: -3954.1157 - acc: 0.0000e+0 - ETA: 9s - loss: -3954.7819 - acc: 0.0000e+0 - ETA: 9s - loss: -3954.6498 - acc: 0.0000e+0 - ETA: 9s - loss: -3953.2112 - acc: 0.0000e+0 - ETA: 9s - loss: -3954.3577 - acc: 0.0000e+0 - ETA: 9s - loss: -3955.0303 - acc: 0.0000e+0 - ETA: 9s - loss: -3956.8786 - acc: 0.0000e+0 - ETA: 9s - loss: -3957.4129 - acc: 0.0000e+0 - ETA: 8s - loss: -3956.8194 - acc: 0.0000e+0 - ETA: 8s - loss: -3959.4285 - acc: 0.0000e+0 - ETA: 8s - loss: -3960.2020 - acc: 0.0000e+0 - ETA: 8s - loss: -3957.7172 - acc: 0.0000e+0 - ETA: 8s - loss: -3957.7394 - acc: 0.0000e+0 - ETA: 8s - loss: -3959.2379 - acc: 0.0000e+0 - ETA: 8s - loss: -3958.8338 - acc: 0.0000e+0 - ETA: 8s - loss: -3961.0192 - acc: 0.0000e+0 - ETA: 8s - loss: -3963.2284 - acc: 0.0000e+0 - ETA: 8s - loss: -3960.7805 - acc: 0.0000e+0 - ETA: 8s - loss: -3962.3610 - acc: 0.0000e+0 - ETA: 8s - loss: -3963.1453 - acc: 0.0000e+0 - ETA: 8s - loss: -3964.5869 - acc: 0.0000e+0 - ETA: 8s - loss: -3965.5325 - acc: 0.0000e+0 - ETA: 8s - loss: -3963.8252 - acc: 0.0000e+0 - ETA: 8s - loss: -3962.3676 - acc: 0.0000e+0 - ETA: 7s - loss: -3961.1806 - acc: 0.0000e+0 - ETA: 7s - loss: -3962.1672 - acc: 0.0000e+0 - ETA: 7s - loss: -3960.2953 - acc: 0.0000e+0 - ETA: 7s - loss: -3960.5602 - acc: 0.0000e+0 - ETA: 7s - loss: -3959.2385 - acc: 0.0000e+0 - ETA: 7s - loss: -3958.7579 - acc: 0.0000e+0 - ETA: 7s - loss: -3959.4479 - acc: 0.0000e+0 - ETA: 7s - loss: -3958.8505 - acc: 0.0000e+0 - ETA: 7s - loss: -3960.1810 - acc: 0.0000e+0 - ETA: 7s - loss: -3960.6205 - acc: 0.0000e+0 - ETA: 7s - loss: -3961.7073 - acc: 0.0000e+0 - ETA: 7s - loss: -3961.2846 - acc: 0.0000e+0 - ETA: 7s - loss: -3961.2233 - acc: 0.0000e+0 - ETA: 7s - loss: -3962.9142 - acc: 0.0000e+0 - ETA: 7s - loss: -3961.3653 - acc: 0.0000e+0 - ETA: 7s - loss: -3962.0414 - acc: 0.0000e+0 - ETA: 6s - loss: -3962.0787 - acc: 0.0000e+0 - ETA: 6s - loss: -3960.1887 - acc: 0.0000e+0 - ETA: 6s - loss: -3960.4925 - acc: 0.0000e+0 - ETA: 6s - loss: -3960.6844 - acc: 0.0000e+0 - ETA: 6s - loss: -3961.1016 - acc: 0.0000e+0 - ETA: 6s - loss: -3960.7640 - acc: 0.0000e+0 - ETA: 6s - loss: -3959.7153 - acc: 0.0000e+0 - ETA: 6s - loss: -3959.2342 - acc: 0.0000e+0 - ETA: 6s - loss: -3958.7172 - acc: 0.0000e+0 - ETA: 6s - loss: -3959.4384 - acc: 0.0000e+0 - ETA: 6s - loss: -3958.4245 - acc: 0.0000e+0 - ETA: 6s - loss: -3959.5719 - acc: 0.0000e+0 - ETA: 6s - loss: -3958.8847 - acc: 0.0000e+0 - ETA: 6s - loss: -3958.1067 - acc: 0.0000e+0 - ETA: 6s - loss: -3957.5553 - acc: 0.0000e+0 - ETA: 6s - loss: -3956.2024 - acc: 0.0000e+0 - ETA: 6s - loss: -3957.0641 - acc: 0.0000e+0 - ETA: 5s - loss: -3956.9054 - acc: 0.0000e+0 - ETA: 5s - loss: -3956.1384 - acc: 0.0000e+0 - ETA: 5s - loss: -3956.2664 - acc: 0.0000e+0 - ETA: 5s - loss: -3956.0008 - acc: 0.0000e+0 - ETA: 5s - loss: -3955.9063 - acc: 0.0000e+0 - ETA: 5s - loss: -3955.4583 - acc: 0.0000e+0 - ETA: 5s - loss: -3956.0943 - acc: 0.0000e+0 - ETA: 5s - loss: -3956.2164 - acc: 0.0000e+0 - ETA: 5s - loss: -3956.4116 - acc: 0.0000e+0 - ETA: 5s - loss: -3956.1182 - acc: 0.0000e+0 - ETA: 5s - loss: -3956.4707 - acc: 0.0000e+0 - ETA: 5s - loss: -3956.7880 - acc: 0.0000e+0 - ETA: 5s - loss: -3957.6728 - acc: 0.0000e+0 - ETA: 5s - loss: -3957.2077 - acc: 0.0000e+0 - ETA: 5s - loss: -3957.3846 - acc: 0.0000e+0 - ETA: 5s - loss: -3957.4484 - acc: 0.0000e+0 - ETA: 5s - loss: -3956.6829 - acc: 0.0000e+0 - ETA: 4s - loss: -3955.9929 - acc: 0.0000e+0 - ETA: 4s - loss: -3955.5686 - acc: 0.0000e+0 - ETA: 4s - loss: -3954.9865 - acc: 0.0000e+0 - ETA: 4s - loss: -3954.3717 - acc: 0.0000e+0 - ETA: 4s - loss: -3954.1505 - acc: 0.0000e+0 - ETA: 4s - loss: -3954.6522 - acc: 0.0000e+0 - ETA: 4s - loss: -3954.6027 - acc: 0.0000e+0 - ETA: 4s - loss: -3954.0531 - acc: 0.0000e+0 - ETA: 4s - loss: -3952.9889 - acc: 0.0000e+0 - ETA: 4s - loss: -3954.0902 - acc: 0.0000e+0 - ETA: 4s - loss: -3954.6070 - acc: 0.0000e+0 - ETA: 4s - loss: -3954.8097 - acc: 0.0000e+0 - ETA: 4s - loss: -3953.8082 - acc: 0.0000e+0 - ETA: 4s - loss: -3952.6568 - acc: 0.0000e+0 - ETA: 4s - loss: -3952.8545 - acc: 0.0000e+0 - ETA: 4s - loss: -3951.6745 - acc: 0.0000e+0 - ETA: 4s - loss: -3950.6281 - acc: 0.0000e+0 - ETA: 4s - loss: -3950.6766 - acc: 0.0000e+0 - ETA: 3s - loss: -3950.1417 - acc: 0.0000e+0 - ETA: 3s - loss: -3949.5902 - acc: 0.0000e+0 - ETA: 3s - loss: -3948.6689 - acc: 0.0000e+0 - ETA: 3s - loss: -3948.2868 - acc: 0.0000e+0 - ETA: 3s - loss: -3947.7187 - acc: 0.0000e+0 - ETA: 3s - loss: -3946.9772 - acc: 0.0000e+0 - ETA: 3s - loss: -3946.7940 - acc: 0.0000e+0 - ETA: 3s - loss: -3945.6696 - acc: 0.0000e+0 - ETA: 3s - loss: -3946.4995 - acc: 0.0000e+0 - ETA: 3s - loss: -3946.5656 - acc: 0.0000e+0 - ETA: 3s - loss: -3946.0137 - acc: 0.0000e+0 - ETA: 3s - loss: -3946.3741 - acc: 0.0000e+0 - ETA: 3s - loss: -3944.9789 - acc: 0.0000e+0 - ETA: 3s - loss: -3944.6952 - acc: 0.0000e+0 - ETA: 3s - loss: -3944.2192 - acc: 0.0000e+0 - ETA: 3s - loss: -3943.8344 - acc: 0.0000e+0 - ETA: 3s - loss: -3943.7626 - acc: 0.0000e+0 - ETA: 2s - loss: -3943.9754 - acc: 0.0000e+0 - ETA: 2s - loss: -3943.7437 - acc: 0.0000e+0 - ETA: 2s - loss: -3943.3014 - acc: 0.0000e+0 - ETA: 2s - loss: -3943.7004 - acc: 0.0000e+0 - ETA: 2s - loss: -3943.8041 - acc: 0.0000e+0 - ETA: 2s - loss: -3943.5660 - acc: 0.0000e+0 - ETA: 2s - loss: -3943.9889 - acc: 0.0000e+0 - ETA: 2s - loss: -3945.1332 - acc: 0.0000e+0 - ETA: 2s - loss: -3945.5235 - acc: 0.0000e+0 - ETA: 2s - loss: -3945.2327 - acc: 0.0000e+0 - ETA: 2s - loss: -3946.1933 - acc: 0.0000e+00"
     ]
    },
    {
     "name": "stdout",
     "output_type": "stream",
     "text": [
      "55399/55399 [==============================] - ETA: 2s - loss: -3946.7681 - acc: 0.0000e+0 - ETA: 2s - loss: -3947.2847 - acc: 0.0000e+0 - ETA: 2s - loss: -3946.4383 - acc: 0.0000e+0 - ETA: 2s - loss: -3946.8944 - acc: 0.0000e+0 - ETA: 2s - loss: -3946.6758 - acc: 0.0000e+0 - ETA: 2s - loss: -3946.2618 - acc: 0.0000e+0 - ETA: 1s - loss: -3945.8995 - acc: 0.0000e+0 - ETA: 1s - loss: -3945.8480 - acc: 0.0000e+0 - ETA: 1s - loss: -3945.8802 - acc: 0.0000e+0 - ETA: 1s - loss: -3945.8804 - acc: 0.0000e+0 - ETA: 1s - loss: -3945.9980 - acc: 0.0000e+0 - ETA: 1s - loss: -3945.8982 - acc: 0.0000e+0 - ETA: 1s - loss: -3946.0717 - acc: 0.0000e+0 - ETA: 1s - loss: -3946.7152 - acc: 0.0000e+0 - ETA: 1s - loss: -3946.8784 - acc: 0.0000e+0 - ETA: 1s - loss: -3945.7663 - acc: 0.0000e+0 - ETA: 1s - loss: -3945.4617 - acc: 0.0000e+0 - ETA: 1s - loss: -3945.0632 - acc: 0.0000e+0 - ETA: 1s - loss: -3945.2686 - acc: 0.0000e+0 - ETA: 1s - loss: -3945.2120 - acc: 0.0000e+0 - ETA: 1s - loss: -3944.6232 - acc: 0.0000e+0 - ETA: 1s - loss: -3944.2289 - acc: 0.0000e+0 - ETA: 1s - loss: -3944.4668 - acc: 0.0000e+0 - ETA: 1s - loss: -3944.7179 - acc: 0.0000e+0 - ETA: 0s - loss: -3944.3132 - acc: 0.0000e+0 - ETA: 0s - loss: -3944.3773 - acc: 0.0000e+0 - ETA: 0s - loss: -3944.0755 - acc: 0.0000e+0 - ETA: 0s - loss: -3943.7376 - acc: 0.0000e+0 - ETA: 0s - loss: -3943.8850 - acc: 0.0000e+0 - ETA: 0s - loss: -3945.0790 - acc: 0.0000e+0 - ETA: 0s - loss: -3945.0417 - acc: 0.0000e+0 - ETA: 0s - loss: -3945.1200 - acc: 0.0000e+0 - ETA: 0s - loss: -3945.0346 - acc: 0.0000e+0 - ETA: 0s - loss: -3945.3921 - acc: 0.0000e+0 - ETA: 0s - loss: -3945.6381 - acc: 0.0000e+0 - ETA: 0s - loss: -3945.4424 - acc: 0.0000e+0 - ETA: 0s - loss: -3945.4020 - acc: 0.0000e+0 - ETA: 0s - loss: -3945.1917 - acc: 0.0000e+0 - ETA: 0s - loss: -3945.2481 - acc: 0.0000e+0 - ETA: 0s - loss: -3945.4694 - acc: 0.0000e+0 - ETA: 0s - loss: -3945.5656 - acc: 0.0000e+0 - 16s 283us/step - loss: -3945.0690 - acc: 0.0000e+00 - val_loss: -3953.5064 - val_acc: 0.0000e+00\n",
      "Test loss: -3953.506392645179\n",
      "Test accuracy: 0.0\n",
      "\n",
      "It took the following time to complete this task: 0:02:44.463852\n"
     ]
    }
   ],
   "source": [
    "start = datetime.now()\n",
    "history = model.fit(X_train_tfidf, y_train2,\n",
    "                    batch_size=64,\n",
    "                    epochs=10,\n",
    "                    verbose=1,\n",
    "                    validation_data=(X_test_tfidf, y_test2))\n",
    "score = model.evaluate(X_test_tfidf, y_test2, verbose=0)\n",
    "print('Test loss:', score[0])\n",
    "print('Test accuracy:', score[1])\n",
    "print('\\nIt took the following time to complete this task:', datetime.now() - start)"
   ]
  },
  {
   "cell_type": "markdown",
   "metadata": {},
   "source": [
    "### Logistic Regression\n",
    "\n",
    "Logistic Regression is an effective way to work with classification problems like this one by calculating the probabilities of each result and taking a log of the results creating a situation where linear regression can be used where it would otherwise not be possible."
   ]
  },
  {
   "cell_type": "code",
   "execution_count": 21,
   "metadata": {},
   "outputs": [
    {
     "data": {
      "image/png": "[encoded data removed]",
      "text/plain": [
       "<Figure size 432x288 with 1 Axes>"
      ]
     },
     "metadata": {},
     "output_type": "display_data"
    },
    {
     "name": "stdout",
     "output_type": "stream",
     "text": [
      "\n",
      "It took the following time to complete this task: 0:01:58.257486\n"
     ]
    }
   ],
   "source": [
    "start = datetime.now()\n",
    "# Try to figure out the best Lambda for Logistic Regression by running the test with the PCA X variable and mapping them out.\n",
    "# Temporary lists to store the results\n",
    "yl = []\n",
    "cl = []\n",
    "\n",
    "# For loop to run the model with different Lambdas represented as L\n",
    "numb = np.arange(0.1, 2.0, 0.3)\n",
    "for l in numb:\n",
    "    lr = LogisticRegression(C=l, multi_class='multinomial', solver='lbfgs')\n",
    "    lr.fit(X_train_tfidf, y_train2)\n",
    "    yl.append(lr.score(X_train_tfidf, y_train2))\n",
    "    cl.append(np.mean(cross_val_score(lr, X_train_tfidf, y_train2, cv=5)))\n",
    "\n",
    "# Plot the results of the accuracy and Cross Validation Score\n",
    "fig = plt.figure()\n",
    "ax1 = fig.add_subplot(111)\n",
    "plt.xlabel('Lambda')\n",
    "plt.ylabel('Score')\n",
    "ax1.scatter(x=numb, y=yl, c='b', marker=\"s\", label='Score')\n",
    "ax1.scatter(x=numb, y=cl, s=10, c='r', marker=\"^\", label='Cross Validation')\n",
    "plt.legend(loc='upper left');\n",
    "plt.show()\n",
    "print('\\nIt took the following time to complete this task:', datetime.now() - start)"
   ]
  },
  {
   "cell_type": "code",
   "execution_count": 22,
   "metadata": {},
   "outputs": [
    {
     "name": "stdout",
     "output_type": "stream",
     "text": [
      "                                  Accuracy\n",
      "TF-IDF Training                   0.881460\n",
      "TF-IDF Test                       0.841988\n",
      "TF-IDF Cross Validation           0.844004\n",
      "TF-IDF with LSA Training          0.805827\n",
      "TF-IDF with LSA Test              0.518547\n",
      "TF-IDF with LSA Cross Validation  0.804058\n",
      "\n",
      "It took the following time to complete this task: 0:00:41.959421\n"
     ]
    }
   ],
   "source": [
    "start = datetime.now()\n",
    "lr = LogisticRegression(C=1, multi_class='multinomial', solver='lbfgs')\n",
    "testing_func(lr, models, tf_idf_method)\n",
    "print('\\nIt took the following time to complete this task:', datetime.now() - start)"
   ]
  },
  {
   "cell_type": "markdown",
   "metadata": {},
   "source": [
    "### Support Vector Machines\n",
    "\n",
    "SVM uses a multi-dimensional hyperplane to classify based on the regularization parameter (\"C\") and Gamma. A lower C will look for a larger margin hyperplane even if it misclassifies points leading to less overfitting, but potentially lower overall accuracy. Gamma looks at each individual training set point and which ones are considered. A higher gamma means that only close points will be considered while a low gamma means points far away will be considered when determining the hyperplane.\n",
    "\n",
    "Luckily, Grid Search CV exists to assist in the optimization of \"C\" and gamma."
   ]
  },
  {
   "cell_type": "code",
   "execution_count": 23,
   "metadata": {},
   "outputs": [
    {
     "name": "stdout",
     "output_type": "stream",
     "text": [
      "The best parameters are {'C': 1} with a score of %0.8311882885972671\n",
      "\n",
      "It took the following time to complete this task: 0:00:17.951020\n"
     ]
    }
   ],
   "source": [
    "# SKlearn has a tool that will optimize SVC\n",
    "start = datetime.now()\n",
    "svc = LinearSVC(multi_class='ovr')\n",
    "# Set the hyperparameters\n",
    "svcparameters = {'C':[1,5,8]}\n",
    "# Run it through the tool.\n",
    "grid = GridSearchCV(svc, svcparameters).fit(X_train_tfidf, y_train2)\n",
    "predicted = grid.predict(X_test_tfidf)\n",
    "print(\"The best parameters are {} with a score of %{}\".format(grid.best_params_, grid.best_score_))\n",
    "\n",
    "#Put those parameters in a dictionary to call.\n",
    "svcparameters = grid.best_params_\n",
    "\n",
    "print('\\nIt took the following time to complete this task:', datetime.now() - start)"
   ]
  },
  {
   "cell_type": "code",
   "execution_count": 24,
   "metadata": {},
   "outputs": [
    {
     "name": "stdout",
     "output_type": "stream",
     "text": [
      "                                  Accuracy\n",
      "TF-IDF Training                   0.909312\n",
      "TF-IDF Test                       0.835165\n",
      "TF-IDF Cross Validation           0.834961\n",
      "TF-IDF with LSA Training          0.796404\n",
      "TF-IDF with LSA Test              0.519142\n",
      "TF-IDF with LSA Cross Validation  0.795249\n",
      "\n",
      "It took the following time to complete this task: 0:00:43.932289\n"
     ]
    }
   ],
   "source": [
    "start = datetime.now()\n",
    "svc = LinearSVC(C=svcparameters['C'], multi_class='ovr')\n",
    "testing_func(svc, models, tf_idf_method)\n",
    "print('\\nIt took the following time to complete this task:', datetime.now() - start)"
   ]
  },
  {
   "cell_type": "markdown",
   "metadata": {},
   "source": [
    "### Random Forest\n",
    "\n",
    "Random Forest employs a bootstrapping method of taking random subsamples of data and creating a decision tree for the classifier. The number of estimators below is how many trees it is employing to make the decision. Max Depth is the layers of nodes in the trees. The deeper the tree, the more likely it is to overfit the classifier by going into variables that aren't important in making the ultimate decision. Due to the number of features and how they work in this model, it is working better with a deeper tree of 16 than models run with lower depths. <br>\n",
    "<br>\n",
    "n_jobs is set to 4 to account for parallel processing. With a quadcore CPU, each core is able to create decision trees cutting down the overall time it takes to create the forest of decision trees used to classify the wine variety."
   ]
  },
  {
   "cell_type": "code",
   "execution_count": 25,
   "metadata": {},
   "outputs": [
    {
     "name": "stdout",
     "output_type": "stream",
     "text": [
      "                                  Accuracy\n",
      "TF-IDF Training                   0.596238\n",
      "TF-IDF Test                       0.585341\n",
      "TF-IDF Cross Validation           0.592845\n",
      "TF-IDF with LSA Training          0.887633\n",
      "TF-IDF with LSA Test              0.708182\n",
      "TF-IDF with LSA Cross Validation  0.813697\n",
      "\n",
      " It took the following time to complete this task: 0:07:51.591590\n"
     ]
    }
   ],
   "source": [
    "start = datetime.now()\n",
    "rfc = RandomForestClassifier(n_estimators=1000, \n",
    "                                 max_depth=16, n_jobs=-1)\n",
    "testing_func(rfc, models, tf_idf_method)\n",
    "print('\\n It took the following time to complete this task:', datetime.now() - start)"
   ]
  },
  {
   "cell_type": "markdown",
   "metadata": {},
   "source": [
    "## Spacy\n",
    "Now, let's prep the data for analysis using the natural language processor, Spacy. First, we need to create our functions for creating word counts and features based on those counts."
   ]
  },
  {
   "cell_type": "code",
   "execution_count": 26,
   "metadata": {},
   "outputs": [],
   "source": [
    "def bag_of_words(text):\n",
    "    \n",
    "    # Filter out punctuation and stop words.\n",
    "    allwords = [token.lemma_\n",
    "                for token in text\n",
    "                if not token.is_punct\n",
    "                and not token.is_stop]\n",
    "    \n",
    "    # Return the most common words.\n",
    "    return [item[0] for item in Counter(allwords).most_common(2000)]\n",
    "\n",
    "def bow_features(sentences, common_words):\n",
    "\n",
    "    # Scaffold the data frame and initialize counts to zero.\n",
    "    s_index = len(sentences)\n",
    "    df = pd.DataFrame(columns=common_words, index=range(s_index))\n",
    "    \n",
    "    df['content'] = sentences['content']\n",
    "    df['author'] = sentences['author']\n",
    "    df = df.fillna(0)\n",
    "    \n",
    "\n",
    "    # Process each row, counting the occurrence of words in each sentence.\n",
    "    for i, sentence in enumerate(df['content']):\n",
    "        \n",
    "        # Convert the sentence to lemmas, then filter out punctuation,\n",
    "        # stop words, and uncommon words.\n",
    "        \n",
    "        words = [token.lemma_\n",
    "                 for token in sentence\n",
    "                 if (\n",
    "                     not token.is_punct\n",
    "                     and not token.is_stop\n",
    "                     and token.lemma_ in common_words\n",
    "                 )]\n",
    "       \n",
    "        # Populate the row with word counts.\n",
    "        for word in words:\n",
    "            df.loc[i, word] += 1\n",
    "\n",
    "        # This counter is just to make sure the kernel didn't hang.\n",
    "        if i % 5000 == 0:\n",
    "            print(\"Processing row {}\".format(i))\n",
    "            \n",
    "    return df\n"
   ]
  },
  {
   "cell_type": "code",
   "execution_count": 38,
   "metadata": {
    "scrolled": false
   },
   "outputs": [
    {
     "ename": "TypeError",
     "evalue": "Argument 'string' has incorrect type (expected str, got spacy.tokens.doc.Doc)",
     "output_type": "error",
     "traceback": [
      "\u001b[1;31m---------------------------------------------------------------------------\u001b[0m",
      "\u001b[1;31mTypeError\u001b[0m                                 Traceback (most recent call last)",
      "\u001b[1;32m<ipython-input-38-54185d5d13ff>\u001b[0m in \u001b[0;36m<module>\u001b[1;34m()\u001b[0m\n\u001b[0;32m      7\u001b[0m \u001b[0mparsed_content\u001b[0m \u001b[1;33m=\u001b[0m \u001b[0mtest_df\u001b[0m\u001b[1;33m\u001b[0m\u001b[0m\n\u001b[0;32m      8\u001b[0m \u001b[1;31m# BUG here.\u001b[0m\u001b[1;33m\u001b[0m\u001b[1;33m\u001b[0m\u001b[0m\n\u001b[1;32m----> 9\u001b[1;33m \u001b[0mparsed_content\u001b[0m\u001b[1;33m[\u001b[0m\u001b[1;34m'content'\u001b[0m\u001b[1;33m]\u001b[0m \u001b[1;33m=\u001b[0m \u001b[0mparsed_content\u001b[0m\u001b[1;33m[\u001b[0m\u001b[1;34m'content'\u001b[0m\u001b[1;33m]\u001b[0m\u001b[1;33m.\u001b[0m\u001b[0mapply\u001b[0m\u001b[1;33m(\u001b[0m\u001b[1;32mlambda\u001b[0m \u001b[0mx\u001b[0m\u001b[1;33m:\u001b[0m \u001b[0mnlp\u001b[0m\u001b[1;33m(\u001b[0m\u001b[0mx\u001b[0m\u001b[1;33m)\u001b[0m\u001b[1;33m)\u001b[0m\u001b[1;33m\u001b[0m\u001b[0m\n\u001b[0m\u001b[0;32m     10\u001b[0m \u001b[1;33m\u001b[0m\u001b[0m\n\u001b[0;32m     11\u001b[0m \u001b[1;31m# parsed_content['content'] =\u001b[0m\u001b[1;33m\u001b[0m\u001b[1;33m\u001b[0m\u001b[0m\n",
      "\u001b[1;32m~\\AppData\\Local\\conda\\conda\\envs\\tweet_analysis\\lib\\site-packages\\pandas\\core\\series.py\u001b[0m in \u001b[0;36mapply\u001b[1;34m(self, func, convert_dtype, args, **kwds)\u001b[0m\n\u001b[0;32m   3192\u001b[0m             \u001b[1;32melse\u001b[0m\u001b[1;33m:\u001b[0m\u001b[1;33m\u001b[0m\u001b[0m\n\u001b[0;32m   3193\u001b[0m                 \u001b[0mvalues\u001b[0m \u001b[1;33m=\u001b[0m \u001b[0mself\u001b[0m\u001b[1;33m.\u001b[0m\u001b[0mastype\u001b[0m\u001b[1;33m(\u001b[0m\u001b[0mobject\u001b[0m\u001b[1;33m)\u001b[0m\u001b[1;33m.\u001b[0m\u001b[0mvalues\u001b[0m\u001b[1;33m\u001b[0m\u001b[0m\n\u001b[1;32m-> 3194\u001b[1;33m                 \u001b[0mmapped\u001b[0m \u001b[1;33m=\u001b[0m \u001b[0mlib\u001b[0m\u001b[1;33m.\u001b[0m\u001b[0mmap_infer\u001b[0m\u001b[1;33m(\u001b[0m\u001b[0mvalues\u001b[0m\u001b[1;33m,\u001b[0m \u001b[0mf\u001b[0m\u001b[1;33m,\u001b[0m \u001b[0mconvert\u001b[0m\u001b[1;33m=\u001b[0m\u001b[0mconvert_dtype\u001b[0m\u001b[1;33m)\u001b[0m\u001b[1;33m\u001b[0m\u001b[0m\n\u001b[0m\u001b[0;32m   3195\u001b[0m \u001b[1;33m\u001b[0m\u001b[0m\n\u001b[0;32m   3196\u001b[0m         \u001b[1;32mif\u001b[0m \u001b[0mlen\u001b[0m\u001b[1;33m(\u001b[0m\u001b[0mmapped\u001b[0m\u001b[1;33m)\u001b[0m \u001b[1;32mand\u001b[0m \u001b[0misinstance\u001b[0m\u001b[1;33m(\u001b[0m\u001b[0mmapped\u001b[0m\u001b[1;33m[\u001b[0m\u001b[1;36m0\u001b[0m\u001b[1;33m]\u001b[0m\u001b[1;33m,\u001b[0m \u001b[0mSeries\u001b[0m\u001b[1;33m)\u001b[0m\u001b[1;33m:\u001b[0m\u001b[1;33m\u001b[0m\u001b[0m\n",
      "\u001b[1;32mpandas/_libs/src\\inference.pyx\u001b[0m in \u001b[0;36mpandas._libs.lib.map_infer\u001b[1;34m()\u001b[0m\n",
      "\u001b[1;32m<ipython-input-38-54185d5d13ff>\u001b[0m in \u001b[0;36m<lambda>\u001b[1;34m(x)\u001b[0m\n\u001b[0;32m      7\u001b[0m \u001b[0mparsed_content\u001b[0m \u001b[1;33m=\u001b[0m \u001b[0mtest_df\u001b[0m\u001b[1;33m\u001b[0m\u001b[0m\n\u001b[0;32m      8\u001b[0m \u001b[1;31m# BUG here.\u001b[0m\u001b[1;33m\u001b[0m\u001b[1;33m\u001b[0m\u001b[0m\n\u001b[1;32m----> 9\u001b[1;33m \u001b[0mparsed_content\u001b[0m\u001b[1;33m[\u001b[0m\u001b[1;34m'content'\u001b[0m\u001b[1;33m]\u001b[0m \u001b[1;33m=\u001b[0m \u001b[0mparsed_content\u001b[0m\u001b[1;33m[\u001b[0m\u001b[1;34m'content'\u001b[0m\u001b[1;33m]\u001b[0m\u001b[1;33m.\u001b[0m\u001b[0mapply\u001b[0m\u001b[1;33m(\u001b[0m\u001b[1;32mlambda\u001b[0m \u001b[0mx\u001b[0m\u001b[1;33m:\u001b[0m \u001b[0mnlp\u001b[0m\u001b[1;33m(\u001b[0m\u001b[0mx\u001b[0m\u001b[1;33m)\u001b[0m\u001b[1;33m)\u001b[0m\u001b[1;33m\u001b[0m\u001b[0m\n\u001b[0m\u001b[0;32m     10\u001b[0m \u001b[1;33m\u001b[0m\u001b[0m\n\u001b[0;32m     11\u001b[0m \u001b[1;31m# parsed_content['content'] =\u001b[0m\u001b[1;33m\u001b[0m\u001b[1;33m\u001b[0m\u001b[0m\n",
      "\u001b[1;32m~\\AppData\\Local\\conda\\conda\\envs\\tweet_analysis\\lib\\site-packages\\spacy\\language.py\u001b[0m in \u001b[0;36m__call__\u001b[1;34m(self, text, disable)\u001b[0m\n\u001b[0;32m    344\u001b[0m             raise ValueError(Errors.E088.format(length=len(text),\n\u001b[0;32m    345\u001b[0m                                                 max_length=self.max_length))\n\u001b[1;32m--> 346\u001b[1;33m         \u001b[0mdoc\u001b[0m \u001b[1;33m=\u001b[0m \u001b[0mself\u001b[0m\u001b[1;33m.\u001b[0m\u001b[0mmake_doc\u001b[0m\u001b[1;33m(\u001b[0m\u001b[0mtext\u001b[0m\u001b[1;33m)\u001b[0m\u001b[1;33m\u001b[0m\u001b[0m\n\u001b[0m\u001b[0;32m    347\u001b[0m         \u001b[1;32mfor\u001b[0m \u001b[0mname\u001b[0m\u001b[1;33m,\u001b[0m \u001b[0mproc\u001b[0m \u001b[1;32min\u001b[0m \u001b[0mself\u001b[0m\u001b[1;33m.\u001b[0m\u001b[0mpipeline\u001b[0m\u001b[1;33m:\u001b[0m\u001b[1;33m\u001b[0m\u001b[0m\n\u001b[0;32m    348\u001b[0m             \u001b[1;32mif\u001b[0m \u001b[0mname\u001b[0m \u001b[1;32min\u001b[0m \u001b[0mdisable\u001b[0m\u001b[1;33m:\u001b[0m\u001b[1;33m\u001b[0m\u001b[0m\n",
      "\u001b[1;32m~\\AppData\\Local\\conda\\conda\\envs\\tweet_analysis\\lib\\site-packages\\spacy\\language.py\u001b[0m in \u001b[0;36mmake_doc\u001b[1;34m(self, text)\u001b[0m\n\u001b[0;32m    376\u001b[0m \u001b[1;33m\u001b[0m\u001b[0m\n\u001b[0;32m    377\u001b[0m     \u001b[1;32mdef\u001b[0m \u001b[0mmake_doc\u001b[0m\u001b[1;33m(\u001b[0m\u001b[0mself\u001b[0m\u001b[1;33m,\u001b[0m \u001b[0mtext\u001b[0m\u001b[1;33m)\u001b[0m\u001b[1;33m:\u001b[0m\u001b[1;33m\u001b[0m\u001b[0m\n\u001b[1;32m--> 378\u001b[1;33m         \u001b[1;32mreturn\u001b[0m \u001b[0mself\u001b[0m\u001b[1;33m.\u001b[0m\u001b[0mtokenizer\u001b[0m\u001b[1;33m(\u001b[0m\u001b[0mtext\u001b[0m\u001b[1;33m)\u001b[0m\u001b[1;33m\u001b[0m\u001b[0m\n\u001b[0m\u001b[0;32m    379\u001b[0m \u001b[1;33m\u001b[0m\u001b[0m\n\u001b[0;32m    380\u001b[0m     \u001b[1;32mdef\u001b[0m \u001b[0mupdate\u001b[0m\u001b[1;33m(\u001b[0m\u001b[0mself\u001b[0m\u001b[1;33m,\u001b[0m \u001b[0mdocs\u001b[0m\u001b[1;33m,\u001b[0m \u001b[0mgolds\u001b[0m\u001b[1;33m,\u001b[0m \u001b[0mdrop\u001b[0m\u001b[1;33m=\u001b[0m\u001b[1;36m0.\u001b[0m\u001b[1;33m,\u001b[0m \u001b[0msgd\u001b[0m\u001b[1;33m=\u001b[0m\u001b[1;32mNone\u001b[0m\u001b[1;33m,\u001b[0m \u001b[0mlosses\u001b[0m\u001b[1;33m=\u001b[0m\u001b[1;32mNone\u001b[0m\u001b[1;33m)\u001b[0m\u001b[1;33m:\u001b[0m\u001b[1;33m\u001b[0m\u001b[0m\n",
      "\u001b[1;31mTypeError\u001b[0m: Argument 'string' has incorrect type (expected str, got spacy.tokens.doc.Doc)"
     ]
    }
   ],
   "source": [
    "from datetime import datetime\n",
    "\n",
    "start = datetime.now()\n",
    "# Set up Spacy\n",
    "nlp = spacy.load('en')\n",
    "# Create a dataframe for our parsed descriptions and parse them.\n",
    "parsed_content = test_df\n",
    "# BUG here. \n",
    "parsed_content['content'] = parsed_content['content'].apply(lambda x: nlp(x))\n",
    "\n",
    "# Could this help?: https://stackoverflow.com/questions/45748424/python-spacy-create-nlp-document-argument-string-has-incorrect-type \n",
    "\n",
    "\"\"\"\n",
    "# Figure out the most common words\n",
    "content_words = parsed_content['content'].apply(bag_of_words)\n",
    "flat_list = [item for sublist in content_words for item in sublist]\n",
    "common_words = set(flat_list)\n",
    "\n",
    "# Use the second function to count the appearance of the common words in each description\n",
    "word_counts = bow_features(parsed_content, common_words)\n",
    "print(word_counts.head(10))\n",
    "print('\\nIt took the following time to complete this task:', datetime.now() - start)\"\"\""
   ]
  },
  {
   "cell_type": "markdown",
   "metadata": {},
   "source": [
    "Now that there are word counts for each description, let's use that to see if the computer can figure out what the  variety is by the descriptions. Since we are using word counts in a dataframe and not creating a vectorized dataset as above in TF_IDF, it is easy to add other features like country of origin for the wine, which may give an additional clue."
   ]
  },
  {
   "cell_type": "code",
   "execution_count": null,
   "metadata": {},
   "outputs": [],
   "source": [
    "# Set the X,Y and create a training/test set.\n",
    "X = word_counts.drop(['author', 'content'], 1)\n",
    "y = word_counts['author']\n",
    "\n",
    "# Splitting into training and test sets\n",
    "Spacy_X_train, Spacy_X_test, Spacy_y_train, Spacy_y_test= train_test_split(X, y, test_size=0.4, random_state=0)\n",
    "print(set(Spacy_y_test), varieties_list)\n",
    "# These will be the models for SpaCy\n",
    "models = [[Spacy_X_train, Spacy_y_train, Spacy_X_test, Spacy_y_test]] \n",
    "\n",
    "# Let's tell it that it is SpaCy\n",
    "Spacy_method = ['SpaCy Training', 'SpaCy Test', 'SpaCy CV']"
   ]
  },
  {
   "cell_type": "code",
   "execution_count": null,
   "metadata": {},
   "outputs": [],
   "source": [
    "# Start with a simple sequential model\n",
    "model = Sequential()\n",
    "\n",
    "# Add dense layers to create a fully connected MLP\n",
    "# Note that we specify an input shape for the first layer, but only the first layer.\n",
    "# Relu is the activation function used\n",
    "model.add(Dense(128, activation='sigmoid', input_shape=(Spacy_X_test.shape[1],)))\n",
    "# Dropout layers remove features and fight overfitting\n",
    "model.add(Dropout(0.1))\n",
    "model.add(Dense(128, activation='relu'))\n",
    "model.add(Dropout(0.1))\n",
    "model.add(Dense(64, activation='relu'))\n",
    "model.add(Dropout(0.1))\n",
    "# End with a number of units equal to the number of classes we have for our outcome\n",
    "model.add(Dense(1, activation='sigmoid'))\n",
    "\n",
    "model.summary()\n",
    "sgd = SGD(lr = 0.1, momentum = 0.9, decay = 0, nesterov = False)\n",
    "# Compile the model to put it all together.\n",
    "model.compile(loss='binary_crossentropy',\n",
    "              optimizer=sgd,\n",
    "              metrics=['accuracy'])"
   ]
  },
  {
   "cell_type": "code",
   "execution_count": null,
   "metadata": {},
   "outputs": [],
   "source": [
    "start = datetime.now()\n",
    "history = model.fit(Spacy_X_train, Spacy_y_train,\n",
    "                    batch_size=64,\n",
    "                    epochs=10,\n",
    "                    verbose=1,\n",
    "                    validation_data=(Spacy_X_test, Spacy_y_test))\n",
    "score = model.evaluate(Spacy_X_test, Spacy_y_test, verbose=0)\n",
    "print('Test loss:', score[0])\n",
    "print('Test accuracy:', score[1])\n",
    "print('\\nIt took the following time to complete this task:', datetime.now() - start)"
   ]
  },
  {
   "cell_type": "code",
   "execution_count": null,
   "metadata": {},
   "outputs": [],
   "source": [
    "x_train = Spacy_X_train.values\n",
    "x_test = Spacy_X_test.values"
   ]
  },
  {
   "cell_type": "code",
   "execution_count": null,
   "metadata": {},
   "outputs": [],
   "source": [
    "\n",
    "# set parameters:\n",
    "max_features = 20\n",
    "maxlen = 16\n",
    "batch_size = 64\n",
    "embedding_dims = 25\n",
    "filters = 216\n",
    "kernel_size = 3\n",
    "hidden_dims = 256\n",
    "epochs = 100\n",
    "\n",
    "print('Pad sequences (samples x time)')\n",
    "x_train = sequence.pad_sequences(x_train, maxlen=maxlen)\n",
    "x_test = sequence.pad_sequences(x_test, maxlen=maxlen)\n",
    "print('x_train shape:', x_train.shape)\n",
    "print('x_test shape:', x_test.shape)"
   ]
  },
  {
   "cell_type": "code",
   "execution_count": null,
   "metadata": {},
   "outputs": [],
   "source": [
    "model = Sequential()\n",
    "\n",
    "# we start off with an efficient embedding layer which maps\n",
    "# our vocab indices into embedding_dims dimensions\n",
    "model.add(Embedding(max_features,\n",
    "                    embedding_dims,\n",
    "                    input_length=maxlen))\n",
    "model.add(Dropout(0.2))\n",
    "\n",
    "# we add a Convolution1D, which will learn filters\n",
    "# word group filters of size filter_length:\n",
    "model.add(Conv1D(filters,\n",
    "                 kernel_size,\n",
    "                 padding='valid',\n",
    "                 activation='relu',\n",
    "                 strides=1))\n",
    "# we use max pooling:\n",
    "model.add(GlobalMaxPooling1D())\n",
    "\n",
    "# We add a vanilla hidden layer:\n",
    "model.add(Dense(hidden_dims))\n",
    "model.add(Dropout(0.1))\n",
    "model.add(Activation('sigmoid'))\n",
    "# We add a vanilla hidden layer:\n",
    "model.add(Dense(hidden_dims))\n",
    "model.add(Dropout(0.1))\n",
    "model.add(Activation('relu'))\n",
    "# We project onto a single unit output layer, and squash it with a sigmoid:\n",
    "model.add(Dense(1))\n",
    "model.add(Activation('sigmoid'))\n",
    "\n",
    "model.compile(loss='binary_crossentropy',\n",
    "              optimizer='adam',\n",
    "              metrics=['accuracy'])\n",
    "model.fit(x_train, y_train,\n",
    "          batch_size=batch_size,\n",
    "          epochs=epochs,\n",
    "          validation_data=(x_test, y_test))\n",
    "score = model.evaluate(x_test, y_test, verbose=0)\n",
    "print('Test loss:', score[0])\n",
    "print('Test accuracy:', score[1])"
   ]
  },
  {
   "cell_type": "markdown",
   "metadata": {},
   "source": [
    "Now, let's apply the same three models as above to get an apples to apples comparison.\n",
    "\n",
    "### Logistic Regression"
   ]
  },
  {
   "cell_type": "code",
   "execution_count": null,
   "metadata": {},
   "outputs": [],
   "source": [
    "start = datetime.now()\n",
    "\n",
    "# Putting it in multi-class and changing the solver allows it to handle multinomial classification\n",
    "lr = LogisticRegression(C=1, multi_class='multinomial', solver='lbfgs')\n",
    "testing_func(lr, models, Spacy_method)\n",
    "print('It took the following time to complete this task:', datetime.now() - start)"
   ]
  },
  {
   "cell_type": "markdown",
   "metadata": {},
   "source": [
    "### SVC"
   ]
  },
  {
   "cell_type": "code",
   "execution_count": null,
   "metadata": {},
   "outputs": [],
   "source": [
    "start = datetime.now()\n",
    "# The \"ovr\" method allows SVC to do multinomial classification\n",
    "svc = LinearSVC(C=svcparameters['C'], multi_class='ovr')\n",
    "testing_func(svc, models, Spacy_method)\n",
    "print('It took the following time to complete this task:', datetime.now() - start)"
   ]
  },
  {
   "cell_type": "markdown",
   "metadata": {},
   "source": [
    "### Random Forest"
   ]
  },
  {
   "cell_type": "code",
   "execution_count": null,
   "metadata": {},
   "outputs": [],
   "source": [
    "start = datetime.now()\n",
    "rfc = RandomForestClassifier(n_estimators=1000, \n",
    "                                 max_depth=16, n_jobs=4)\n",
    "testing_func(rfc, models, Spacy_method)\n",
    "print('\\nIt took the following time to complete this task:', datetime.now() - start)"
   ]
  },
  {
   "cell_type": "code",
   "execution_count": null,
   "metadata": {},
   "outputs": [],
   "source": [
    "model = LogisticRegression(C=1, multi_class='multinomial', solver='lbfgs')\n",
    "model.fit(Spacy_X_train, Spacy_y_train)\n",
    "y_pred = model.predict(Spacy_X_test)\n",
    "print(len(set(Spacy_y_test)), len(word_count['author']))\n",
    "conf_mat = confusion_matrix(Spacy_y_test, y_pred)\n",
    "fig, ax = plt.subplots(figsize=(10,10))\n",
    "sns.heatmap(conf_mat, annot=True, fmt='d', xticklabels=word_count['author'], yticklabels=word_count['author'])\n",
    "plt.ylabel('Actual')\n",
    "plt.xlabel('Predicted')\n",
    "plt.show()"
   ]
  },
  {
   "cell_type": "markdown",
   "metadata": {},
   "source": [
    "## Unsupervised Learning\n",
    "\n",
    "First, let's use the LSA generated X to see similarities in the tweets to see the different aspects the machine sees in the data."
   ]
  },
  {
   "cell_type": "code",
   "execution_count": null,
   "metadata": {},
   "outputs": [],
   "source": [
    "articles_by_component=pd.DataFrame(lsa_X,index=test_df['content']) \n",
    "articles_by_component.shape\n",
    "\n",
    "print(\"Percent variance captured by all components:\",total_variance*100)\n",
    "\n",
    "\n",
    "for i in range(3): \n",
    "    print('Component {}:'.format(i)) \n",
    "    print(articles_by_component.loc[:,i].sort_values(ascending=False)[0:5])\n",
    "\n"
   ]
  },
  {
   "cell_type": "code",
   "execution_count": null,
   "metadata": {},
   "outputs": [],
   "source": [
    "# Compute document similarity using LSA components\n",
    "similarity = np.asarray(np.asmatrix(lsa_X) * np.asmatrix(lsa_X).T)\n",
    "#Only taking the first 10 sentences\n",
    "sim_matrix=pd.DataFrame(similarity,index=test_df['content').iloc[0:10,0:10]\n",
    "#Making a plot\n",
    "ax = sns.heatmap(sim_matrix,yticklabels=range(10))\n",
    "plt.show()\n",
    "\n",
    "#Generating a key for the plot.\n",
    "print('Key:')\n",
    "for i in range(10):\n",
    "    print(i,sim_matrix.index[i])\n"
   ]
  },
  {
   "cell_type": "code",
   "execution_count": null,
   "metadata": {},
   "outputs": [],
   "source": [
    "Spacy_X = word_counts.drop(['content'], 1)\n",
    "pca = PCA(n_components=20)\n",
    "Spacy_X_pca = pca.fit_transform(Spacy_X)\n",
    "Spacy_X_pca = pd.DataFrame(Spacy_X_pca)"
   ]
  },
  {
   "cell_type": "code",
   "execution_count": null,
   "metadata": {},
   "outputs": [],
   "source": [
    "start = datetime.now()\n",
    "models = [Spacy_X_pca, lsa_X]\n",
    "kclust = np.arange(2, 11, 2)\n",
    "for k in kclust:\n",
    "    # Calculate predicted values.\n",
    "    kmeans = KMeans(n_clusters=k, random_state=0)\n",
    "    for m in models:\n",
    "        kmeans.fit(m)\n",
    "        # Check the solution against the data.\n",
    "        labelskm = kmeans.labels_\n",
    "        print(k, metrics.silhouette_score(m, labelskm, metric='euclidean'))\n",
    "print('\\nIt took the following time to complete this task:', datetime.now() - start)"
   ]
  }
 ],
 "metadata": {
  "kernelspec": {
   "display_name": "Python 3",
   "language": "python",
   "name": "python3"
  },
  "language_info": {
   "codemirror_mode": {
    "name": "ipython",
    "version": 3
   },
   "file_extension": ".py",
   "mimetype": "text/x-python",
   "name": "python",
   "nbconvert_exporter": "python",
   "pygments_lexer": "ipython3",
   "version": "3.5.5"
  }
 },
 "nbformat": 4,
 "nbformat_minor": 2
}
